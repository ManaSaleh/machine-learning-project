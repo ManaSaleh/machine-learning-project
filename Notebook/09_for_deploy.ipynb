{
 "cells": [
  {
   "cell_type": "code",
   "execution_count": 2,
   "id": "b469d34e-2131-40b3-a983-c43d56d75015",
   "metadata": {},
   "outputs": [],
   "source": [
    "# Import Libraries\n",
    "import pandas as pd\n",
    "import numpy as np\n",
    "import re\n",
    "import pickle\n",
    "from sklearn.preprocessing import OrdinalEncoder"
   ]
  },
  {
   "cell_type": "code",
   "execution_count": 3,
   "id": "e32e860c-110e-4a03-8c89-f45b589cde37",
   "metadata": {},
   "outputs": [
    {
     "name": "stdout",
     "output_type": "stream",
     "text": [
      "✅ Model loaded successfully.\n",
      "✅ Data loaded with shape (1275, 15).\n"
     ]
    }
   ],
   "source": [
    "# Load Model and Data\n",
    "model_path = \"../Models/cat_model-v4.pkl\"\n",
    "data_path = \"../Data/laptop_price - dataset.csv\"\n",
    "\n",
    "# Load Model\n",
    "with open(model_path, \"rb\") as f:\n",
    "    model = pickle.load(f)\n",
    "print(\"✅ Model loaded successfully.\")\n",
    "\n",
    "# Load Data\n",
    "df = pd.read_csv(data_path)\n",
    "print(f\"✅ Data loaded with shape {df.shape}.\")\n"
   ]
  },
  {
   "cell_type": "code",
   "execution_count": 4,
   "id": "69e62e6a-23db-4125-affe-48069ccf16ee",
   "metadata": {},
   "outputs": [],
   "source": [
    "# Memory Processing Function\n",
    "def memory_split(memory):\n",
    "    try:\n",
    "        if '+' in memory:\n",
    "            mem1, mem2 = memory.split('+')\n",
    "            mem_type = mem1.split(' ')[1] + '+' + mem2.split(' ')[1]\n",
    "            mem1_capacity = int(re.findall(r'\\d+', mem1)[0])\n",
    "            mem2_capacity = int(re.findall(r'\\d+', mem2)[0])\n",
    "            if 'GB' in mem1 and 'GB' in mem2:\n",
    "                total_capacity = mem1_capacity + mem2_capacity\n",
    "            elif 'TB' in mem1 and 'GB' in mem2:\n",
    "                total_capacity = mem1_capacity * 1024 + mem2_capacity\n",
    "            elif 'GB' in mem1 and 'TB' in mem2:\n",
    "                total_capacity = mem1_capacity + mem2_capacity * 1024\n",
    "            else:\n",
    "                total_capacity = mem1_capacity * 1024 + mem2_capacity * 1024\n",
    "            return total_capacity, mem_type\n",
    "        else:\n",
    "            capacity = int(re.findall(r'\\d+', memory)[0])\n",
    "            mem_type = memory.split(' ')[1]\n",
    "            if 'TB' in memory:\n",
    "                capacity *= 1024\n",
    "            return capacity, mem_type\n",
    "    except:\n",
    "        return np.nan, np.nan\n"
   ]
  },
  {
   "cell_type": "code",
   "execution_count": 5,
   "id": "6247a4a6-e869-4b3c-8906-a9474cceaa56",
   "metadata": {},
   "outputs": [],
   "source": [
    "# Extract Screen Resolution\n",
    "def process_screen_resolution(df):\n",
    "    df[['Resolution_Width', 'Resolution_Height']] = df['ScreenResolution'].str.extract(r'(\\d{3,4})x(\\d{3,4})').astype(int)\n",
    "    df['Contains_HD'] = df['ScreenResolution'].str.contains('HD', case=False).astype(int)\n",
    "    df['Contains_IPS'] = df['ScreenResolution'].str.contains('IPS', case=False).astype(int)\n",
    "    df['Contains_Touchscreen'] = df['ScreenResolution'].str.contains('Touchscreen', case=False).astype(int)\n",
    "    df['Contains_4K'] = df['ScreenResolution'].str.contains('4K', case=False).astype(int)\n",
    "    df['Contains_Quad_HD_plus'] = df['ScreenResolution'].str.contains('Quad HD+', case=False).astype(int)\n",
    "    df.drop(['ScreenResolution'], axis=1, inplace=True)\n"
   ]
  },
  {
   "cell_type": "code",
   "execution_count": 6,
   "id": "b6821195-98e5-4594-af93-d3ba451ae9ad",
   "metadata": {},
   "outputs": [],
   "source": [
    "# Extract CPU Features\n",
    "def extract_family(cpu_type, company):\n",
    "    patterns = {\n",
    "        \"Intel\": r'^(Core|Xeon|Pentium|Celeron|Atom|Core M)',\n",
    "        \"AMD\": r'^(Ryzen|A[0-9]|FX|Athlon|E[0-9]|Pro|Sempron)',\n",
    "        \"Samsung\": r'^(Exynos)',\n",
    "    }\n",
    "    match = re.search(patterns.get(company, 'Unknown'), cpu_type, re.IGNORECASE)\n",
    "    return match.group(1) if match else 'Unknown'\n",
    "\n",
    "def extract_generation(cpu_type, company):\n",
    "    if company == 'Intel':\n",
    "        match = re.search(r'(\\d{4,5}[A-Za-z]*)$', cpu_type)\n",
    "    elif company == 'AMD':\n",
    "        match = re.search(r'(\\d{4,5})$', cpu_type)\n",
    "    elif company == 'Samsung':\n",
    "        match = re.search(r'Exynos (\\d+)', cpu_type, re.IGNORECASE)\n",
    "    else:\n",
    "        match = None\n",
    "    return match.group(1)[:1] if match else 'Unknown'"
   ]
  },
  {
   "cell_type": "code",
   "execution_count": 7,
   "id": "bf6112f9-ade9-4627-b7dc-81da1b53109f",
   "metadata": {},
   "outputs": [],
   "source": [
    "# GPU Processing\n",
    "def process_gpu(df):\n",
    "    df['GPU_Family'] = df['GPU_Type'].apply(lambda x: x.split(' ')[0])\n",
    "    df['GPU_Series'] = df['GPU_Type'].str.extract(r'(\\d+)').fillna(df['GPU_Type'])\n",
    "    df.drop(['GPU_Type'], axis=1, inplace=True)"
   ]
  },
  {
   "cell_type": "code",
   "execution_count": 8,
   "id": "7918d24c-08e7-4b5a-bc80-e39bff831154",
   "metadata": {},
   "outputs": [],
   "source": [
    "# Apply Preprocessing to a Random Row\n",
    "random_row = df.sample(1).reset_index(drop=True)\n",
    "\n",
    "# Apply Memory Preprocessing\n",
    "random_row['Memory Capacity'], random_row['Memory Type'] = zip(*random_row['Memory'].apply(memory_split))\n",
    "random_row.drop(['Memory'], axis=1, inplace=True)\n",
    "\n",
    "# Apply Screen Resolution Processing\n",
    "process_screen_resolution(random_row)\n",
    "\n",
    "# Apply CPU Processing\n",
    "random_row['CPU_Family'] = random_row.apply(lambda row: extract_family(row['CPU_Type'], row['CPU_Company']), axis=1)\n",
    "random_row['CPU_Generation'] = random_row.apply(lambda row: extract_generation(row['CPU_Type'], row['CPU_Company']), axis=1)\n",
    "random_row.drop(['CPU_Type'], axis=1, inplace=True)\n",
    "\n",
    "# Apply GPU Processing\n",
    "process_gpu(random_row)"
   ]
  },
  {
   "cell_type": "code",
   "execution_count": 9,
   "id": "7fd3502d-7025-4742-8196-1150904f7400",
   "metadata": {},
   "outputs": [],
   "source": [
    "# Encoding Columns\n",
    "ordinal_cols = ['CPU_Family', 'CPU_Generation', 'GPU_Family', 'GPU_Series']\n",
    "\n",
    "# Apply Ordinal Encoding\n",
    "ordinal_encoder = OrdinalEncoder()\n",
    "random_row[ordinal_cols] = ordinal_encoder.fit_transform(random_row[ordinal_cols].astype(str))\n",
    "\n",
    "# Apply One-Hot Encoding\n",
    "encoding_cols = ['Company', 'Product', 'TypeName', 'CPU_Company', 'Memory Type', 'GPU_Company', 'OpSys']\n",
    "random_row_encoded = pd.get_dummies(random_row, columns=encoding_cols, drop_first=True)"
   ]
  },
  {
   "cell_type": "code",
   "execution_count": 10,
   "id": "250b9544-3b6b-489c-9398-0efb982b3c73",
   "metadata": {},
   "outputs": [
    {
     "name": "stdout",
     "output_type": "stream",
     "text": [
      "✅ The preprocessed DataFrame matches the model's expected features!\n"
     ]
    }
   ],
   "source": [
    "# Reorder Columns to Match Model's Expected Features\n",
    "model_features = model.feature_names_\n",
    "random_row_encoded = random_row_encoded.reindex(columns=model_features, fill_value=0)\n",
    "\n",
    "# Check for Missing and Extra Features\n",
    "missing_columns = set(model_features) - set(random_row_encoded.columns)\n",
    "extra_columns = set(random_row_encoded.columns) - set(model_features)\n",
    "\n",
    "# Display Results\n",
    "if not missing_columns and not extra_columns:\n",
    "    print(\"✅ The preprocessed DataFrame matches the model's expected features!\")\n",
    "else:\n",
    "    print(\"🚫 Feature Mismatch Detected!\")\n",
    "    if missing_columns:\n",
    "        print(f\"**Missing Columns:** {missing_columns}\")\n",
    "    if extra_columns:\n",
    "        print(f\"**Extra Columns:** {extra_columns}\")"
   ]
  },
  {
   "cell_type": "code",
   "execution_count": 11,
   "id": "16b28cfd-d7b6-43db-a65d-285927c44dc3",
   "metadata": {},
   "outputs": [
    {
     "name": "stdout",
     "output_type": "stream",
     "text": [
      "💻 Predicted Laptop Price: 3854.69\n"
     ]
    }
   ],
   "source": [
    "# Predict Laptop Price for Random Row\n",
    "prediction = model.predict(random_row_encoded)\n",
    "print(f\"💻 Predicted Laptop Price: {round(prediction[0], 2)}\")"
   ]
  },
  {
   "cell_type": "code",
   "execution_count": null,
   "id": "57946bf4-f1a0-42a6-8509-50120247d73a",
   "metadata": {},
   "outputs": [],
   "source": []
  }
 ],
 "metadata": {
  "kernelspec": {
   "display_name": "Python 3 (ipykernel)",
   "language": "python",
   "name": "python3"
  },
  "language_info": {
   "codemirror_mode": {
    "name": "ipython",
    "version": 3
   },
   "file_extension": ".py",
   "mimetype": "text/x-python",
   "name": "python",
   "nbconvert_exporter": "python",
   "pygments_lexer": "ipython3",
   "version": "3.12.4"
  }
 },
 "nbformat": 4,
 "nbformat_minor": 5
}
