{
 "cells": [
  {
   "cell_type": "code",
   "execution_count": 1,
   "id": "78524553-1419-4751-96c7-fe59f9f5f800",
   "metadata": {
    "id": "78524553-1419-4751-96c7-fe59f9f5f800"
   },
   "outputs": [],
   "source": [
    "import pandas as pd\n",
    "import numpy as np\n",
    "import matplotlib.pyplot as plt\n",
    "import seaborn as sns\n",
    "from sklearn.model_selection import train_test_split\n",
    "from sklearn.ensemble import RandomForestRegressor\n",
    "from sklearn.metrics import mean_squared_error, r2_score"
   ]
  },
  {
   "cell_type": "markdown",
   "id": "65jSX8n9vYSo",
   "metadata": {
    "id": "65jSX8n9vYSo"
   },
   "source": [
    "feature engineering"
   ]
  },
  {
   "cell_type": "code",
   "execution_count": 2,
   "id": "VKpsDvw7vXQ5",
   "metadata": {
    "id": "VKpsDvw7vXQ5"
   },
   "outputs": [],
   "source": [
    "data  = pd.read_csv('../Data/laptop_price - dataset.csv')"
   ]
  },
  {
   "cell_type": "code",
   "execution_count": 3,
   "id": "lMr9-MUdqalZ",
   "metadata": {
    "id": "lMr9-MUdqalZ"
   },
   "outputs": [],
   "source": [
    "exchange_rate = 3.97  # 1 EUR to SAR\n",
    "\n",
    "data['Price (SAR)'] = data['Price (Euro)'] * exchange_rate\n",
    "\n",
    "data = data.drop(columns=['Price (Euro)' , 'Product'], axis=1)"
   ]
  },
  {
   "cell_type": "markdown",
   "id": "0WuA-9SnslI4",
   "metadata": {
    "id": "0WuA-9SnslI4"
   },
   "source": [
    "splitting memory"
   ]
  },
  {
   "cell_type": "code",
   "execution_count": 4,
   "id": "YFtRjk__sqh6",
   "metadata": {
    "id": "YFtRjk__sqh6"
   },
   "outputs": [],
   "source": [
    "def memory_split(memory):\n",
    "    try:\n",
    "        if '+' in memory:\n",
    "            split_mem = memory.split('+')\n",
    "            mem1 = split_mem[0].strip()\n",
    "            mem2 = split_mem[1].strip()\n",
    "            mem_type = mem1.split(' ')[1] + '+' + mem2.split(' ')[1]\n",
    "            mem1_capacity = int(re.findall(r'\\d+', mem1)[0])\n",
    "            mem2_capacity = int(re.findall(r'\\d+', mem2)[0])\n",
    "            if 'GB' in mem1 and 'GB' in mem2:\n",
    "              total_capacity = mem1_capacity + mem2_capacity\n",
    "            elif 'TB' in mem1 and 'GB' in mem2:\n",
    "              total_capacity = mem1_capacity * 1024 + mem2_capacity\n",
    "            elif 'GB' in mem1 and 'TB' in mem2:\n",
    "              total_capacity = mem1_capacity + mem2_capacity * 1024\n",
    "            else:\n",
    "              total_capacity = mem1_capacity * 1024 + mem2_capacity * 1024\n",
    "            return total_capacity, mem_type\n",
    "        else:\n",
    "            capacity = re.findall(r'\\d+', memory)[0]\n",
    "            mem_type = memory.split(' ')[1]\n",
    "            if 'TB' in memory:\n",
    "              capacity = int(capacity) * 1024\n",
    "            return int(capacity), mem_type\n",
    "\n",
    "    except:\n",
    "        return np.nan, np.nan\n",
    "\n",
    "\n",
    "data['Memory Capacity'], data['Memory Type'] = zip(*data['Memory'].apply(memory_split))"
   ]
  },
  {
   "cell_type": "code",
   "execution_count": 5,
   "id": "GGUIcKtMsrDr",
   "metadata": {
    "id": "GGUIcKtMsrDr"
   },
   "outputs": [],
   "source": [
    "memory_cols = ['Memory Capacity', 'Memory Type']\n",
    "memory_index = data.columns.get_loc('Memory')\n",
    "for col in memory_cols:\n",
    "    data.insert(memory_index + 1, col, data.pop(col))\n",
    "data.drop(['Memory'],axis= 1,inplace=True)"
   ]
  },
  {
   "cell_type": "markdown",
   "id": "B4jBtdzMsyxz",
   "metadata": {
    "id": "B4jBtdzMsyxz"
   },
   "source": [
    "splitting screen resolution"
   ]
  },
  {
   "cell_type": "code",
   "execution_count": 6,
   "id": "J5MqjDvqsurz",
   "metadata": {
    "id": "J5MqjDvqsurz"
   },
   "outputs": [],
   "source": [
    "data[['Resolution_Width', 'Resolution_Height']] = data['ScreenResolution'].str.extract(r'(\\d{3,4})x(\\d{3,4})')\n",
    "\n",
    "\n",
    "data['Resolution_Width'] = data['Resolution_Width'].astype(int)\n",
    "data['Resolution_Height'] = data['Resolution_Height'].astype(int)\n",
    "\n",
    "\n",
    "data['Contains_HD'] = data['ScreenResolution'].str.contains('HD', case=False).astype(int)\n",
    "data['Contains_IPS'] = data['ScreenResolution'].str.contains('IPS', case=False).astype(int)\n",
    "data['Contains_Touchscreen'] = data['ScreenResolution'].str.contains('Touchscreen', case=False).astype(int)\n",
    "\n",
    "\n",
    "data['Contains_4K'] = data['ScreenResolution'].str.contains('4K', case=False).astype(int)\n",
    "data['Contains_Quad_HD_plus'] = data['ScreenResolution'].str.contains('Quad HD+', case=False).astype(int)"
   ]
  },
  {
   "cell_type": "markdown",
   "id": "LoejvB6Us4UC",
   "metadata": {
    "id": "LoejvB6Us4UC"
   },
   "source": [
    "CPU"
   ]
  },
  {
   "cell_type": "code",
   "execution_count": 7,
   "id": "YOUSG_5Ls6x0",
   "metadata": {
    "id": "YOUSG_5Ls6x0"
   },
   "outputs": [],
   "source": [
    "import re\n",
    "\n",
    "# Define functions for more precise extraction\n",
    "def extract_family(cpu_type, company):\n",
    "    if company == 'Intel':\n",
    "        return re.search(r'^(Core|Xeon|Pentium|Celeron|Atom|Core M)', cpu_type, re.IGNORECASE).group(1) if re.search(r'^(Core|Xeon|Pentium|Celeron|Atom|Core M)', cpu_type, re.IGNORECASE) else 'Unknown'\n",
    "    elif company == 'AMD':\n",
    "        return re.search(r'^(Ryzen|A[0-9]|FX|Athlon|E[0-9]|Pro|Sempron)', cpu_type, re.IGNORECASE).group(1) if re.search(r'^(Ryzen|A[0-9]|FX|Athlon|E[0-9]|Pro|Sempron)', cpu_type, re.IGNORECASE) else 'Unknown'\n",
    "    elif company == 'Samsung':\n",
    "        return re.search(r'^(Exynos)', cpu_type, re.IGNORECASE).group(1) if re.search(r'^(Exynos)', cpu_type, re.IGNORECASE) else 'Unknown'\n",
    "    return 'Unknown'\n",
    "\n",
    "def extract_generation(cpu_type, company):\n",
    "    if company == 'Intel':\n",
    "        match = re.search(r'(\\d{4,5}[A-Za-z]*)$', cpu_type)\n",
    "        return match.group(1)[:1] if match else 'Unknown'  # First digit for generation\n",
    "    elif company == 'AMD':\n",
    "        match = re.search(r'(\\d{4,5})$', cpu_type)\n",
    "        return match.group(1)[:1] if match else 'Unknown'\n",
    "    elif company == 'Samsung':\n",
    "        match = re.search(r'Exynos (\\d+)', cpu_type, re.IGNORECASE)\n",
    "        return match.group(1)[:1] if match else 'Unknown'\n",
    "    return 'Unknown'\n",
    "\n",
    "def extract_series(cpu_type, company):\n",
    "    if company == 'Intel':\n",
    "        # Extract Intel series like i3, i5, i7, or similar\n",
    "        match = re.search(r'(i3|i5|i7|i9|m3|m5)', cpu_type, re.IGNORECASE)\n",
    "        return match.group(1) if match else 'Other'\n",
    "    elif company == 'AMD':\n",
    "        # Extract the numeric series number after the family name\n",
    "        match = re.search(r'(?:A[0-9]-Series|Ryzen \\d|FX|Athlon|E[0-9])[^\\d]*(\\d+)', cpu_type, re.IGNORECASE)\n",
    "        return match.group(1) if match else 'Other'\n",
    "    elif company == 'Samsung':\n",
    "        # Extract the Exynos series number\n",
    "        match = re.search(r'Exynos (\\d+)', cpu_type, re.IGNORECASE)\n",
    "        return match.group(1) if match else 'Other'\n",
    "    return 'Other'\n",
    "\n",
    "\n",
    "# Apply the refined functions\n",
    "data['CPU_Family'] = data.apply(lambda row: extract_family(row['CPU_Type'], row['CPU_Company']), axis=1)\n",
    "data['CPU_Generation'] = data.apply(lambda row: extract_generation(row['CPU_Type'], row['CPU_Company']), axis=1)\n",
    "data['CPU_Series'] = data.apply(lambda row: extract_series(row['CPU_Type'], row['CPU_Company']), axis=1)\n"
   ]
  },
  {
   "cell_type": "code",
   "execution_count": 8,
   "id": "N4eKpyK0s_gf",
   "metadata": {
    "id": "N4eKpyK0s_gf"
   },
   "outputs": [],
   "source": [
    "data['CPU_Series'] = data.groupby(['CPU_Family', 'CPU_Generation'])['CPU_Series'].transform(\n",
    "    lambda x: x.replace('Other', x.mode()[0] if not x.mode().empty else 'Unknown')\n",
    ")"
   ]
  },
  {
   "cell_type": "code",
   "execution_count": 9,
   "id": "XTWQdccTtDhn",
   "metadata": {
    "id": "XTWQdccTtDhn"
   },
   "outputs": [],
   "source": [
    "data['CPU_Generation'] = data.groupby(['CPU_Family', 'CPU_Series'])['CPU_Generation'].transform(\n",
    "    lambda x: x.replace('Unknown', x.mode()[0] if not x.mode().empty else 'Unknown')\n",
    ")"
   ]
  },
  {
   "cell_type": "code",
   "execution_count": 10,
   "id": "8TwbQk7DtFKo",
   "metadata": {
    "id": "8TwbQk7DtFKo"
   },
   "outputs": [],
   "source": [
    "data['CPU_Family'] = data.groupby(['CPU_Generation', 'CPU_Series'])['CPU_Family'].transform(\n",
    "    lambda x: x.replace('Unknown', x.mode()[0] if not x.mode().empty else 'Unknown')\n",
    ")"
   ]
  },
  {
   "cell_type": "code",
   "execution_count": 11,
   "id": "uSIYi4c3tKE6",
   "metadata": {
    "id": "uSIYi4c3tKE6"
   },
   "outputs": [],
   "source": [
    "data=data.drop('CPU_Type',axis=1)\n"
   ]
  },
  {
   "cell_type": "code",
   "execution_count": 12,
   "id": "ns9TWZp4tZqS",
   "metadata": {
    "colab": {
     "base_uri": "https://localhost:8080/"
    },
    "id": "ns9TWZp4tZqS",
    "outputId": "0300ebd7-bbef-4e17-fff6-7acf50fc4cae"
   },
   "outputs": [
    {
     "data": {
      "text/plain": [
       "Index(['Company', 'TypeName', 'Inches', 'ScreenResolution', 'CPU_Company',\n",
       "       'CPU_Frequency (GHz)', 'RAM (GB)', 'Memory Type', 'Memory Capacity',\n",
       "       'GPU_Company', 'GPU_Type', 'OpSys', 'Weight (kg)', 'Price (SAR)',\n",
       "       'Resolution_Width', 'Resolution_Height', 'Contains_HD', 'Contains_IPS',\n",
       "       'Contains_Touchscreen', 'Contains_4K', 'Contains_Quad_HD_plus',\n",
       "       'CPU_Family', 'CPU_Generation', 'CPU_Series'],\n",
       "      dtype='object')"
      ]
     },
     "execution_count": 12,
     "metadata": {},
     "output_type": "execute_result"
    }
   ],
   "source": [
    "data.columns"
   ]
  },
  {
   "cell_type": "markdown",
   "id": "0dJAJCHGhsis",
   "metadata": {
    "id": "0dJAJCHGhsis"
   },
   "source": [
    "splitting series/family/generation for better encoding"
   ]
  },
  {
   "cell_type": "code",
   "execution_count": 13,
   "id": "EkJFBQbaZLkQ",
   "metadata": {
    "id": "EkJFBQbaZLkQ"
   },
   "outputs": [],
   "source": [
    "# Initialize new columns for extracted features\n",
    "data['Intel_Series'] = None\n",
    "data['AMD_Series'] = None\n",
    "\n",
    "# Extract Intel and AMD specific series based on CPU_Company\n",
    "data['Intel_Series'] = data.apply(\n",
    "    lambda row: row['CPU_Series'] if row['CPU_Company'] == 'Intel' else None, axis=1\n",
    ")\n",
    "data['AMD_Series'] = data.apply(\n",
    "    lambda row: row['CPU_Series'] if row['CPU_Company'] == 'AMD' else None, axis=1\n",
    ")\n",
    "\n",
    "# Display the updated dataset with the new columns\n",
    "# import ace_tools as tools; tools.display_dataframe_to_user(name=\"CPU Series Feature Extraction\", dataframe=data)\n"
   ]
  },
  {
   "cell_type": "code",
   "execution_count": 14,
   "id": "0W1DGPytZSkT",
   "metadata": {
    "colab": {
     "base_uri": "https://localhost:8080/"
    },
    "id": "0W1DGPytZSkT",
    "outputId": "4ab71b40-d7cd-42bb-c042-988da20422ae"
   },
   "outputs": [
    {
     "data": {
      "text/plain": [
       "Index(['Company', 'TypeName', 'Inches', 'ScreenResolution', 'CPU_Company',\n",
       "       'CPU_Frequency (GHz)', 'RAM (GB)', 'Memory Type', 'Memory Capacity',\n",
       "       'GPU_Company', 'GPU_Type', 'OpSys', 'Weight (kg)', 'Price (SAR)',\n",
       "       'Resolution_Width', 'Resolution_Height', 'Contains_HD', 'Contains_IPS',\n",
       "       'Contains_Touchscreen', 'Contains_4K', 'Contains_Quad_HD_plus',\n",
       "       'CPU_Family', 'CPU_Generation', 'CPU_Series', 'Intel_Series',\n",
       "       'AMD_Series'],\n",
       "      dtype='object')"
      ]
     },
     "execution_count": 14,
     "metadata": {},
     "output_type": "execute_result"
    }
   ],
   "source": [
    "data.columns"
   ]
  },
  {
   "cell_type": "code",
   "execution_count": 15,
   "id": "HvwwJ0-KZjUf",
   "metadata": {
    "id": "HvwwJ0-KZjUf"
   },
   "outputs": [],
   "source": [
    "# Add a new column for Samsung Series\n",
    "data['Samsung_Series'] = None\n",
    "\n",
    "# Extract Samsung specific series based on CPU_Company\n",
    "data['Samsung_Series'] = data.apply(\n",
    "    lambda row: row['CPU_Series'] if row['CPU_Company'] == 'Samsung' else None, axis=1\n",
    ")\n"
   ]
  },
  {
   "cell_type": "code",
   "execution_count": 16,
   "id": "ygO27cUEh2Xn",
   "metadata": {
    "colab": {
     "base_uri": "https://localhost:8080/",
     "height": 617
    },
    "id": "ygO27cUEh2Xn",
    "outputId": "51c3ef8f-6c99-476c-e954-5aef81afca35"
   },
   "outputs": [
    {
     "data": {
      "text/html": [
       "<div>\n",
       "<style scoped>\n",
       "    .dataframe tbody tr th:only-of-type {\n",
       "        vertical-align: middle;\n",
       "    }\n",
       "\n",
       "    .dataframe tbody tr th {\n",
       "        vertical-align: top;\n",
       "    }\n",
       "\n",
       "    .dataframe thead th {\n",
       "        text-align: right;\n",
       "    }\n",
       "</style>\n",
       "<table border=\"1\" class=\"dataframe\">\n",
       "  <thead>\n",
       "    <tr style=\"text-align: right;\">\n",
       "      <th></th>\n",
       "      <th>Company</th>\n",
       "      <th>TypeName</th>\n",
       "      <th>Inches</th>\n",
       "      <th>ScreenResolution</th>\n",
       "      <th>CPU_Company</th>\n",
       "      <th>CPU_Frequency (GHz)</th>\n",
       "      <th>RAM (GB)</th>\n",
       "      <th>Memory Type</th>\n",
       "      <th>Memory Capacity</th>\n",
       "      <th>GPU_Company</th>\n",
       "      <th>...</th>\n",
       "      <th>Contains_IPS</th>\n",
       "      <th>Contains_Touchscreen</th>\n",
       "      <th>Contains_4K</th>\n",
       "      <th>Contains_Quad_HD_plus</th>\n",
       "      <th>CPU_Family</th>\n",
       "      <th>CPU_Generation</th>\n",
       "      <th>CPU_Series</th>\n",
       "      <th>Intel_Series</th>\n",
       "      <th>AMD_Series</th>\n",
       "      <th>Samsung_Series</th>\n",
       "    </tr>\n",
       "  </thead>\n",
       "  <tbody>\n",
       "    <tr>\n",
       "      <th>0</th>\n",
       "      <td>Apple</td>\n",
       "      <td>Ultrabook</td>\n",
       "      <td>13.3</td>\n",
       "      <td>IPS Panel Retina Display 2560x1600</td>\n",
       "      <td>Intel</td>\n",
       "      <td>2.3</td>\n",
       "      <td>8</td>\n",
       "      <td>NaN</td>\n",
       "      <td>NaN</td>\n",
       "      <td>Intel</td>\n",
       "      <td>...</td>\n",
       "      <td>1</td>\n",
       "      <td>0</td>\n",
       "      <td>0</td>\n",
       "      <td>0</td>\n",
       "      <td>Core</td>\n",
       "      <td>7</td>\n",
       "      <td>i5</td>\n",
       "      <td>i5</td>\n",
       "      <td>None</td>\n",
       "      <td>None</td>\n",
       "    </tr>\n",
       "    <tr>\n",
       "      <th>1</th>\n",
       "      <td>Apple</td>\n",
       "      <td>Ultrabook</td>\n",
       "      <td>13.3</td>\n",
       "      <td>1440x900</td>\n",
       "      <td>Intel</td>\n",
       "      <td>1.8</td>\n",
       "      <td>8</td>\n",
       "      <td>NaN</td>\n",
       "      <td>NaN</td>\n",
       "      <td>Intel</td>\n",
       "      <td>...</td>\n",
       "      <td>0</td>\n",
       "      <td>0</td>\n",
       "      <td>0</td>\n",
       "      <td>0</td>\n",
       "      <td>Core</td>\n",
       "      <td>7</td>\n",
       "      <td>i5</td>\n",
       "      <td>i5</td>\n",
       "      <td>None</td>\n",
       "      <td>None</td>\n",
       "    </tr>\n",
       "    <tr>\n",
       "      <th>2</th>\n",
       "      <td>HP</td>\n",
       "      <td>Notebook</td>\n",
       "      <td>15.6</td>\n",
       "      <td>Full HD 1920x1080</td>\n",
       "      <td>Intel</td>\n",
       "      <td>2.5</td>\n",
       "      <td>8</td>\n",
       "      <td>NaN</td>\n",
       "      <td>NaN</td>\n",
       "      <td>Intel</td>\n",
       "      <td>...</td>\n",
       "      <td>0</td>\n",
       "      <td>0</td>\n",
       "      <td>0</td>\n",
       "      <td>0</td>\n",
       "      <td>Core</td>\n",
       "      <td>7</td>\n",
       "      <td>i5</td>\n",
       "      <td>i5</td>\n",
       "      <td>None</td>\n",
       "      <td>None</td>\n",
       "    </tr>\n",
       "    <tr>\n",
       "      <th>3</th>\n",
       "      <td>Apple</td>\n",
       "      <td>Ultrabook</td>\n",
       "      <td>15.4</td>\n",
       "      <td>IPS Panel Retina Display 2880x1800</td>\n",
       "      <td>Intel</td>\n",
       "      <td>2.7</td>\n",
       "      <td>16</td>\n",
       "      <td>NaN</td>\n",
       "      <td>NaN</td>\n",
       "      <td>AMD</td>\n",
       "      <td>...</td>\n",
       "      <td>1</td>\n",
       "      <td>0</td>\n",
       "      <td>0</td>\n",
       "      <td>0</td>\n",
       "      <td>Core</td>\n",
       "      <td>7</td>\n",
       "      <td>i7</td>\n",
       "      <td>i7</td>\n",
       "      <td>None</td>\n",
       "      <td>None</td>\n",
       "    </tr>\n",
       "    <tr>\n",
       "      <th>4</th>\n",
       "      <td>Apple</td>\n",
       "      <td>Ultrabook</td>\n",
       "      <td>13.3</td>\n",
       "      <td>IPS Panel Retina Display 2560x1600</td>\n",
       "      <td>Intel</td>\n",
       "      <td>3.1</td>\n",
       "      <td>8</td>\n",
       "      <td>NaN</td>\n",
       "      <td>NaN</td>\n",
       "      <td>Intel</td>\n",
       "      <td>...</td>\n",
       "      <td>1</td>\n",
       "      <td>0</td>\n",
       "      <td>0</td>\n",
       "      <td>0</td>\n",
       "      <td>Core</td>\n",
       "      <td>7</td>\n",
       "      <td>i5</td>\n",
       "      <td>i5</td>\n",
       "      <td>None</td>\n",
       "      <td>None</td>\n",
       "    </tr>\n",
       "    <tr>\n",
       "      <th>...</th>\n",
       "      <td>...</td>\n",
       "      <td>...</td>\n",
       "      <td>...</td>\n",
       "      <td>...</td>\n",
       "      <td>...</td>\n",
       "      <td>...</td>\n",
       "      <td>...</td>\n",
       "      <td>...</td>\n",
       "      <td>...</td>\n",
       "      <td>...</td>\n",
       "      <td>...</td>\n",
       "      <td>...</td>\n",
       "      <td>...</td>\n",
       "      <td>...</td>\n",
       "      <td>...</td>\n",
       "      <td>...</td>\n",
       "      <td>...</td>\n",
       "      <td>...</td>\n",
       "      <td>...</td>\n",
       "      <td>...</td>\n",
       "      <td>...</td>\n",
       "    </tr>\n",
       "    <tr>\n",
       "      <th>1270</th>\n",
       "      <td>Lenovo</td>\n",
       "      <td>2 in 1 Convertible</td>\n",
       "      <td>14.0</td>\n",
       "      <td>IPS Panel Full HD / Touchscreen 1920x1080</td>\n",
       "      <td>Intel</td>\n",
       "      <td>2.5</td>\n",
       "      <td>4</td>\n",
       "      <td>NaN</td>\n",
       "      <td>NaN</td>\n",
       "      <td>Intel</td>\n",
       "      <td>...</td>\n",
       "      <td>1</td>\n",
       "      <td>1</td>\n",
       "      <td>0</td>\n",
       "      <td>0</td>\n",
       "      <td>Core</td>\n",
       "      <td>6</td>\n",
       "      <td>i7</td>\n",
       "      <td>i7</td>\n",
       "      <td>None</td>\n",
       "      <td>None</td>\n",
       "    </tr>\n",
       "    <tr>\n",
       "      <th>1271</th>\n",
       "      <td>Lenovo</td>\n",
       "      <td>2 in 1 Convertible</td>\n",
       "      <td>13.3</td>\n",
       "      <td>IPS Panel Quad HD+ / Touchscreen 3200x1800</td>\n",
       "      <td>Intel</td>\n",
       "      <td>2.5</td>\n",
       "      <td>16</td>\n",
       "      <td>NaN</td>\n",
       "      <td>NaN</td>\n",
       "      <td>Intel</td>\n",
       "      <td>...</td>\n",
       "      <td>1</td>\n",
       "      <td>1</td>\n",
       "      <td>0</td>\n",
       "      <td>1</td>\n",
       "      <td>Core</td>\n",
       "      <td>6</td>\n",
       "      <td>i7</td>\n",
       "      <td>i7</td>\n",
       "      <td>None</td>\n",
       "      <td>None</td>\n",
       "    </tr>\n",
       "    <tr>\n",
       "      <th>1272</th>\n",
       "      <td>Lenovo</td>\n",
       "      <td>Notebook</td>\n",
       "      <td>14.0</td>\n",
       "      <td>1366x768</td>\n",
       "      <td>Intel</td>\n",
       "      <td>1.6</td>\n",
       "      <td>2</td>\n",
       "      <td>NaN</td>\n",
       "      <td>NaN</td>\n",
       "      <td>Intel</td>\n",
       "      <td>...</td>\n",
       "      <td>0</td>\n",
       "      <td>0</td>\n",
       "      <td>0</td>\n",
       "      <td>0</td>\n",
       "      <td>Celeron</td>\n",
       "      <td>3</td>\n",
       "      <td>Other</td>\n",
       "      <td>Other</td>\n",
       "      <td>None</td>\n",
       "      <td>None</td>\n",
       "    </tr>\n",
       "    <tr>\n",
       "      <th>1273</th>\n",
       "      <td>HP</td>\n",
       "      <td>Notebook</td>\n",
       "      <td>15.6</td>\n",
       "      <td>1366x768</td>\n",
       "      <td>Intel</td>\n",
       "      <td>2.5</td>\n",
       "      <td>6</td>\n",
       "      <td>NaN</td>\n",
       "      <td>NaN</td>\n",
       "      <td>AMD</td>\n",
       "      <td>...</td>\n",
       "      <td>0</td>\n",
       "      <td>0</td>\n",
       "      <td>0</td>\n",
       "      <td>0</td>\n",
       "      <td>Core</td>\n",
       "      <td>6</td>\n",
       "      <td>i7</td>\n",
       "      <td>i7</td>\n",
       "      <td>None</td>\n",
       "      <td>None</td>\n",
       "    </tr>\n",
       "    <tr>\n",
       "      <th>1274</th>\n",
       "      <td>Asus</td>\n",
       "      <td>Notebook</td>\n",
       "      <td>15.6</td>\n",
       "      <td>1366x768</td>\n",
       "      <td>Intel</td>\n",
       "      <td>1.6</td>\n",
       "      <td>4</td>\n",
       "      <td>NaN</td>\n",
       "      <td>NaN</td>\n",
       "      <td>Intel</td>\n",
       "      <td>...</td>\n",
       "      <td>0</td>\n",
       "      <td>0</td>\n",
       "      <td>0</td>\n",
       "      <td>0</td>\n",
       "      <td>Celeron</td>\n",
       "      <td>3</td>\n",
       "      <td>Other</td>\n",
       "      <td>Other</td>\n",
       "      <td>None</td>\n",
       "      <td>None</td>\n",
       "    </tr>\n",
       "  </tbody>\n",
       "</table>\n",
       "<p>1274 rows × 27 columns</p>\n",
       "</div>"
      ],
      "text/plain": [
       "     Company            TypeName  Inches  \\\n",
       "0      Apple           Ultrabook    13.3   \n",
       "1      Apple           Ultrabook    13.3   \n",
       "2         HP            Notebook    15.6   \n",
       "3      Apple           Ultrabook    15.4   \n",
       "4      Apple           Ultrabook    13.3   \n",
       "...      ...                 ...     ...   \n",
       "1270  Lenovo  2 in 1 Convertible    14.0   \n",
       "1271  Lenovo  2 in 1 Convertible    13.3   \n",
       "1272  Lenovo            Notebook    14.0   \n",
       "1273      HP            Notebook    15.6   \n",
       "1274    Asus            Notebook    15.6   \n",
       "\n",
       "                                ScreenResolution CPU_Company  \\\n",
       "0             IPS Panel Retina Display 2560x1600       Intel   \n",
       "1                                       1440x900       Intel   \n",
       "2                              Full HD 1920x1080       Intel   \n",
       "3             IPS Panel Retina Display 2880x1800       Intel   \n",
       "4             IPS Panel Retina Display 2560x1600       Intel   \n",
       "...                                          ...         ...   \n",
       "1270   IPS Panel Full HD / Touchscreen 1920x1080       Intel   \n",
       "1271  IPS Panel Quad HD+ / Touchscreen 3200x1800       Intel   \n",
       "1272                                    1366x768       Intel   \n",
       "1273                                    1366x768       Intel   \n",
       "1274                                    1366x768       Intel   \n",
       "\n",
       "      CPU_Frequency (GHz)  RAM (GB)  Memory Type  Memory Capacity GPU_Company  \\\n",
       "0                     2.3         8          NaN              NaN       Intel   \n",
       "1                     1.8         8          NaN              NaN       Intel   \n",
       "2                     2.5         8          NaN              NaN       Intel   \n",
       "3                     2.7        16          NaN              NaN         AMD   \n",
       "4                     3.1         8          NaN              NaN       Intel   \n",
       "...                   ...       ...          ...              ...         ...   \n",
       "1270                  2.5         4          NaN              NaN       Intel   \n",
       "1271                  2.5        16          NaN              NaN       Intel   \n",
       "1272                  1.6         2          NaN              NaN       Intel   \n",
       "1273                  2.5         6          NaN              NaN         AMD   \n",
       "1274                  1.6         4          NaN              NaN       Intel   \n",
       "\n",
       "      ... Contains_IPS Contains_Touchscreen  Contains_4K  \\\n",
       "0     ...            1                    0            0   \n",
       "1     ...            0                    0            0   \n",
       "2     ...            0                    0            0   \n",
       "3     ...            1                    0            0   \n",
       "4     ...            1                    0            0   \n",
       "...   ...          ...                  ...          ...   \n",
       "1270  ...            1                    1            0   \n",
       "1271  ...            1                    1            0   \n",
       "1272  ...            0                    0            0   \n",
       "1273  ...            0                    0            0   \n",
       "1274  ...            0                    0            0   \n",
       "\n",
       "      Contains_Quad_HD_plus  CPU_Family  CPU_Generation  CPU_Series  \\\n",
       "0                         0        Core               7          i5   \n",
       "1                         0        Core               7          i5   \n",
       "2                         0        Core               7          i5   \n",
       "3                         0        Core               7          i7   \n",
       "4                         0        Core               7          i5   \n",
       "...                     ...         ...             ...         ...   \n",
       "1270                      0        Core               6          i7   \n",
       "1271                      1        Core               6          i7   \n",
       "1272                      0     Celeron               3       Other   \n",
       "1273                      0        Core               6          i7   \n",
       "1274                      0     Celeron               3       Other   \n",
       "\n",
       "      Intel_Series  AMD_Series  Samsung_Series  \n",
       "0               i5        None            None  \n",
       "1               i5        None            None  \n",
       "2               i5        None            None  \n",
       "3               i7        None            None  \n",
       "4               i5        None            None  \n",
       "...            ...         ...             ...  \n",
       "1270            i7        None            None  \n",
       "1271            i7        None            None  \n",
       "1272         Other        None            None  \n",
       "1273            i7        None            None  \n",
       "1274         Other        None            None  \n",
       "\n",
       "[1274 rows x 27 columns]"
      ]
     },
     "execution_count": 16,
     "metadata": {},
     "output_type": "execute_result"
    }
   ],
   "source": [
    "data[data['Samsung_Series'].isna()]"
   ]
  },
  {
   "cell_type": "code",
   "execution_count": 17,
   "id": "DiUfkXjlZxrA",
   "metadata": {
    "colab": {
     "base_uri": "https://localhost:8080/"
    },
    "id": "DiUfkXjlZxrA",
    "outputId": "42723e4f-aad9-4d86-a96e-da0b3f9cebc6"
   },
   "outputs": [
    {
     "data": {
      "text/plain": [
       "27"
      ]
     },
     "execution_count": 17,
     "metadata": {},
     "output_type": "execute_result"
    }
   ],
   "source": [
    "len(data.columns)"
   ]
  },
  {
   "cell_type": "code",
   "execution_count": 18,
   "id": "jhOcIrixZ1Dg",
   "metadata": {
    "colab": {
     "base_uri": "https://localhost:8080/"
    },
    "id": "jhOcIrixZ1Dg",
    "outputId": "acd067e3-5ea5-45d3-efa9-f29ac2e14624"
   },
   "outputs": [
    {
     "data": {
      "text/plain": [
       "array(['Core', 'A9', 'Atom', 'Unknown', 'A6', 'Celeron', 'Ryzen',\n",
       "       'Pentium', 'FX', 'Xeon', 'A1', 'A8', 'A4'], dtype=object)"
      ]
     },
     "execution_count": 18,
     "metadata": {},
     "output_type": "execute_result"
    }
   ],
   "source": [
    "data.CPU_Family.unique()"
   ]
  },
  {
   "cell_type": "code",
   "execution_count": 19,
   "id": "5Ke_qLWFaM93",
   "metadata": {
    "colab": {
     "base_uri": "https://localhost:8080/",
     "height": 363
    },
    "id": "5Ke_qLWFaM93",
    "outputId": "b8e6838e-654a-4a77-8b0d-66303d00b01b"
   },
   "outputs": [
    {
     "data": {
      "text/html": [
       "<div>\n",
       "<style scoped>\n",
       "    .dataframe tbody tr th:only-of-type {\n",
       "        vertical-align: middle;\n",
       "    }\n",
       "\n",
       "    .dataframe tbody tr th {\n",
       "        vertical-align: top;\n",
       "    }\n",
       "\n",
       "    .dataframe thead th {\n",
       "        text-align: right;\n",
       "    }\n",
       "</style>\n",
       "<table border=\"1\" class=\"dataframe\">\n",
       "  <thead>\n",
       "    <tr style=\"text-align: right;\">\n",
       "      <th></th>\n",
       "      <th>CPU_Company</th>\n",
       "      <th>CPU_Family</th>\n",
       "    </tr>\n",
       "  </thead>\n",
       "  <tbody>\n",
       "    <tr>\n",
       "      <th>0</th>\n",
       "      <td>Intel</td>\n",
       "      <td>Core</td>\n",
       "    </tr>\n",
       "    <tr>\n",
       "      <th>1</th>\n",
       "      <td>Intel</td>\n",
       "      <td>Core</td>\n",
       "    </tr>\n",
       "    <tr>\n",
       "      <th>2</th>\n",
       "      <td>Intel</td>\n",
       "      <td>Core</td>\n",
       "    </tr>\n",
       "    <tr>\n",
       "      <th>3</th>\n",
       "      <td>Intel</td>\n",
       "      <td>Core</td>\n",
       "    </tr>\n",
       "    <tr>\n",
       "      <th>4</th>\n",
       "      <td>Intel</td>\n",
       "      <td>Core</td>\n",
       "    </tr>\n",
       "    <tr>\n",
       "      <th>5</th>\n",
       "      <td>AMD</td>\n",
       "      <td>A9</td>\n",
       "    </tr>\n",
       "    <tr>\n",
       "      <th>6</th>\n",
       "      <td>Intel</td>\n",
       "      <td>Core</td>\n",
       "    </tr>\n",
       "    <tr>\n",
       "      <th>7</th>\n",
       "      <td>Intel</td>\n",
       "      <td>Core</td>\n",
       "    </tr>\n",
       "    <tr>\n",
       "      <th>8</th>\n",
       "      <td>Intel</td>\n",
       "      <td>Core</td>\n",
       "    </tr>\n",
       "    <tr>\n",
       "      <th>9</th>\n",
       "      <td>Intel</td>\n",
       "      <td>Core</td>\n",
       "    </tr>\n",
       "  </tbody>\n",
       "</table>\n",
       "</div>"
      ],
      "text/plain": [
       "  CPU_Company CPU_Family\n",
       "0       Intel       Core\n",
       "1       Intel       Core\n",
       "2       Intel       Core\n",
       "3       Intel       Core\n",
       "4       Intel       Core\n",
       "5         AMD         A9\n",
       "6       Intel       Core\n",
       "7       Intel       Core\n",
       "8       Intel       Core\n",
       "9       Intel       Core"
      ]
     },
     "execution_count": 19,
     "metadata": {},
     "output_type": "execute_result"
    }
   ],
   "source": [
    "data[['CPU_Company', 'CPU_Family']].head(10)"
   ]
  },
  {
   "cell_type": "code",
   "execution_count": 20,
   "id": "DO972bALcLqc",
   "metadata": {
    "id": "DO972bALcLqc"
   },
   "outputs": [],
   "source": [
    "# Add new columns for CPU families and generations by company\n",
    "data['Intel_Family'] = None\n",
    "data['AMD_Family'] = None\n",
    "data['Samsung_Family'] = None\n",
    "\n",
    "data['Intel_Generation'] = None\n",
    "data['AMD_Generation'] = None\n",
    "data['Samsung_Generation'] = None\n",
    "\n",
    "# Extract CPU families and generations based on CPU_Company\n",
    "data['Intel_Family'] = data.apply(\n",
    "    lambda row: row['CPU_Family'] if row['CPU_Company'] == 'Intel' else None, axis=1\n",
    ")\n",
    "data['AMD_Family'] = data.apply(\n",
    "    lambda row: row['CPU_Family'] if row['CPU_Company'] == 'AMD' else None, axis=1\n",
    ")\n",
    "data['Samsung_Family'] = data.apply(\n",
    "    lambda row: row['CPU_Family'] if row['CPU_Company'] == 'Samsung' else None, axis=1\n",
    ")\n",
    "\n",
    "data['Intel_Generation'] = data.apply(\n",
    "    lambda row: row['CPU_Generation'] if row['CPU_Company'] == 'Intel' else None, axis=1\n",
    ")\n",
    "data['AMD_Generation'] = data.apply(\n",
    "    lambda row: row['CPU_Generation'] if row['CPU_Company'] == 'AMD' else None, axis=1\n",
    ")\n",
    "data['Samsung_Generation'] = data.apply(\n",
    "    lambda row: row['CPU_Generation'] if row['CPU_Company'] == 'Samsung' else None, axis=1\n",
    ")\n",
    "\n",
    "# Display the updated dataset with separated family and generation columns by company\n",
    "# tools.display_dataframe_to_user(name=\"Updated CPU Family and Generation Feature Extraction\", dataframe=data)\n"
   ]
  },
  {
   "cell_type": "code",
   "execution_count": 21,
   "id": "DLk6NzRycrP1",
   "metadata": {
    "colab": {
     "base_uri": "https://localhost:8080/",
     "height": 1000
    },
    "id": "DLk6NzRycrP1",
    "outputId": "dc7b802f-5e8c-4336-f232-f0601c149d02"
   },
   "outputs": [
    {
     "data": {
      "text/html": [
       "<div>\n",
       "<style scoped>\n",
       "    .dataframe tbody tr th:only-of-type {\n",
       "        vertical-align: middle;\n",
       "    }\n",
       "\n",
       "    .dataframe tbody tr th {\n",
       "        vertical-align: top;\n",
       "    }\n",
       "\n",
       "    .dataframe thead th {\n",
       "        text-align: right;\n",
       "    }\n",
       "</style>\n",
       "<table border=\"1\" class=\"dataframe\">\n",
       "  <thead>\n",
       "    <tr style=\"text-align: right;\">\n",
       "      <th></th>\n",
       "      <th>Intel_Series</th>\n",
       "      <th>AMD_Series</th>\n",
       "      <th>Samsung_Series</th>\n",
       "      <th>Intel_Family</th>\n",
       "      <th>AMD_Family</th>\n",
       "      <th>Samsung_Family</th>\n",
       "      <th>Intel_Generation</th>\n",
       "      <th>AMD_Generation</th>\n",
       "      <th>Samsung_Generation</th>\n",
       "    </tr>\n",
       "  </thead>\n",
       "  <tbody>\n",
       "    <tr>\n",
       "      <th>0</th>\n",
       "      <td>i5</td>\n",
       "      <td>None</td>\n",
       "      <td>None</td>\n",
       "      <td>Core</td>\n",
       "      <td>None</td>\n",
       "      <td>None</td>\n",
       "      <td>7</td>\n",
       "      <td>None</td>\n",
       "      <td>None</td>\n",
       "    </tr>\n",
       "    <tr>\n",
       "      <th>1</th>\n",
       "      <td>i5</td>\n",
       "      <td>None</td>\n",
       "      <td>None</td>\n",
       "      <td>Core</td>\n",
       "      <td>None</td>\n",
       "      <td>None</td>\n",
       "      <td>7</td>\n",
       "      <td>None</td>\n",
       "      <td>None</td>\n",
       "    </tr>\n",
       "    <tr>\n",
       "      <th>2</th>\n",
       "      <td>i5</td>\n",
       "      <td>None</td>\n",
       "      <td>None</td>\n",
       "      <td>Core</td>\n",
       "      <td>None</td>\n",
       "      <td>None</td>\n",
       "      <td>7</td>\n",
       "      <td>None</td>\n",
       "      <td>None</td>\n",
       "    </tr>\n",
       "    <tr>\n",
       "      <th>3</th>\n",
       "      <td>i7</td>\n",
       "      <td>None</td>\n",
       "      <td>None</td>\n",
       "      <td>Core</td>\n",
       "      <td>None</td>\n",
       "      <td>None</td>\n",
       "      <td>7</td>\n",
       "      <td>None</td>\n",
       "      <td>None</td>\n",
       "    </tr>\n",
       "    <tr>\n",
       "      <th>4</th>\n",
       "      <td>i5</td>\n",
       "      <td>None</td>\n",
       "      <td>None</td>\n",
       "      <td>Core</td>\n",
       "      <td>None</td>\n",
       "      <td>None</td>\n",
       "      <td>7</td>\n",
       "      <td>None</td>\n",
       "      <td>None</td>\n",
       "    </tr>\n",
       "    <tr>\n",
       "      <th>5</th>\n",
       "      <td>None</td>\n",
       "      <td>9420</td>\n",
       "      <td>None</td>\n",
       "      <td>None</td>\n",
       "      <td>A9</td>\n",
       "      <td>None</td>\n",
       "      <td>None</td>\n",
       "      <td>9</td>\n",
       "      <td>None</td>\n",
       "    </tr>\n",
       "    <tr>\n",
       "      <th>6</th>\n",
       "      <td>i7</td>\n",
       "      <td>None</td>\n",
       "      <td>None</td>\n",
       "      <td>Core</td>\n",
       "      <td>None</td>\n",
       "      <td>None</td>\n",
       "      <td>7</td>\n",
       "      <td>None</td>\n",
       "      <td>None</td>\n",
       "    </tr>\n",
       "    <tr>\n",
       "      <th>7</th>\n",
       "      <td>i5</td>\n",
       "      <td>None</td>\n",
       "      <td>None</td>\n",
       "      <td>Core</td>\n",
       "      <td>None</td>\n",
       "      <td>None</td>\n",
       "      <td>7</td>\n",
       "      <td>None</td>\n",
       "      <td>None</td>\n",
       "    </tr>\n",
       "    <tr>\n",
       "      <th>8</th>\n",
       "      <td>i7</td>\n",
       "      <td>None</td>\n",
       "      <td>None</td>\n",
       "      <td>Core</td>\n",
       "      <td>None</td>\n",
       "      <td>None</td>\n",
       "      <td>8</td>\n",
       "      <td>None</td>\n",
       "      <td>None</td>\n",
       "    </tr>\n",
       "    <tr>\n",
       "      <th>9</th>\n",
       "      <td>i5</td>\n",
       "      <td>None</td>\n",
       "      <td>None</td>\n",
       "      <td>Core</td>\n",
       "      <td>None</td>\n",
       "      <td>None</td>\n",
       "      <td>8</td>\n",
       "      <td>None</td>\n",
       "      <td>None</td>\n",
       "    </tr>\n",
       "    <tr>\n",
       "      <th>10</th>\n",
       "      <td>i5</td>\n",
       "      <td>None</td>\n",
       "      <td>None</td>\n",
       "      <td>Core</td>\n",
       "      <td>None</td>\n",
       "      <td>None</td>\n",
       "      <td>7</td>\n",
       "      <td>None</td>\n",
       "      <td>None</td>\n",
       "    </tr>\n",
       "    <tr>\n",
       "      <th>11</th>\n",
       "      <td>i3</td>\n",
       "      <td>None</td>\n",
       "      <td>None</td>\n",
       "      <td>Core</td>\n",
       "      <td>None</td>\n",
       "      <td>None</td>\n",
       "      <td>6</td>\n",
       "      <td>None</td>\n",
       "      <td>None</td>\n",
       "    </tr>\n",
       "    <tr>\n",
       "      <th>12</th>\n",
       "      <td>i7</td>\n",
       "      <td>None</td>\n",
       "      <td>None</td>\n",
       "      <td>Core</td>\n",
       "      <td>None</td>\n",
       "      <td>None</td>\n",
       "      <td>7</td>\n",
       "      <td>None</td>\n",
       "      <td>None</td>\n",
       "    </tr>\n",
       "    <tr>\n",
       "      <th>13</th>\n",
       "      <td>i3</td>\n",
       "      <td>None</td>\n",
       "      <td>None</td>\n",
       "      <td>Core</td>\n",
       "      <td>None</td>\n",
       "      <td>None</td>\n",
       "      <td>6</td>\n",
       "      <td>None</td>\n",
       "      <td>None</td>\n",
       "    </tr>\n",
       "    <tr>\n",
       "      <th>14</th>\n",
       "      <td>m3</td>\n",
       "      <td>None</td>\n",
       "      <td>None</td>\n",
       "      <td>Core</td>\n",
       "      <td>None</td>\n",
       "      <td>None</td>\n",
       "      <td>Unknown</td>\n",
       "      <td>None</td>\n",
       "      <td>None</td>\n",
       "    </tr>\n",
       "    <tr>\n",
       "      <th>15</th>\n",
       "      <td>i5</td>\n",
       "      <td>None</td>\n",
       "      <td>None</td>\n",
       "      <td>Core</td>\n",
       "      <td>None</td>\n",
       "      <td>None</td>\n",
       "      <td>7</td>\n",
       "      <td>None</td>\n",
       "      <td>None</td>\n",
       "    </tr>\n",
       "    <tr>\n",
       "      <th>16</th>\n",
       "      <td>i7</td>\n",
       "      <td>None</td>\n",
       "      <td>None</td>\n",
       "      <td>Core</td>\n",
       "      <td>None</td>\n",
       "      <td>None</td>\n",
       "      <td>7</td>\n",
       "      <td>None</td>\n",
       "      <td>None</td>\n",
       "    </tr>\n",
       "    <tr>\n",
       "      <th>17</th>\n",
       "      <td>i7</td>\n",
       "      <td>None</td>\n",
       "      <td>None</td>\n",
       "      <td>Core</td>\n",
       "      <td>None</td>\n",
       "      <td>None</td>\n",
       "      <td>7</td>\n",
       "      <td>None</td>\n",
       "      <td>None</td>\n",
       "    </tr>\n",
       "    <tr>\n",
       "      <th>18</th>\n",
       "      <td>i3</td>\n",
       "      <td>None</td>\n",
       "      <td>None</td>\n",
       "      <td>Core</td>\n",
       "      <td>None</td>\n",
       "      <td>None</td>\n",
       "      <td>7</td>\n",
       "      <td>None</td>\n",
       "      <td>None</td>\n",
       "    </tr>\n",
       "    <tr>\n",
       "      <th>19</th>\n",
       "      <td>i5</td>\n",
       "      <td>None</td>\n",
       "      <td>None</td>\n",
       "      <td>Core</td>\n",
       "      <td>None</td>\n",
       "      <td>None</td>\n",
       "      <td>8</td>\n",
       "      <td>None</td>\n",
       "      <td>None</td>\n",
       "    </tr>\n",
       "    <tr>\n",
       "      <th>20</th>\n",
       "      <td>Other</td>\n",
       "      <td>None</td>\n",
       "      <td>None</td>\n",
       "      <td>Atom</td>\n",
       "      <td>None</td>\n",
       "      <td>None</td>\n",
       "      <td>8</td>\n",
       "      <td>None</td>\n",
       "      <td>None</td>\n",
       "    </tr>\n",
       "    <tr>\n",
       "      <th>21</th>\n",
       "      <td>i5</td>\n",
       "      <td>None</td>\n",
       "      <td>None</td>\n",
       "      <td>Core</td>\n",
       "      <td>None</td>\n",
       "      <td>None</td>\n",
       "      <td>7</td>\n",
       "      <td>None</td>\n",
       "      <td>None</td>\n",
       "    </tr>\n",
       "    <tr>\n",
       "      <th>22</th>\n",
       "      <td>None</td>\n",
       "      <td>9000</td>\n",
       "      <td>None</td>\n",
       "      <td>None</td>\n",
       "      <td>Unknown</td>\n",
       "      <td>None</td>\n",
       "      <td>None</td>\n",
       "      <td>Unknown</td>\n",
       "      <td>None</td>\n",
       "    </tr>\n",
       "    <tr>\n",
       "      <th>23</th>\n",
       "      <td>i5</td>\n",
       "      <td>None</td>\n",
       "      <td>None</td>\n",
       "      <td>Core</td>\n",
       "      <td>None</td>\n",
       "      <td>None</td>\n",
       "      <td>8</td>\n",
       "      <td>None</td>\n",
       "      <td>None</td>\n",
       "    </tr>\n",
       "    <tr>\n",
       "      <th>24</th>\n",
       "      <td>i7</td>\n",
       "      <td>None</td>\n",
       "      <td>None</td>\n",
       "      <td>Core</td>\n",
       "      <td>None</td>\n",
       "      <td>None</td>\n",
       "      <td>8</td>\n",
       "      <td>None</td>\n",
       "      <td>None</td>\n",
       "    </tr>\n",
       "    <tr>\n",
       "      <th>25</th>\n",
       "      <td>i3</td>\n",
       "      <td>None</td>\n",
       "      <td>None</td>\n",
       "      <td>Core</td>\n",
       "      <td>None</td>\n",
       "      <td>None</td>\n",
       "      <td>6</td>\n",
       "      <td>None</td>\n",
       "      <td>None</td>\n",
       "    </tr>\n",
       "    <tr>\n",
       "      <th>26</th>\n",
       "      <td>i5</td>\n",
       "      <td>None</td>\n",
       "      <td>None</td>\n",
       "      <td>Core</td>\n",
       "      <td>None</td>\n",
       "      <td>None</td>\n",
       "      <td>7</td>\n",
       "      <td>None</td>\n",
       "      <td>None</td>\n",
       "    </tr>\n",
       "    <tr>\n",
       "      <th>27</th>\n",
       "      <td>i5</td>\n",
       "      <td>None</td>\n",
       "      <td>None</td>\n",
       "      <td>Core</td>\n",
       "      <td>None</td>\n",
       "      <td>None</td>\n",
       "      <td>8</td>\n",
       "      <td>None</td>\n",
       "      <td>None</td>\n",
       "    </tr>\n",
       "    <tr>\n",
       "      <th>28</th>\n",
       "      <td>i7</td>\n",
       "      <td>None</td>\n",
       "      <td>None</td>\n",
       "      <td>Core</td>\n",
       "      <td>None</td>\n",
       "      <td>None</td>\n",
       "      <td>8</td>\n",
       "      <td>None</td>\n",
       "      <td>None</td>\n",
       "    </tr>\n",
       "    <tr>\n",
       "      <th>29</th>\n",
       "      <td>i5</td>\n",
       "      <td>None</td>\n",
       "      <td>None</td>\n",
       "      <td>Core</td>\n",
       "      <td>None</td>\n",
       "      <td>None</td>\n",
       "      <td>8</td>\n",
       "      <td>None</td>\n",
       "      <td>None</td>\n",
       "    </tr>\n",
       "  </tbody>\n",
       "</table>\n",
       "</div>"
      ],
      "text/plain": [
       "   Intel_Series AMD_Series Samsung_Series Intel_Family AMD_Family  \\\n",
       "0            i5       None           None         Core       None   \n",
       "1            i5       None           None         Core       None   \n",
       "2            i5       None           None         Core       None   \n",
       "3            i7       None           None         Core       None   \n",
       "4            i5       None           None         Core       None   \n",
       "5          None       9420           None         None         A9   \n",
       "6            i7       None           None         Core       None   \n",
       "7            i5       None           None         Core       None   \n",
       "8            i7       None           None         Core       None   \n",
       "9            i5       None           None         Core       None   \n",
       "10           i5       None           None         Core       None   \n",
       "11           i3       None           None         Core       None   \n",
       "12           i7       None           None         Core       None   \n",
       "13           i3       None           None         Core       None   \n",
       "14           m3       None           None         Core       None   \n",
       "15           i5       None           None         Core       None   \n",
       "16           i7       None           None         Core       None   \n",
       "17           i7       None           None         Core       None   \n",
       "18           i3       None           None         Core       None   \n",
       "19           i5       None           None         Core       None   \n",
       "20        Other       None           None         Atom       None   \n",
       "21           i5       None           None         Core       None   \n",
       "22         None       9000           None         None    Unknown   \n",
       "23           i5       None           None         Core       None   \n",
       "24           i7       None           None         Core       None   \n",
       "25           i3       None           None         Core       None   \n",
       "26           i5       None           None         Core       None   \n",
       "27           i5       None           None         Core       None   \n",
       "28           i7       None           None         Core       None   \n",
       "29           i5       None           None         Core       None   \n",
       "\n",
       "   Samsung_Family Intel_Generation AMD_Generation Samsung_Generation  \n",
       "0            None                7           None               None  \n",
       "1            None                7           None               None  \n",
       "2            None                7           None               None  \n",
       "3            None                7           None               None  \n",
       "4            None                7           None               None  \n",
       "5            None             None              9               None  \n",
       "6            None                7           None               None  \n",
       "7            None                7           None               None  \n",
       "8            None                8           None               None  \n",
       "9            None                8           None               None  \n",
       "10           None                7           None               None  \n",
       "11           None                6           None               None  \n",
       "12           None                7           None               None  \n",
       "13           None                6           None               None  \n",
       "14           None          Unknown           None               None  \n",
       "15           None                7           None               None  \n",
       "16           None                7           None               None  \n",
       "17           None                7           None               None  \n",
       "18           None                7           None               None  \n",
       "19           None                8           None               None  \n",
       "20           None                8           None               None  \n",
       "21           None                7           None               None  \n",
       "22           None             None        Unknown               None  \n",
       "23           None                8           None               None  \n",
       "24           None                8           None               None  \n",
       "25           None                6           None               None  \n",
       "26           None                7           None               None  \n",
       "27           None                8           None               None  \n",
       "28           None                8           None               None  \n",
       "29           None                8           None               None  "
      ]
     },
     "execution_count": 21,
     "metadata": {},
     "output_type": "execute_result"
    }
   ],
   "source": [
    "data[['Intel_Series', 'AMD_Series', 'Samsung_Series', 'Intel_Family',\n",
    "       'AMD_Family', 'Samsung_Family', 'Intel_Generation', 'AMD_Generation',\n",
    "       'Samsung_Generation']].head(30)"
   ]
  },
  {
   "cell_type": "code",
   "execution_count": 22,
   "id": "43G8ai4Xcu7w",
   "metadata": {
    "colab": {
     "base_uri": "https://localhost:8080/"
    },
    "id": "43G8ai4Xcu7w",
    "outputId": "4121e99c-bf93-42d2-daca-ad4f718cd550"
   },
   "outputs": [
    {
     "data": {
      "text/plain": [
       "33"
      ]
     },
     "execution_count": 22,
     "metadata": {},
     "output_type": "execute_result"
    }
   ],
   "source": [
    "len(data.columns)"
   ]
  },
  {
   "cell_type": "code",
   "execution_count": 23,
   "id": "LG-5ExjXc2Yd",
   "metadata": {
    "colab": {
     "base_uri": "https://localhost:8080/"
    },
    "id": "LG-5ExjXc2Yd",
    "outputId": "ad7629dc-9062-4d0e-ad59-4fc822008c14"
   },
   "outputs": [
    {
     "name": "stdout",
     "output_type": "stream",
     "text": [
      "<class 'pandas.core.frame.DataFrame'>\n",
      "RangeIndex: 1275 entries, 0 to 1274\n",
      "Data columns (total 33 columns):\n",
      " #   Column                 Non-Null Count  Dtype  \n",
      "---  ------                 --------------  -----  \n",
      " 0   Company                1275 non-null   object \n",
      " 1   TypeName               1275 non-null   object \n",
      " 2   Inches                 1275 non-null   float64\n",
      " 3   ScreenResolution       1275 non-null   object \n",
      " 4   CPU_Company            1275 non-null   object \n",
      " 5   CPU_Frequency (GHz)    1275 non-null   float64\n",
      " 6   RAM (GB)               1275 non-null   int64  \n",
      " 7   Memory Type            0 non-null      float64\n",
      " 8   Memory Capacity        0 non-null      float64\n",
      " 9   GPU_Company            1275 non-null   object \n",
      " 10  GPU_Type               1275 non-null   object \n",
      " 11  OpSys                  1275 non-null   object \n",
      " 12  Weight (kg)            1275 non-null   float64\n",
      " 13  Price (SAR)            1275 non-null   float64\n",
      " 14  Resolution_Width       1275 non-null   int64  \n",
      " 15  Resolution_Height      1275 non-null   int64  \n",
      " 16  Contains_HD            1275 non-null   int64  \n",
      " 17  Contains_IPS           1275 non-null   int64  \n",
      " 18  Contains_Touchscreen   1275 non-null   int64  \n",
      " 19  Contains_4K            1275 non-null   int64  \n",
      " 20  Contains_Quad_HD_plus  1275 non-null   int64  \n",
      " 21  CPU_Family             1275 non-null   object \n",
      " 22  CPU_Generation         1275 non-null   object \n",
      " 23  CPU_Series             1275 non-null   object \n",
      " 24  Intel_Series           1214 non-null   object \n",
      " 25  AMD_Series             60 non-null     object \n",
      " 26  Samsung_Series         1 non-null      object \n",
      " 27  Intel_Family           1214 non-null   object \n",
      " 28  AMD_Family             60 non-null     object \n",
      " 29  Samsung_Family         1 non-null      object \n",
      " 30  Intel_Generation       1214 non-null   object \n",
      " 31  AMD_Generation         60 non-null     object \n",
      " 32  Samsung_Generation     1 non-null      object \n",
      "dtypes: float64(6), int64(8), object(19)\n",
      "memory usage: 328.8+ KB\n"
     ]
    }
   ],
   "source": [
    "data.info()"
   ]
  },
  {
   "cell_type": "code",
   "execution_count": 24,
   "id": "UQS6-rCOdA4K",
   "metadata": {
    "colab": {
     "base_uri": "https://localhost:8080/"
    },
    "id": "UQS6-rCOdA4K",
    "outputId": "cd39bf4e-421a-49a2-964a-28f62caa696e"
   },
   "outputs": [
    {
     "data": {
      "text/plain": [
       "106"
      ]
     },
     "execution_count": 24,
     "metadata": {},
     "output_type": "execute_result"
    }
   ],
   "source": [
    "data['GPU_Type'].nunique()"
   ]
  },
  {
   "cell_type": "code",
   "execution_count": 25,
   "id": "4R8ZnCQ8fGN6",
   "metadata": {
    "colab": {
     "base_uri": "https://localhost:8080/",
     "height": 206
    },
    "id": "4R8ZnCQ8fGN6",
    "outputId": "8999b399-0620-453c-e2b3-7d838fe37c81"
   },
   "outputs": [
    {
     "data": {
      "text/html": [
       "<div>\n",
       "<style scoped>\n",
       "    .dataframe tbody tr th:only-of-type {\n",
       "        vertical-align: middle;\n",
       "    }\n",
       "\n",
       "    .dataframe tbody tr th {\n",
       "        vertical-align: top;\n",
       "    }\n",
       "\n",
       "    .dataframe thead th {\n",
       "        text-align: right;\n",
       "    }\n",
       "</style>\n",
       "<table border=\"1\" class=\"dataframe\">\n",
       "  <thead>\n",
       "    <tr style=\"text-align: right;\">\n",
       "      <th></th>\n",
       "      <th>GPU_Company</th>\n",
       "      <th>GPU_Type</th>\n",
       "    </tr>\n",
       "  </thead>\n",
       "  <tbody>\n",
       "    <tr>\n",
       "      <th>0</th>\n",
       "      <td>Intel</td>\n",
       "      <td>Iris Plus Graphics 640</td>\n",
       "    </tr>\n",
       "    <tr>\n",
       "      <th>1</th>\n",
       "      <td>Intel</td>\n",
       "      <td>HD Graphics 6000</td>\n",
       "    </tr>\n",
       "    <tr>\n",
       "      <th>2</th>\n",
       "      <td>Intel</td>\n",
       "      <td>HD Graphics 620</td>\n",
       "    </tr>\n",
       "    <tr>\n",
       "      <th>3</th>\n",
       "      <td>AMD</td>\n",
       "      <td>Radeon Pro 455</td>\n",
       "    </tr>\n",
       "    <tr>\n",
       "      <th>4</th>\n",
       "      <td>Intel</td>\n",
       "      <td>Iris Plus Graphics 650</td>\n",
       "    </tr>\n",
       "  </tbody>\n",
       "</table>\n",
       "</div>"
      ],
      "text/plain": [
       "  GPU_Company                GPU_Type\n",
       "0       Intel  Iris Plus Graphics 640\n",
       "1       Intel        HD Graphics 6000\n",
       "2       Intel         HD Graphics 620\n",
       "3         AMD          Radeon Pro 455\n",
       "4       Intel  Iris Plus Graphics 650"
      ]
     },
     "execution_count": 25,
     "metadata": {},
     "output_type": "execute_result"
    }
   ],
   "source": [
    "data[['GPU_Company', 'GPU_Type']].head()"
   ]
  },
  {
   "cell_type": "markdown",
   "id": "qm5yTz8Qf5I8",
   "metadata": {
    "id": "qm5yTz8Qf5I8"
   },
   "source": [
    "**GPU**"
   ]
  },
  {
   "cell_type": "code",
   "execution_count": 26,
   "id": "gBID5Xs8dhp_",
   "metadata": {
    "id": "gBID5Xs8dhp_"
   },
   "outputs": [],
   "source": [
    "data['GPU_Family'] = data['GPU_Type'].apply(lambda x: x.split(' ')[0])\n",
    "data['GPU_Series'] = data['GPU_Type'].apply(lambda x: x.split(' ')[-1])"
   ]
  },
  {
   "cell_type": "code",
   "execution_count": 27,
   "id": "a4c-HEpNl682",
   "metadata": {
    "colab": {
     "base_uri": "https://localhost:8080/"
    },
    "id": "a4c-HEpNl682",
    "outputId": "a634b8a4-eb7d-46bf-8f35-8abb41506e3b"
   },
   "outputs": [
    {
     "name": "stdout",
     "output_type": "stream",
     "text": [
      "<class 'pandas.core.frame.DataFrame'>\n",
      "RangeIndex: 1275 entries, 0 to 1274\n",
      "Data columns (total 35 columns):\n",
      " #   Column                 Non-Null Count  Dtype  \n",
      "---  ------                 --------------  -----  \n",
      " 0   Company                1275 non-null   object \n",
      " 1   TypeName               1275 non-null   object \n",
      " 2   Inches                 1275 non-null   float64\n",
      " 3   ScreenResolution       1275 non-null   object \n",
      " 4   CPU_Company            1275 non-null   object \n",
      " 5   CPU_Frequency (GHz)    1275 non-null   float64\n",
      " 6   RAM (GB)               1275 non-null   int64  \n",
      " 7   Memory Type            0 non-null      float64\n",
      " 8   Memory Capacity        0 non-null      float64\n",
      " 9   GPU_Company            1275 non-null   object \n",
      " 10  GPU_Type               1275 non-null   object \n",
      " 11  OpSys                  1275 non-null   object \n",
      " 12  Weight (kg)            1275 non-null   float64\n",
      " 13  Price (SAR)            1275 non-null   float64\n",
      " 14  Resolution_Width       1275 non-null   int64  \n",
      " 15  Resolution_Height      1275 non-null   int64  \n",
      " 16  Contains_HD            1275 non-null   int64  \n",
      " 17  Contains_IPS           1275 non-null   int64  \n",
      " 18  Contains_Touchscreen   1275 non-null   int64  \n",
      " 19  Contains_4K            1275 non-null   int64  \n",
      " 20  Contains_Quad_HD_plus  1275 non-null   int64  \n",
      " 21  CPU_Family             1275 non-null   object \n",
      " 22  CPU_Generation         1275 non-null   object \n",
      " 23  CPU_Series             1275 non-null   object \n",
      " 24  Intel_Series           1214 non-null   object \n",
      " 25  AMD_Series             60 non-null     object \n",
      " 26  Samsung_Series         1 non-null      object \n",
      " 27  Intel_Family           1214 non-null   object \n",
      " 28  AMD_Family             60 non-null     object \n",
      " 29  Samsung_Family         1 non-null      object \n",
      " 30  Intel_Generation       1214 non-null   object \n",
      " 31  AMD_Generation         60 non-null     object \n",
      " 32  Samsung_Generation     1 non-null      object \n",
      " 33  GPU_Family             1275 non-null   object \n",
      " 34  GPU_Series             1275 non-null   object \n",
      "dtypes: float64(6), int64(8), object(21)\n",
      "memory usage: 348.8+ KB\n"
     ]
    }
   ],
   "source": [
    "data.info()"
   ]
  },
  {
   "cell_type": "code",
   "execution_count": 28,
   "id": "E2W_C94plB9O",
   "metadata": {
    "id": "E2W_C94plB9O"
   },
   "outputs": [],
   "source": [
    "# Assign Performance Tier\n",
    "def assign_tier(series):\n",
    "    if pd.isna(series):\n",
    "        return 'Unknown'\n",
    "    elif series <= 500:\n",
    "        return 'Low-End'\n",
    "    elif 500 < series <= 800:\n",
    "        return 'Mid-Range'\n",
    "    else:\n",
    "        return 'High-End'"
   ]
  },
  {
   "cell_type": "code",
   "execution_count": 29,
   "id": "_gF_YXcGlIx7",
   "metadata": {
    "id": "_gF_YXcGlIx7"
   },
   "outputs": [],
   "source": [
    "# data['Performance_Tier'] = data['GPU_Series'].apply(assign_tier)\n",
    "import pandas as pd\n",
    "import re  # Importing re module to use regular expressions\n",
    "\n",
    "# Assign Performance Tier with type checking\n",
    "def assign_tier(series):\n",
    "    try:  # Attempt to convert series to a numeric type\n",
    "        series = float(series)\n",
    "    except ValueError:  # Handle cases where conversion is not possible\n",
    "        return 'Unknown'\n",
    "\n",
    "    if pd.isna(series):\n",
    "        return 'Unknown'\n",
    "    elif series <= 500:\n",
    "        return 'Low-End'\n",
    "    elif 500 < series <= 800:\n",
    "        return 'Mid-Range'\n",
    "    else:\n",
    "        return 'High-End'\n",
    "\n",
    "# Apply the modified assign_tier function\n",
    "\n"
   ]
  },
  {
   "cell_type": "code",
   "execution_count": 30,
   "id": "b260Ylxr3XlZ",
   "metadata": {
    "id": "b260Ylxr3XlZ"
   },
   "outputs": [],
   "source": [
    "data['Performance_Tier'] = data['GPU_Series'].apply(assign_tier)"
   ]
  },
  {
   "cell_type": "code",
   "execution_count": 31,
   "id": "-P2swF2CmTsO",
   "metadata": {
    "colab": {
     "base_uri": "https://localhost:8080/"
    },
    "id": "-P2swF2CmTsO",
    "outputId": "45e49db8-6208-44c0-cc47-69fa8b81805f"
   },
   "outputs": [
    {
     "data": {
      "text/plain": [
       "Index(['Company', 'TypeName', 'Inches', 'ScreenResolution', 'CPU_Company',\n",
       "       'CPU_Frequency (GHz)', 'RAM (GB)', 'Memory Type', 'Memory Capacity',\n",
       "       'GPU_Company', 'GPU_Type', 'OpSys', 'Weight (kg)', 'Price (SAR)',\n",
       "       'Resolution_Width', 'Resolution_Height', 'Contains_HD', 'Contains_IPS',\n",
       "       'Contains_Touchscreen', 'Contains_4K', 'Contains_Quad_HD_plus',\n",
       "       'CPU_Family', 'CPU_Generation', 'CPU_Series', 'Intel_Series',\n",
       "       'AMD_Series', 'Samsung_Series', 'Intel_Family', 'AMD_Family',\n",
       "       'Samsung_Family', 'Intel_Generation', 'AMD_Generation',\n",
       "       'Samsung_Generation', 'GPU_Family', 'GPU_Series', 'Performance_Tier'],\n",
       "      dtype='object')"
      ]
     },
     "execution_count": 31,
     "metadata": {},
     "output_type": "execute_result"
    }
   ],
   "source": [
    "data.columns"
   ]
  },
  {
   "cell_type": "code",
   "execution_count": 32,
   "id": "ePpT9UTWgCnV",
   "metadata": {
    "id": "ePpT9UTWgCnV"
   },
   "outputs": [
    {
     "name": "stderr",
     "output_type": "stream",
     "text": [
      "<>:1: SyntaxWarning: invalid escape sequence '\\d'\n",
      "<>:1: SyntaxWarning: invalid escape sequence '\\d'\n",
      "/tmp/ipykernel_4606/4289022564.py:1: SyntaxWarning: invalid escape sequence '\\d'\n",
      "  data['GPU_Series']=data['GPU_Series'].str.extract('(\\d+)').fillna(data['GPU_Series'])\n"
     ]
    }
   ],
   "source": [
    "data['GPU_Series']=data['GPU_Series'].str.extract('(\\d+)').fillna(data['GPU_Series'])"
   ]
  },
  {
   "cell_type": "code",
   "execution_count": 33,
   "id": "g6ah6scLgQxR",
   "metadata": {
    "colab": {
     "base_uri": "https://localhost:8080/"
    },
    "id": "g6ah6scLgQxR",
    "outputId": "8e65665a-2c21-4ea3-cc43-8e029d11721f"
   },
   "outputs": [
    {
     "data": {
      "text/plain": [
       "Index(['Company', 'TypeName', 'Inches', 'ScreenResolution', 'CPU_Company',\n",
       "       'CPU_Frequency (GHz)', 'RAM (GB)', 'Memory Type', 'Memory Capacity',\n",
       "       'GPU_Company', 'GPU_Type', 'OpSys', 'Weight (kg)', 'Price (SAR)',\n",
       "       'Resolution_Width', 'Resolution_Height', 'Contains_HD', 'Contains_IPS',\n",
       "       'Contains_Touchscreen', 'Contains_4K', 'Contains_Quad_HD_plus',\n",
       "       'CPU_Family', 'CPU_Generation', 'CPU_Series', 'Intel_Series',\n",
       "       'AMD_Series', 'Samsung_Series', 'Intel_Family', 'AMD_Family',\n",
       "       'Samsung_Family', 'Intel_Generation', 'AMD_Generation',\n",
       "       'Samsung_Generation', 'GPU_Family', 'GPU_Series', 'Performance_Tier'],\n",
       "      dtype='object')"
      ]
     },
     "execution_count": 33,
     "metadata": {},
     "output_type": "execute_result"
    }
   ],
   "source": [
    "data.columns"
   ]
  },
  {
   "cell_type": "code",
   "execution_count": 34,
   "id": "s0i7oA5-gYvc",
   "metadata": {
    "id": "s0i7oA5-gYvc"
   },
   "outputs": [],
   "source": [
    "data=data.drop(['CPU_Family' , 'CPU_Generation' , 'CPU_Series'] ,axis=1)"
   ]
  },
  {
   "cell_type": "code",
   "execution_count": 35,
   "id": "WVOYOPKWhXnM",
   "metadata": {
    "colab": {
     "base_uri": "https://localhost:8080/",
     "height": 1000
    },
    "id": "WVOYOPKWhXnM",
    "outputId": "99381400-f591-4eaf-8c0a-c33ecf923a78"
   },
   "outputs": [
    {
     "data": {
      "text/plain": [
       "Company                     0\n",
       "TypeName                    0\n",
       "Inches                      0\n",
       "ScreenResolution            0\n",
       "CPU_Company                 0\n",
       "CPU_Frequency (GHz)         0\n",
       "RAM (GB)                    0\n",
       "Memory Type              1275\n",
       "Memory Capacity          1275\n",
       "GPU_Company                 0\n",
       "GPU_Type                    0\n",
       "OpSys                       0\n",
       "Weight (kg)                 0\n",
       "Price (SAR)                 0\n",
       "Resolution_Width            0\n",
       "Resolution_Height           0\n",
       "Contains_HD                 0\n",
       "Contains_IPS                0\n",
       "Contains_Touchscreen        0\n",
       "Contains_4K                 0\n",
       "Contains_Quad_HD_plus       0\n",
       "Intel_Series               61\n",
       "AMD_Series               1215\n",
       "Samsung_Series           1274\n",
       "Intel_Family               61\n",
       "AMD_Family               1215\n",
       "Samsung_Family           1274\n",
       "Intel_Generation           61\n",
       "AMD_Generation           1215\n",
       "Samsung_Generation       1274\n",
       "GPU_Family                  0\n",
       "GPU_Series                  0\n",
       "Performance_Tier            0\n",
       "dtype: int64"
      ]
     },
     "execution_count": 35,
     "metadata": {},
     "output_type": "execute_result"
    }
   ],
   "source": [
    "data.isnull().sum()"
   ]
  },
  {
   "cell_type": "code",
   "execution_count": 36,
   "id": "s6CYTR_rkVzS",
   "metadata": {
    "id": "s6CYTR_rkVzS"
   },
   "outputs": [],
   "source": [
    "data=data.drop('ScreenResolution', axis=1)"
   ]
  },
  {
   "cell_type": "code",
   "execution_count": 37,
   "id": "axY7s7TjkRDZ",
   "metadata": {
    "colab": {
     "base_uri": "https://localhost:8080/"
    },
    "id": "axY7s7TjkRDZ",
    "outputId": "45c68d9e-4512-4a78-f659-97be815bf7b4"
   },
   "outputs": [
    {
     "name": "stdout",
     "output_type": "stream",
     "text": [
      "<class 'pandas.core.frame.DataFrame'>\n",
      "RangeIndex: 1275 entries, 0 to 1274\n",
      "Data columns (total 32 columns):\n",
      " #   Column                 Non-Null Count  Dtype  \n",
      "---  ------                 --------------  -----  \n",
      " 0   Company                1275 non-null   object \n",
      " 1   TypeName               1275 non-null   object \n",
      " 2   Inches                 1275 non-null   float64\n",
      " 3   CPU_Company            1275 non-null   object \n",
      " 4   CPU_Frequency (GHz)    1275 non-null   float64\n",
      " 5   RAM (GB)               1275 non-null   int64  \n",
      " 6   Memory Type            0 non-null      float64\n",
      " 7   Memory Capacity        0 non-null      float64\n",
      " 8   GPU_Company            1275 non-null   object \n",
      " 9   GPU_Type               1275 non-null   object \n",
      " 10  OpSys                  1275 non-null   object \n",
      " 11  Weight (kg)            1275 non-null   float64\n",
      " 12  Price (SAR)            1275 non-null   float64\n",
      " 13  Resolution_Width       1275 non-null   int64  \n",
      " 14  Resolution_Height      1275 non-null   int64  \n",
      " 15  Contains_HD            1275 non-null   int64  \n",
      " 16  Contains_IPS           1275 non-null   int64  \n",
      " 17  Contains_Touchscreen   1275 non-null   int64  \n",
      " 18  Contains_4K            1275 non-null   int64  \n",
      " 19  Contains_Quad_HD_plus  1275 non-null   int64  \n",
      " 20  Intel_Series           1214 non-null   object \n",
      " 21  AMD_Series             60 non-null     object \n",
      " 22  Samsung_Series         1 non-null      object \n",
      " 23  Intel_Family           1214 non-null   object \n",
      " 24  AMD_Family             60 non-null     object \n",
      " 25  Samsung_Family         1 non-null      object \n",
      " 26  Intel_Generation       1214 non-null   object \n",
      " 27  AMD_Generation         60 non-null     object \n",
      " 28  Samsung_Generation     1 non-null      object \n",
      " 29  GPU_Family             1275 non-null   object \n",
      " 30  GPU_Series             1275 non-null   object \n",
      " 31  Performance_Tier       1275 non-null   object \n",
      "dtypes: float64(6), int64(8), object(18)\n",
      "memory usage: 318.9+ KB\n"
     ]
    }
   ],
   "source": [
    "data.info()"
   ]
  },
  {
   "cell_type": "markdown",
   "id": "DLvsDbbujQPR",
   "metadata": {
    "id": "DLvsDbbujQPR"
   },
   "source": [
    "**ordinal encding**\n"
   ]
  },
  {
   "cell_type": "code",
   "execution_count": 38,
   "id": "RKIgio8znCWB",
   "metadata": {
    "id": "RKIgio8znCWB"
   },
   "outputs": [],
   "source": [
    "# ordinal=[Intel_Series, AMD_Series, Samsung_Series, Intel_Family, AMD_Family, Samsung_Family, Intel_Generation, AMD_Generation, Samsung_Generation,GPU_Family,GPU_Series ]\n",
    "\n",
    "# other encoding=[Company,Product , TypeName , CPU_Company, Memory Type ,  GPU_Company, OpSys, ]"
   ]
  },
  {
   "cell_type": "code",
   "execution_count": 39,
   "id": "GvslZrYNjfLZ",
   "metadata": {
    "id": "GvslZrYNjfLZ"
   },
   "outputs": [],
   "source": [
    "from sklearn.preprocessing import OrdinalEncoder\n",
    "\n",
    "# List of ordinal columns\n",
    "ordinal_cols = [\n",
    "    'Intel_Series', 'AMD_Series', 'Samsung_Series',\n",
    "    'Intel_Family', 'AMD_Family', 'Samsung_Family',\n",
    "    'Intel_Generation', 'AMD_Generation', 'Samsung_Generation',\n",
    "    'GPU_Family', 'GPU_Series', 'Performance_Tier'\n",
    "]\n",
    "\n",
    "\n",
    "# Replace NaN values with 0\n",
    "# data[ordinal_cols] = data[ordinal_cols].fillna(0).astype(str)\n",
    "data[ordinal_cols] = data[ordinal_cols].astype(str)\n",
    "# Initialize the OrdinalEncoder\n",
    "ordinal_encoder = OrdinalEncoder()\n",
    "\n",
    "# Apply the encoding\n",
    "data[ordinal_cols] = ordinal_encoder.fit_transform(data[ordinal_cols])"
   ]
  },
  {
   "cell_type": "code",
   "execution_count": 40,
   "id": "65H5kN7Rqsw1",
   "metadata": {
    "colab": {
     "base_uri": "https://localhost:8080/",
     "height": 1000
    },
    "id": "65H5kN7Rqsw1",
    "outputId": "dad1a69c-2fac-4e52-d09c-b1b4182eda2b"
   },
   "outputs": [
    {
     "data": {
      "text/html": [
       "<div>\n",
       "<style scoped>\n",
       "    .dataframe tbody tr th:only-of-type {\n",
       "        vertical-align: middle;\n",
       "    }\n",
       "\n",
       "    .dataframe tbody tr th {\n",
       "        vertical-align: top;\n",
       "    }\n",
       "\n",
       "    .dataframe thead th {\n",
       "        text-align: right;\n",
       "    }\n",
       "</style>\n",
       "<table border=\"1\" class=\"dataframe\">\n",
       "  <thead>\n",
       "    <tr style=\"text-align: right;\">\n",
       "      <th></th>\n",
       "      <th>Intel_Series</th>\n",
       "      <th>AMD_Series</th>\n",
       "      <th>Samsung_Series</th>\n",
       "      <th>Intel_Family</th>\n",
       "      <th>AMD_Family</th>\n",
       "      <th>Samsung_Family</th>\n",
       "      <th>Intel_Generation</th>\n",
       "      <th>AMD_Generation</th>\n",
       "      <th>Samsung_Generation</th>\n",
       "      <th>GPU_Family</th>\n",
       "      <th>GPU_Series</th>\n",
       "      <th>Performance_Tier</th>\n",
       "    </tr>\n",
       "  </thead>\n",
       "  <tbody>\n",
       "    <tr>\n",
       "      <th>0</th>\n",
       "      <td>4.0</td>\n",
       "      <td>14.0</td>\n",
       "      <td>1.0</td>\n",
       "      <td>2.0</td>\n",
       "      <td>6.0</td>\n",
       "      <td>0.0</td>\n",
       "      <td>3.0</td>\n",
       "      <td>4.0</td>\n",
       "      <td>0.0</td>\n",
       "      <td>5.0</td>\n",
       "      <td>49.0</td>\n",
       "      <td>2.0</td>\n",
       "    </tr>\n",
       "    <tr>\n",
       "      <th>1</th>\n",
       "      <td>4.0</td>\n",
       "      <td>14.0</td>\n",
       "      <td>1.0</td>\n",
       "      <td>2.0</td>\n",
       "      <td>6.0</td>\n",
       "      <td>0.0</td>\n",
       "      <td>3.0</td>\n",
       "      <td>4.0</td>\n",
       "      <td>0.0</td>\n",
       "      <td>4.0</td>\n",
       "      <td>44.0</td>\n",
       "      <td>0.0</td>\n",
       "    </tr>\n",
       "    <tr>\n",
       "      <th>2</th>\n",
       "      <td>4.0</td>\n",
       "      <td>14.0</td>\n",
       "      <td>1.0</td>\n",
       "      <td>2.0</td>\n",
       "      <td>6.0</td>\n",
       "      <td>0.0</td>\n",
       "      <td>3.0</td>\n",
       "      <td>4.0</td>\n",
       "      <td>0.0</td>\n",
       "      <td>4.0</td>\n",
       "      <td>47.0</td>\n",
       "      <td>2.0</td>\n",
       "    </tr>\n",
       "    <tr>\n",
       "      <th>3</th>\n",
       "      <td>5.0</td>\n",
       "      <td>14.0</td>\n",
       "      <td>1.0</td>\n",
       "      <td>2.0</td>\n",
       "      <td>6.0</td>\n",
       "      <td>0.0</td>\n",
       "      <td>3.0</td>\n",
       "      <td>4.0</td>\n",
       "      <td>0.0</td>\n",
       "      <td>10.0</td>\n",
       "      <td>27.0</td>\n",
       "      <td>1.0</td>\n",
       "    </tr>\n",
       "    <tr>\n",
       "      <th>4</th>\n",
       "      <td>4.0</td>\n",
       "      <td>14.0</td>\n",
       "      <td>1.0</td>\n",
       "      <td>2.0</td>\n",
       "      <td>6.0</td>\n",
       "      <td>0.0</td>\n",
       "      <td>3.0</td>\n",
       "      <td>4.0</td>\n",
       "      <td>0.0</td>\n",
       "      <td>5.0</td>\n",
       "      <td>50.0</td>\n",
       "      <td>2.0</td>\n",
       "    </tr>\n",
       "    <tr>\n",
       "      <th>5</th>\n",
       "      <td>1.0</td>\n",
       "      <td>12.0</td>\n",
       "      <td>1.0</td>\n",
       "      <td>3.0</td>\n",
       "      <td>4.0</td>\n",
       "      <td>0.0</td>\n",
       "      <td>5.0</td>\n",
       "      <td>3.0</td>\n",
       "      <td>0.0</td>\n",
       "      <td>10.0</td>\n",
       "      <td>30.0</td>\n",
       "      <td>3.0</td>\n",
       "    </tr>\n",
       "    <tr>\n",
       "      <th>6</th>\n",
       "      <td>5.0</td>\n",
       "      <td>14.0</td>\n",
       "      <td>1.0</td>\n",
       "      <td>2.0</td>\n",
       "      <td>6.0</td>\n",
       "      <td>0.0</td>\n",
       "      <td>3.0</td>\n",
       "      <td>4.0</td>\n",
       "      <td>0.0</td>\n",
       "      <td>5.0</td>\n",
       "      <td>49.0</td>\n",
       "      <td>3.0</td>\n",
       "    </tr>\n",
       "    <tr>\n",
       "      <th>7</th>\n",
       "      <td>4.0</td>\n",
       "      <td>14.0</td>\n",
       "      <td>1.0</td>\n",
       "      <td>2.0</td>\n",
       "      <td>6.0</td>\n",
       "      <td>0.0</td>\n",
       "      <td>3.0</td>\n",
       "      <td>4.0</td>\n",
       "      <td>0.0</td>\n",
       "      <td>4.0</td>\n",
       "      <td>44.0</td>\n",
       "      <td>0.0</td>\n",
       "    </tr>\n",
       "    <tr>\n",
       "      <th>8</th>\n",
       "      <td>5.0</td>\n",
       "      <td>14.0</td>\n",
       "      <td>1.0</td>\n",
       "      <td>2.0</td>\n",
       "      <td>6.0</td>\n",
       "      <td>0.0</td>\n",
       "      <td>4.0</td>\n",
       "      <td>4.0</td>\n",
       "      <td>0.0</td>\n",
       "      <td>2.0</td>\n",
       "      <td>7.0</td>\n",
       "      <td>3.0</td>\n",
       "    </tr>\n",
       "    <tr>\n",
       "      <th>9</th>\n",
       "      <td>4.0</td>\n",
       "      <td>14.0</td>\n",
       "      <td>1.0</td>\n",
       "      <td>2.0</td>\n",
       "      <td>6.0</td>\n",
       "      <td>0.0</td>\n",
       "      <td>4.0</td>\n",
       "      <td>4.0</td>\n",
       "      <td>0.0</td>\n",
       "      <td>11.0</td>\n",
       "      <td>47.0</td>\n",
       "      <td>2.0</td>\n",
       "    </tr>\n",
       "    <tr>\n",
       "      <th>10</th>\n",
       "      <td>4.0</td>\n",
       "      <td>14.0</td>\n",
       "      <td>1.0</td>\n",
       "      <td>2.0</td>\n",
       "      <td>6.0</td>\n",
       "      <td>0.0</td>\n",
       "      <td>3.0</td>\n",
       "      <td>4.0</td>\n",
       "      <td>0.0</td>\n",
       "      <td>4.0</td>\n",
       "      <td>47.0</td>\n",
       "      <td>2.0</td>\n",
       "    </tr>\n",
       "    <tr>\n",
       "      <th>11</th>\n",
       "      <td>3.0</td>\n",
       "      <td>14.0</td>\n",
       "      <td>1.0</td>\n",
       "      <td>2.0</td>\n",
       "      <td>6.0</td>\n",
       "      <td>0.0</td>\n",
       "      <td>2.0</td>\n",
       "      <td>4.0</td>\n",
       "      <td>0.0</td>\n",
       "      <td>4.0</td>\n",
       "      <td>36.0</td>\n",
       "      <td>2.0</td>\n",
       "    </tr>\n",
       "    <tr>\n",
       "      <th>12</th>\n",
       "      <td>5.0</td>\n",
       "      <td>14.0</td>\n",
       "      <td>1.0</td>\n",
       "      <td>2.0</td>\n",
       "      <td>6.0</td>\n",
       "      <td>0.0</td>\n",
       "      <td>3.0</td>\n",
       "      <td>4.0</td>\n",
       "      <td>0.0</td>\n",
       "      <td>10.0</td>\n",
       "      <td>41.0</td>\n",
       "      <td>2.0</td>\n",
       "    </tr>\n",
       "    <tr>\n",
       "      <th>13</th>\n",
       "      <td>3.0</td>\n",
       "      <td>14.0</td>\n",
       "      <td>1.0</td>\n",
       "      <td>2.0</td>\n",
       "      <td>6.0</td>\n",
       "      <td>0.0</td>\n",
       "      <td>2.0</td>\n",
       "      <td>4.0</td>\n",
       "      <td>0.0</td>\n",
       "      <td>10.0</td>\n",
       "      <td>24.0</td>\n",
       "      <td>3.0</td>\n",
       "    </tr>\n",
       "    <tr>\n",
       "      <th>14</th>\n",
       "      <td>6.0</td>\n",
       "      <td>14.0</td>\n",
       "      <td>1.0</td>\n",
       "      <td>2.0</td>\n",
       "      <td>6.0</td>\n",
       "      <td>0.0</td>\n",
       "      <td>6.0</td>\n",
       "      <td>4.0</td>\n",
       "      <td>0.0</td>\n",
       "      <td>4.0</td>\n",
       "      <td>45.0</td>\n",
       "      <td>2.0</td>\n",
       "    </tr>\n",
       "    <tr>\n",
       "      <th>15</th>\n",
       "      <td>4.0</td>\n",
       "      <td>14.0</td>\n",
       "      <td>1.0</td>\n",
       "      <td>2.0</td>\n",
       "      <td>6.0</td>\n",
       "      <td>0.0</td>\n",
       "      <td>3.0</td>\n",
       "      <td>4.0</td>\n",
       "      <td>0.0</td>\n",
       "      <td>5.0</td>\n",
       "      <td>49.0</td>\n",
       "      <td>2.0</td>\n",
       "    </tr>\n",
       "    <tr>\n",
       "      <th>16</th>\n",
       "      <td>5.0</td>\n",
       "      <td>14.0</td>\n",
       "      <td>1.0</td>\n",
       "      <td>2.0</td>\n",
       "      <td>6.0</td>\n",
       "      <td>0.0</td>\n",
       "      <td>3.0</td>\n",
       "      <td>4.0</td>\n",
       "      <td>0.0</td>\n",
       "      <td>10.0</td>\n",
       "      <td>24.0</td>\n",
       "      <td>3.0</td>\n",
       "    </tr>\n",
       "    <tr>\n",
       "      <th>17</th>\n",
       "      <td>5.0</td>\n",
       "      <td>14.0</td>\n",
       "      <td>1.0</td>\n",
       "      <td>2.0</td>\n",
       "      <td>6.0</td>\n",
       "      <td>0.0</td>\n",
       "      <td>3.0</td>\n",
       "      <td>4.0</td>\n",
       "      <td>0.0</td>\n",
       "      <td>10.0</td>\n",
       "      <td>42.0</td>\n",
       "      <td>2.0</td>\n",
       "    </tr>\n",
       "    <tr>\n",
       "      <th>18</th>\n",
       "      <td>3.0</td>\n",
       "      <td>14.0</td>\n",
       "      <td>1.0</td>\n",
       "      <td>2.0</td>\n",
       "      <td>6.0</td>\n",
       "      <td>0.0</td>\n",
       "      <td>3.0</td>\n",
       "      <td>4.0</td>\n",
       "      <td>0.0</td>\n",
       "      <td>2.0</td>\n",
       "      <td>54.0</td>\n",
       "      <td>3.0</td>\n",
       "    </tr>\n",
       "    <tr>\n",
       "      <th>19</th>\n",
       "      <td>4.0</td>\n",
       "      <td>14.0</td>\n",
       "      <td>1.0</td>\n",
       "      <td>2.0</td>\n",
       "      <td>6.0</td>\n",
       "      <td>0.0</td>\n",
       "      <td>4.0</td>\n",
       "      <td>4.0</td>\n",
       "      <td>0.0</td>\n",
       "      <td>11.0</td>\n",
       "      <td>47.0</td>\n",
       "      <td>2.0</td>\n",
       "    </tr>\n",
       "    <tr>\n",
       "      <th>20</th>\n",
       "      <td>2.0</td>\n",
       "      <td>14.0</td>\n",
       "      <td>1.0</td>\n",
       "      <td>0.0</td>\n",
       "      <td>6.0</td>\n",
       "      <td>0.0</td>\n",
       "      <td>4.0</td>\n",
       "      <td>4.0</td>\n",
       "      <td>0.0</td>\n",
       "      <td>4.0</td>\n",
       "      <td>20.0</td>\n",
       "      <td>1.0</td>\n",
       "    </tr>\n",
       "    <tr>\n",
       "      <th>21</th>\n",
       "      <td>4.0</td>\n",
       "      <td>14.0</td>\n",
       "      <td>1.0</td>\n",
       "      <td>2.0</td>\n",
       "      <td>6.0</td>\n",
       "      <td>0.0</td>\n",
       "      <td>3.0</td>\n",
       "      <td>4.0</td>\n",
       "      <td>0.0</td>\n",
       "      <td>2.0</td>\n",
       "      <td>1.0</td>\n",
       "      <td>0.0</td>\n",
       "    </tr>\n",
       "    <tr>\n",
       "      <th>22</th>\n",
       "      <td>1.0</td>\n",
       "      <td>9.0</td>\n",
       "      <td>1.0</td>\n",
       "      <td>3.0</td>\n",
       "      <td>8.0</td>\n",
       "      <td>0.0</td>\n",
       "      <td>5.0</td>\n",
       "      <td>5.0</td>\n",
       "      <td>0.0</td>\n",
       "      <td>10.0</td>\n",
       "      <td>9.0</td>\n",
       "      <td>3.0</td>\n",
       "    </tr>\n",
       "    <tr>\n",
       "      <th>23</th>\n",
       "      <td>4.0</td>\n",
       "      <td>14.0</td>\n",
       "      <td>1.0</td>\n",
       "      <td>2.0</td>\n",
       "      <td>6.0</td>\n",
       "      <td>0.0</td>\n",
       "      <td>4.0</td>\n",
       "      <td>4.0</td>\n",
       "      <td>0.0</td>\n",
       "      <td>11.0</td>\n",
       "      <td>47.0</td>\n",
       "      <td>2.0</td>\n",
       "    </tr>\n",
       "    <tr>\n",
       "      <th>24</th>\n",
       "      <td>5.0</td>\n",
       "      <td>14.0</td>\n",
       "      <td>1.0</td>\n",
       "      <td>2.0</td>\n",
       "      <td>6.0</td>\n",
       "      <td>0.0</td>\n",
       "      <td>4.0</td>\n",
       "      <td>4.0</td>\n",
       "      <td>0.0</td>\n",
       "      <td>4.0</td>\n",
       "      <td>47.0</td>\n",
       "      <td>2.0</td>\n",
       "    </tr>\n",
       "    <tr>\n",
       "      <th>25</th>\n",
       "      <td>3.0</td>\n",
       "      <td>14.0</td>\n",
       "      <td>1.0</td>\n",
       "      <td>2.0</td>\n",
       "      <td>6.0</td>\n",
       "      <td>0.0</td>\n",
       "      <td>2.0</td>\n",
       "      <td>4.0</td>\n",
       "      <td>0.0</td>\n",
       "      <td>4.0</td>\n",
       "      <td>36.0</td>\n",
       "      <td>2.0</td>\n",
       "    </tr>\n",
       "    <tr>\n",
       "      <th>26</th>\n",
       "      <td>4.0</td>\n",
       "      <td>14.0</td>\n",
       "      <td>1.0</td>\n",
       "      <td>2.0</td>\n",
       "      <td>6.0</td>\n",
       "      <td>0.0</td>\n",
       "      <td>3.0</td>\n",
       "      <td>4.0</td>\n",
       "      <td>0.0</td>\n",
       "      <td>4.0</td>\n",
       "      <td>44.0</td>\n",
       "      <td>0.0</td>\n",
       "    </tr>\n",
       "    <tr>\n",
       "      <th>27</th>\n",
       "      <td>4.0</td>\n",
       "      <td>14.0</td>\n",
       "      <td>1.0</td>\n",
       "      <td>2.0</td>\n",
       "      <td>6.0</td>\n",
       "      <td>0.0</td>\n",
       "      <td>4.0</td>\n",
       "      <td>4.0</td>\n",
       "      <td>0.0</td>\n",
       "      <td>10.0</td>\n",
       "      <td>37.0</td>\n",
       "      <td>2.0</td>\n",
       "    </tr>\n",
       "    <tr>\n",
       "      <th>28</th>\n",
       "      <td>5.0</td>\n",
       "      <td>14.0</td>\n",
       "      <td>1.0</td>\n",
       "      <td>2.0</td>\n",
       "      <td>6.0</td>\n",
       "      <td>0.0</td>\n",
       "      <td>4.0</td>\n",
       "      <td>4.0</td>\n",
       "      <td>0.0</td>\n",
       "      <td>11.0</td>\n",
       "      <td>47.0</td>\n",
       "      <td>2.0</td>\n",
       "    </tr>\n",
       "    <tr>\n",
       "      <th>29</th>\n",
       "      <td>4.0</td>\n",
       "      <td>14.0</td>\n",
       "      <td>1.0</td>\n",
       "      <td>2.0</td>\n",
       "      <td>6.0</td>\n",
       "      <td>0.0</td>\n",
       "      <td>4.0</td>\n",
       "      <td>4.0</td>\n",
       "      <td>0.0</td>\n",
       "      <td>2.0</td>\n",
       "      <td>53.0</td>\n",
       "      <td>3.0</td>\n",
       "    </tr>\n",
       "  </tbody>\n",
       "</table>\n",
       "</div>"
      ],
      "text/plain": [
       "    Intel_Series  AMD_Series  Samsung_Series  Intel_Family  AMD_Family  \\\n",
       "0            4.0        14.0             1.0           2.0         6.0   \n",
       "1            4.0        14.0             1.0           2.0         6.0   \n",
       "2            4.0        14.0             1.0           2.0         6.0   \n",
       "3            5.0        14.0             1.0           2.0         6.0   \n",
       "4            4.0        14.0             1.0           2.0         6.0   \n",
       "5            1.0        12.0             1.0           3.0         4.0   \n",
       "6            5.0        14.0             1.0           2.0         6.0   \n",
       "7            4.0        14.0             1.0           2.0         6.0   \n",
       "8            5.0        14.0             1.0           2.0         6.0   \n",
       "9            4.0        14.0             1.0           2.0         6.0   \n",
       "10           4.0        14.0             1.0           2.0         6.0   \n",
       "11           3.0        14.0             1.0           2.0         6.0   \n",
       "12           5.0        14.0             1.0           2.0         6.0   \n",
       "13           3.0        14.0             1.0           2.0         6.0   \n",
       "14           6.0        14.0             1.0           2.0         6.0   \n",
       "15           4.0        14.0             1.0           2.0         6.0   \n",
       "16           5.0        14.0             1.0           2.0         6.0   \n",
       "17           5.0        14.0             1.0           2.0         6.0   \n",
       "18           3.0        14.0             1.0           2.0         6.0   \n",
       "19           4.0        14.0             1.0           2.0         6.0   \n",
       "20           2.0        14.0             1.0           0.0         6.0   \n",
       "21           4.0        14.0             1.0           2.0         6.0   \n",
       "22           1.0         9.0             1.0           3.0         8.0   \n",
       "23           4.0        14.0             1.0           2.0         6.0   \n",
       "24           5.0        14.0             1.0           2.0         6.0   \n",
       "25           3.0        14.0             1.0           2.0         6.0   \n",
       "26           4.0        14.0             1.0           2.0         6.0   \n",
       "27           4.0        14.0             1.0           2.0         6.0   \n",
       "28           5.0        14.0             1.0           2.0         6.0   \n",
       "29           4.0        14.0             1.0           2.0         6.0   \n",
       "\n",
       "    Samsung_Family  Intel_Generation  AMD_Generation  Samsung_Generation  \\\n",
       "0              0.0               3.0             4.0                 0.0   \n",
       "1              0.0               3.0             4.0                 0.0   \n",
       "2              0.0               3.0             4.0                 0.0   \n",
       "3              0.0               3.0             4.0                 0.0   \n",
       "4              0.0               3.0             4.0                 0.0   \n",
       "5              0.0               5.0             3.0                 0.0   \n",
       "6              0.0               3.0             4.0                 0.0   \n",
       "7              0.0               3.0             4.0                 0.0   \n",
       "8              0.0               4.0             4.0                 0.0   \n",
       "9              0.0               4.0             4.0                 0.0   \n",
       "10             0.0               3.0             4.0                 0.0   \n",
       "11             0.0               2.0             4.0                 0.0   \n",
       "12             0.0               3.0             4.0                 0.0   \n",
       "13             0.0               2.0             4.0                 0.0   \n",
       "14             0.0               6.0             4.0                 0.0   \n",
       "15             0.0               3.0             4.0                 0.0   \n",
       "16             0.0               3.0             4.0                 0.0   \n",
       "17             0.0               3.0             4.0                 0.0   \n",
       "18             0.0               3.0             4.0                 0.0   \n",
       "19             0.0               4.0             4.0                 0.0   \n",
       "20             0.0               4.0             4.0                 0.0   \n",
       "21             0.0               3.0             4.0                 0.0   \n",
       "22             0.0               5.0             5.0                 0.0   \n",
       "23             0.0               4.0             4.0                 0.0   \n",
       "24             0.0               4.0             4.0                 0.0   \n",
       "25             0.0               2.0             4.0                 0.0   \n",
       "26             0.0               3.0             4.0                 0.0   \n",
       "27             0.0               4.0             4.0                 0.0   \n",
       "28             0.0               4.0             4.0                 0.0   \n",
       "29             0.0               4.0             4.0                 0.0   \n",
       "\n",
       "    GPU_Family  GPU_Series  Performance_Tier  \n",
       "0          5.0        49.0               2.0  \n",
       "1          4.0        44.0               0.0  \n",
       "2          4.0        47.0               2.0  \n",
       "3         10.0        27.0               1.0  \n",
       "4          5.0        50.0               2.0  \n",
       "5         10.0        30.0               3.0  \n",
       "6          5.0        49.0               3.0  \n",
       "7          4.0        44.0               0.0  \n",
       "8          2.0         7.0               3.0  \n",
       "9         11.0        47.0               2.0  \n",
       "10         4.0        47.0               2.0  \n",
       "11         4.0        36.0               2.0  \n",
       "12        10.0        41.0               2.0  \n",
       "13        10.0        24.0               3.0  \n",
       "14         4.0        45.0               2.0  \n",
       "15         5.0        49.0               2.0  \n",
       "16        10.0        24.0               3.0  \n",
       "17        10.0        42.0               2.0  \n",
       "18         2.0        54.0               3.0  \n",
       "19        11.0        47.0               2.0  \n",
       "20         4.0        20.0               1.0  \n",
       "21         2.0         1.0               0.0  \n",
       "22        10.0         9.0               3.0  \n",
       "23        11.0        47.0               2.0  \n",
       "24         4.0        47.0               2.0  \n",
       "25         4.0        36.0               2.0  \n",
       "26         4.0        44.0               0.0  \n",
       "27        10.0        37.0               2.0  \n",
       "28        11.0        47.0               2.0  \n",
       "29         2.0        53.0               3.0  "
      ]
     },
     "execution_count": 40,
     "metadata": {},
     "output_type": "execute_result"
    }
   ],
   "source": [
    "data[ordinal_cols].head(30)"
   ]
  },
  {
   "cell_type": "code",
   "execution_count": 41,
   "id": "PSnweOlsp1UQ",
   "metadata": {
    "colab": {
     "base_uri": "https://localhost:8080/",
     "height": 460
    },
    "id": "PSnweOlsp1UQ",
    "outputId": "7ef18518-0bcb-4a72-91aa-51f2551f70b5"
   },
   "outputs": [
    {
     "data": {
      "text/plain": [
       "Intel_Series          0\n",
       "AMD_Series            0\n",
       "Samsung_Series        0\n",
       "Intel_Family          0\n",
       "AMD_Family            0\n",
       "Samsung_Family        0\n",
       "Intel_Generation      0\n",
       "AMD_Generation        0\n",
       "Samsung_Generation    0\n",
       "GPU_Family            0\n",
       "GPU_Series            0\n",
       "Performance_Tier      0\n",
       "dtype: int64"
      ]
     },
     "execution_count": 41,
     "metadata": {},
     "output_type": "execute_result"
    }
   ],
   "source": [
    "data[ordinal_cols].isna().sum()"
   ]
  },
  {
   "cell_type": "code",
   "execution_count": 42,
   "id": "-WF4C9lnrvt8",
   "metadata": {
    "id": "-WF4C9lnrvt8"
   },
   "outputs": [],
   "source": [
    "# List of columns for one-hot encoding\n",
    "other_encoding_cols = ['Company', 'TypeName', 'CPU_Company', 'Memory Type', 'GPU_Company', 'OpSys', 'GPU_Type']\n",
    "\n",
    "# Apply one-hot encoding\n",
    "data = pd.get_dummies(data, columns=other_encoding_cols, drop_first=True)\n"
   ]
  },
  {
   "cell_type": "code",
   "execution_count": 43,
   "id": "Zl1WLGy3r1im",
   "metadata": {
    "colab": {
     "base_uri": "https://localhost:8080/"
    },
    "id": "Zl1WLGy3r1im",
    "outputId": "fabcf1aa-3019-4499-815b-e7dd66f54b61"
   },
   "outputs": [
    {
     "data": {
      "text/plain": [
       "166"
      ]
     },
     "execution_count": 43,
     "metadata": {},
     "output_type": "execute_result"
    }
   ],
   "source": [
    "len(data.columns)"
   ]
  },
  {
   "cell_type": "code",
   "execution_count": 44,
   "id": "TnDrd3p0Pgla",
   "metadata": {
    "colab": {
     "base_uri": "https://localhost:8080/"
    },
    "id": "TnDrd3p0Pgla",
    "outputId": "8d16d844-875d-400b-9bb0-f64dcdd07e8e"
   },
   "outputs": [
    {
     "name": "stdout",
     "output_type": "stream",
     "text": [
      "<class 'pandas.core.frame.DataFrame'>\n",
      "RangeIndex: 1275 entries, 0 to 1274\n",
      "Columns: 166 entries, Inches to GPU_Type_UHD Graphics 620\n",
      "dtypes: bool(141), float64(17), int64(8)\n",
      "memory usage: 424.7 KB\n"
     ]
    }
   ],
   "source": [
    "data.info()"
   ]
  },
  {
   "cell_type": "markdown",
   "id": "YujD2136jR5l",
   "metadata": {
    "id": "YujD2136jR5l"
   },
   "source": [
    "## Save the dataset"
   ]
  },
  {
   "cell_type": "code",
   "execution_count": 45,
   "id": "LnmFUP9oteLh",
   "metadata": {
    "id": "LnmFUP9oteLh"
   },
   "outputs": [],
   "source": [
    "data.to_csv('dataset_post_engineering.csv', index=False)"
   ]
  },
  {
   "cell_type": "markdown",
   "id": "fUo1tPVhPnnL",
   "metadata": {
    "id": "fUo1tPVhPnnL"
   },
   "source": [
    "# Model: CatBoostRegressor"
   ]
  },
  {
   "cell_type": "code",
   "execution_count": 46,
   "id": "2eYkve4XPxSS",
   "metadata": {
    "id": "2eYkve4XPxSS"
   },
   "outputs": [],
   "source": [
    "import numpy as np\n",
    "import matplotlib.pyplot as plt\n",
    "import seaborn as sns\n",
    "from sklearn.model_selection import train_test_split\n",
    "from sklearn.ensemble import RandomForestRegressor\n",
    "from sklearn.metrics import mean_squared_error, r2_score"
   ]
  },
  {
   "cell_type": "code",
   "execution_count": 47,
   "id": "GrA0qPi8Plu3",
   "metadata": {
    "id": "GrA0qPi8Plu3"
   },
   "outputs": [],
   "source": [
    "pd.set_option('display.max_columns', None)\n",
    "pd.set_option('display.max_rows', None)"
   ]
  },
  {
   "cell_type": "code",
   "execution_count": 48,
   "id": "g8ZotJSpP4A5",
   "metadata": {
    "id": "g8ZotJSpP4A5"
   },
   "outputs": [],
   "source": [
    "X = data.drop(columns=[\"Price (SAR)\"])  # Drop the target column\n",
    "y = data[\"Price (SAR)\"]  # Target column\n",
    "\n",
    "# Train-test split\n",
    "X_train, X_test, y_train, y_test = train_test_split(X, y, test_size=0.2, random_state=42)\n"
   ]
  },
  {
   "cell_type": "code",
   "execution_count": 49,
   "id": "ZWRPMD9NP_0C",
   "metadata": {
    "colab": {
     "base_uri": "https://localhost:8080/"
    },
    "id": "ZWRPMD9NP_0C",
    "outputId": "226d7ab2-8346-442b-d51f-7b4eeeb30b4c"
   },
   "outputs": [
    {
     "name": "stdout",
     "output_type": "stream",
     "text": [
      "Requirement already satisfied: catboost in /home/mana-saleh/anaconda3/lib/python3.12/site-packages (1.2.7)\n",
      "Requirement already satisfied: graphviz in /home/mana-saleh/anaconda3/lib/python3.12/site-packages (from catboost) (0.20.3)\n",
      "Requirement already satisfied: matplotlib in /home/mana-saleh/anaconda3/lib/python3.12/site-packages (from catboost) (3.8.4)\n",
      "Requirement already satisfied: numpy<2.0,>=1.16.0 in /home/mana-saleh/anaconda3/lib/python3.12/site-packages (from catboost) (1.26.4)\n",
      "Requirement already satisfied: pandas>=0.24 in /home/mana-saleh/anaconda3/lib/python3.12/site-packages (from catboost) (2.1.4)\n",
      "Requirement already satisfied: scipy in /home/mana-saleh/anaconda3/lib/python3.12/site-packages (from catboost) (1.13.1)\n",
      "Requirement already satisfied: plotly in /home/mana-saleh/anaconda3/lib/python3.12/site-packages (from catboost) (5.22.0)\n",
      "Requirement already satisfied: six in /home/mana-saleh/anaconda3/lib/python3.12/site-packages (from catboost) (1.16.0)\n",
      "Requirement already satisfied: python-dateutil>=2.8.2 in /home/mana-saleh/anaconda3/lib/python3.12/site-packages (from pandas>=0.24->catboost) (2.9.0.post0)\n",
      "Requirement already satisfied: pytz>=2020.1 in /home/mana-saleh/anaconda3/lib/python3.12/site-packages (from pandas>=0.24->catboost) (2024.1)\n",
      "Requirement already satisfied: tzdata>=2022.1 in /home/mana-saleh/anaconda3/lib/python3.12/site-packages (from pandas>=0.24->catboost) (2023.3)\n",
      "Requirement already satisfied: contourpy>=1.0.1 in /home/mana-saleh/anaconda3/lib/python3.12/site-packages (from matplotlib->catboost) (1.2.0)\n",
      "Requirement already satisfied: cycler>=0.10 in /home/mana-saleh/anaconda3/lib/python3.12/site-packages (from matplotlib->catboost) (0.11.0)\n",
      "Requirement already satisfied: fonttools>=4.22.0 in /home/mana-saleh/anaconda3/lib/python3.12/site-packages (from matplotlib->catboost) (4.51.0)\n",
      "Requirement already satisfied: kiwisolver>=1.3.1 in /home/mana-saleh/anaconda3/lib/python3.12/site-packages (from matplotlib->catboost) (1.4.4)\n",
      "Requirement already satisfied: packaging>=20.0 in /home/mana-saleh/anaconda3/lib/python3.12/site-packages (from matplotlib->catboost) (24.1)\n",
      "Requirement already satisfied: pillow>=8 in /home/mana-saleh/anaconda3/lib/python3.12/site-packages (from matplotlib->catboost) (10.3.0)\n",
      "Requirement already satisfied: pyparsing>=2.3.1 in /home/mana-saleh/anaconda3/lib/python3.12/site-packages (from matplotlib->catboost) (3.0.9)\n",
      "Requirement already satisfied: tenacity>=6.2.0 in /home/mana-saleh/anaconda3/lib/python3.12/site-packages (from plotly->catboost) (8.2.2)\n",
      "Note: you may need to restart the kernel to use updated packages.\n"
     ]
    }
   ],
   "source": [
    "pip install catboost"
   ]
  },
  {
   "cell_type": "code",
   "execution_count": 50,
   "id": "qvUEEim2P7Qi",
   "metadata": {
    "colab": {
     "base_uri": "https://localhost:8080/",
     "height": 367,
     "referenced_widgets": [
      "0870fc5bbf46471bb2b160dbbca5027d"
     ]
    },
    "id": "qvUEEim2P7Qi",
    "outputId": "90fdc385-e514-4015-b6e5-c0eddd848309"
   },
   "outputs": [
    {
     "data": {
      "application/vnd.jupyter.widget-view+json": {
       "model_id": "df1296c14fd744e7957bffc53c7e6a5f",
       "version_major": 2,
       "version_minor": 0
      },
      "text/plain": [
       "MetricVisualizer(layout=Layout(align_self='stretch', height='500px'))"
      ]
     },
     "metadata": {},
     "output_type": "display_data"
    },
    {
     "name": "stdout",
     "output_type": "stream",
     "text": [
      "0:\tlearn: 1952.3022966\ttest: 1927.1090130\tbest: 1927.1090130 (0)\ttotal: 49.2ms\tremaining: 1m 3s\n",
      "100:\tlearn: 473.8187804\ttest: 727.9757943\tbest: 727.9757943 (100)\ttotal: 124ms\tremaining: 1.47s\n",
      "200:\tlearn: 344.4423078\ttest: 704.4076391\tbest: 702.8969957 (169)\ttotal: 201ms\tremaining: 1.1s\n",
      "300:\tlearn: 274.6924257\ttest: 688.4052134\tbest: 687.9421851 (298)\ttotal: 278ms\tremaining: 923ms\n",
      "400:\tlearn: 241.1322541\ttest: 679.4955966\tbest: 678.7779940 (389)\ttotal: 355ms\tremaining: 796ms\n",
      "500:\tlearn: 218.0165495\ttest: 672.8089007\tbest: 672.8015013 (498)\ttotal: 431ms\tremaining: 687ms\n",
      "600:\tlearn: 198.0453793\ttest: 670.6177250\tbest: 669.9517839 (592)\ttotal: 508ms\tremaining: 591ms\n",
      "700:\tlearn: 181.7830711\ttest: 672.6182485\tbest: 668.4302320 (634)\ttotal: 586ms\tremaining: 501ms\n",
      "800:\tlearn: 172.0156072\ttest: 671.3515253\tbest: 668.4302320 (634)\ttotal: 663ms\tremaining: 413ms\n",
      "900:\tlearn: 163.6964546\ttest: 672.5540189\tbest: 668.4302320 (634)\ttotal: 744ms\tremaining: 329ms\n",
      "1000:\tlearn: 157.0536435\ttest: 672.1889484\tbest: 668.4302320 (634)\ttotal: 822ms\tremaining: 246ms\n",
      "1100:\tlearn: 150.9849491\ttest: 673.4669461\tbest: 668.4302320 (634)\ttotal: 899ms\tremaining: 162ms\n",
      "1200:\tlearn: 147.0111468\ttest: 671.7065242\tbest: 668.4302320 (634)\ttotal: 984ms\tremaining: 81.1ms\n",
      "1299:\tlearn: 143.1290639\ttest: 671.6642608\tbest: 668.4302320 (634)\ttotal: 1.06s\tremaining: 0us\n",
      "\n",
      "bestTest = 668.430232\n",
      "bestIteration = 634\n",
      "\n",
      "Shrink model to first 635 iterations.\n"
     ]
    }
   ],
   "source": [
    "from catboost import CatBoostRegressor\n",
    "\n",
    "# Initialize CatBoost regressor\n",
    "model = CatBoostRegressor(iterations=1300,  # Number of iterations\n",
    "                          depth=8,          # Depth of the tree\n",
    "                          learning_rate=0.1, # Learning rate\n",
    "                          loss_function='MAE', # Loss function for regression\n",
    "                          verbose=100)       # Verbose output for progress\n",
    "\n",
    "# Fit the model\n",
    "cat=model.fit(X_train, y_train, eval_set=(X_test, y_test), plot=True)"
   ]
  },
  {
   "cell_type": "code",
   "execution_count": 51,
   "id": "NX--zIjWSIhi",
   "metadata": {
    "id": "NX--zIjWSIhi"
   },
   "outputs": [],
   "source": [
    "model = CatBoostRegressor(\n",
    "    iterations=1200,\n",
    "    depth=6,\n",
    "    learning_rate=0.1,\n",
    "    loss_function='MAE',\n",
    "    verbose=100,\n",
    "    random_seed=42  # Set a fixed random seed\n",
    ")\n"
   ]
  },
  {
   "cell_type": "code",
   "execution_count": 52,
   "id": "jTplb2yvQGRh",
   "metadata": {
    "colab": {
     "base_uri": "https://localhost:8080/"
    },
    "id": "jTplb2yvQGRh",
    "outputId": "2bf984c9-484b-4e75-bbc5-1a9a9c0bc9d8"
   },
   "outputs": [
    {
     "name": "stdout",
     "output_type": "stream",
     "text": [
      "Training MAE: 193.0344595331811, R²: 0.9785730361500415\n",
      "Test MAE: 668.4302325326655, R²: 0.8811480279015217\n"
     ]
    }
   ],
   "source": [
    "from sklearn.metrics import mean_absolute_error, mean_squared_error, r2_score\n",
    "\n",
    "# Predict on test set\n",
    "y_pred_train = cat.predict(X_train)\n",
    "y_pred_test = cat.predict(X_test)\n",
    "\n",
    "# Calculate metrics\n",
    "train_mae = mean_absolute_error(y_train, y_pred_train)\n",
    "test_mae = mean_absolute_error(y_test, y_pred_test)\n",
    "\n",
    "train_r2 = r2_score(y_train, y_pred_train)\n",
    "test_r2 = r2_score(y_test, y_pred_test)\n",
    "\n",
    "print(f\"Training MAE: {train_mae}, R²: {train_r2}\")\n",
    "print(f\"Test MAE: {test_mae}, R²: {test_r2}\")"
   ]
  },
  {
   "cell_type": "markdown",
   "id": "01d0042c",
   "metadata": {},
   "source": [
    "Save the model "
   ]
  },
  {
   "cell_type": "code",
   "execution_count": 58,
   "id": "XdAS_C5jWhmt",
   "metadata": {
    "id": "XdAS_C5jWhmt"
   },
   "outputs": [
    {
     "data": {
      "text/plain": [
       "['../Models/cat_model-v4.pkl']"
      ]
     },
     "execution_count": 58,
     "metadata": {},
     "output_type": "execute_result"
    }
   ],
   "source": [
    "import joblib\n",
    "\n",
    "# Save the trained model\n",
    "joblib.dump(cat, '../Models/cat_model-v4.pkl')"
   ]
  },
  {
   "cell_type": "markdown",
   "id": "fdf0b341",
   "metadata": {},
   "source": [
    "Save the ordinal encoder "
   ]
  },
  {
   "cell_type": "code",
   "execution_count": 59,
   "id": "151e113c",
   "metadata": {},
   "outputs": [
    {
     "data": {
      "text/plain": [
       "['../Models/ordinal_encoder.pkl']"
      ]
     },
     "execution_count": 59,
     "metadata": {},
     "output_type": "execute_result"
    }
   ],
   "source": [
    "joblib.dump(ordinal_encoder, '../Models/ordinal_encoder.pkl')"
   ]
  },
  {
   "cell_type": "markdown",
   "id": "6cf90ee8",
   "metadata": {},
   "source": [
    "Save the data and the test data "
   ]
  },
  {
   "cell_type": "code",
   "execution_count": 60,
   "id": "1d2a5f87",
   "metadata": {},
   "outputs": [],
   "source": [
    "X_test.to_csv('../Data/X_test_v4.csv', index=False)"
   ]
  },
  {
   "cell_type": "code",
   "execution_count": 61,
   "id": "3e8a9557-a7f8-432c-b130-6a0c324ea821",
   "metadata": {},
   "outputs": [
    {
     "data": {
      "text/plain": [
       "['../Models/training_columns.pkl']"
      ]
     },
     "execution_count": 61,
     "metadata": {},
     "output_type": "execute_result"
    }
   ],
   "source": [
    "training_columns = X_train.columns.tolist()\n",
    "joblib.dump(training_columns, '../Models/training_columns.pkl')"
   ]
  },
  {
   "cell_type": "code",
   "execution_count": 62,
   "id": "a8860dac",
   "metadata": {},
   "outputs": [],
   "source": [
    "data.to_csv('../Data/Dataset_encoding_v4.csv', index=False)"
   ]
  },
  {
   "cell_type": "code",
   "execution_count": null,
   "id": "2ae6efd0-e1b7-41af-a6ea-5e288674b5b6",
   "metadata": {},
   "outputs": [],
   "source": []
  }
 ],
 "metadata": {
  "colab": {
   "provenance": []
  },
  "kernelspec": {
   "display_name": "Python 3 (ipykernel)",
   "language": "python",
   "name": "python3"
  },
  "language_info": {
   "codemirror_mode": {
    "name": "ipython",
    "version": 3
   },
   "file_extension": ".py",
   "mimetype": "text/x-python",
   "name": "python",
   "nbconvert_exporter": "python",
   "pygments_lexer": "ipython3",
   "version": "3.12.4"
  },
  "widgets": {
   "application/vnd.jupyter.widget-state+json": {
    "0870fc5bbf46471bb2b160dbbca5027d": {
     "model_module": "catboost-widget",
     "model_module_version": "^1.0.0",
     "model_name": "CatboostWidgetModel",
     "state": {
      "_dom_classes": [],
      "_model_module": "catboost-widget",
      "_model_module_version": "^1.0.0",
      "_model_name": "CatboostWidgetModel",
      "_view_count": null,
      "_view_module": "catboost-widget",
      "_view_module_version": "^1.0.0",
      "_view_name": "CatboostWidgetView",
      "data": {
       "catboost_info": {
        "content": {
         "data": {
          "iterations": [
           {
            "iteration": 0,
            "learn": [
             1961.552989
            ],
            "passed_time": 0.02069386857,
            "remaining_time": 26.88133527,
            "test": [
             1931.627071
            ]
           },
           {
            "iteration": 1,
            "learn": [
             1824.538368
            ],
            "passed_time": 0.0366417213,
            "remaining_time": 23.78047712,
            "test": [
             1810.361951
            ]
           },
           {
            "iteration": 2,
            "learn": [
             1724.002601
            ],
            "passed_time": 0.05163184353,
            "remaining_time": 22.32216702,
            "test": [
             1729.048978
            ]
           },
           {
            "iteration": 3,
            "learn": [
             1628.490323
            ],
            "passed_time": 0.0675723306,
            "remaining_time": 21.89343512,
            "test": [
             1645.137762
            ]
           },
           {
            "iteration": 4,
            "learn": [
             1532.512535
            ],
            "passed_time": 0.08320505995,
            "remaining_time": 21.55011053,
            "test": [
             1556.363215
            ]
           },
           {
            "iteration": 5,
            "learn": [
             1444.938424
            ],
            "passed_time": 0.1059509315,
            "remaining_time": 22.85008423,
            "test": [
             1472.925851
            ]
           },
           {
            "iteration": 6,
            "learn": [
             1361.38023
            ],
            "passed_time": 0.1359985842,
            "remaining_time": 25.12088135,
            "test": [
             1400.317215
            ]
           },
           {
            "iteration": 7,
            "learn": [
             1305.203812
            ],
            "passed_time": 0.1736642324,
            "remaining_time": 28.04677354,
            "test": [
             1344.775217
            ]
           },
           {
            "iteration": 8,
            "learn": [
             1249.130419
            ],
            "passed_time": 0.1991725597,
            "remaining_time": 28.57019717,
            "test": [
             1297.133243
            ]
           },
           {
            "iteration": 9,
            "learn": [
             1193.611053
            ],
            "passed_time": 0.2193508701,
            "remaining_time": 28.29626225,
            "test": [
             1256.715091
            ]
           },
           {
            "iteration": 10,
            "learn": [
             1151.283237
            ],
            "passed_time": 0.2326800822,
            "remaining_time": 27.26587508,
            "test": [
             1211.363513
            ]
           },
           {
            "iteration": 11,
            "learn": [
             1109.450382
            ],
            "passed_time": 0.2490712046,
            "remaining_time": 26.73364263,
            "test": [
             1171.122186
            ]
           },
           {
            "iteration": 12,
            "learn": [
             1069.407733
            ],
            "passed_time": 0.2657492905,
            "remaining_time": 26.30917976,
            "test": [
             1134.586113
            ]
           },
           {
            "iteration": 13,
            "learn": [
             1028.325476
            ],
            "passed_time": 0.3011869399,
            "remaining_time": 27.66617176,
            "test": [
             1102.087739
            ]
           },
           {
            "iteration": 14,
            "learn": [
             1000.28877
            ],
            "passed_time": 0.3276174521,
            "remaining_time": 28.06589506,
            "test": [
             1086.658603
            ]
           },
           {
            "iteration": 15,
            "learn": [
             976.8513243
            ],
            "passed_time": 0.3478853823,
            "remaining_time": 27.91780193,
            "test": [
             1061.478627
            ]
           },
           {
            "iteration": 16,
            "learn": [
             956.8129434
            ],
            "passed_time": 0.3727379003,
            "remaining_time": 28.13074859,
            "test": [
             1045.825734
            ]
           },
           {
            "iteration": 17,
            "learn": [
             929.5612599
            ],
            "passed_time": 0.3862905031,
            "remaining_time": 27.51246805,
            "test": [
             1020.056881
            ]
           },
           {
            "iteration": 18,
            "learn": [
             909.7777691
            ],
            "passed_time": 0.4041489267,
            "remaining_time": 27.24814606,
            "test": [
             1002.575323
            ]
           },
           {
            "iteration": 19,
            "learn": [
             890.7181562
            ],
            "passed_time": 0.43719931,
            "remaining_time": 27.98075584,
            "test": [
             983.395411
            ]
           },
           {
            "iteration": 20,
            "learn": [
             871.7884822
            ],
            "passed_time": 0.4595275053,
            "remaining_time": 27.9874133,
            "test": [
             968.1588809
            ]
           },
           {
            "iteration": 21,
            "learn": [
             854.6334179
            ],
            "passed_time": 0.4890502315,
            "remaining_time": 28.40937254,
            "test": [
             957.1702794
            ]
           },
           {
            "iteration": 22,
            "learn": [
             840.7065349
            ],
            "passed_time": 0.5086317888,
            "remaining_time": 28.24012149,
            "test": [
             949.5837098
            ]
           },
           {
            "iteration": 23,
            "learn": [
             822.2659809
            ],
            "passed_time": 0.5286930988,
            "remaining_time": 28.10884975,
            "test": [
             936.5338661
            ]
           },
           {
            "iteration": 24,
            "learn": [
             808.2706408
            ],
            "passed_time": 0.5444128769,
            "remaining_time": 27.76505672,
            "test": [
             927.5078996
            ]
           },
           {
            "iteration": 25,
            "learn": [
             796.1050056
            ],
            "passed_time": 0.5570971536,
            "remaining_time": 27.29776052,
            "test": [
             916.1361338
            ]
           },
           {
            "iteration": 26,
            "learn": [
             785.170092
            ],
            "passed_time": 0.5768475057,
            "remaining_time": 27.19729166,
            "test": [
             907.0612669
            ]
           },
           {
            "iteration": 27,
            "learn": [
             774.6179943
            ],
            "passed_time": 0.5971743003,
            "remaining_time": 27.12877536,
            "test": [
             899.1469837
            ]
           },
           {
            "iteration": 28,
            "learn": [
             766.6725552
            ],
            "passed_time": 0.6207201416,
            "remaining_time": 27.20466552,
            "test": [
             888.5074629
            ]
           },
           {
            "iteration": 29,
            "learn": [
             759.7290298
            ],
            "passed_time": 0.6335200879,
            "remaining_time": 26.81901705,
            "test": [
             882.5574489
            ]
           },
           {
            "iteration": 30,
            "learn": [
             749.892568
            ],
            "passed_time": 0.648348611,
            "remaining_time": 26.54046411,
            "test": [
             875.3554814
            ]
           },
           {
            "iteration": 31,
            "learn": [
             744.4486743
            ],
            "passed_time": 0.6690769251,
            "remaining_time": 26.51217316,
            "test": [
             871.7796011
            ]
           },
           {
            "iteration": 32,
            "learn": [
             740.6806555
            ],
            "passed_time": 0.6714672376,
            "remaining_time": 25.78027242,
            "test": [
             868.2824154
            ]
           },
           {
            "iteration": 33,
            "learn": [
             733.4408416
            ],
            "passed_time": 0.6817770586,
            "remaining_time": 25.3861693,
            "test": [
             866.5401678
            ]
           },
           {
            "iteration": 34,
            "learn": [
             723.5307067
            ],
            "passed_time": 0.7071121627,
            "remaining_time": 25.55705388,
            "test": [
             857.9326952
            ]
           },
           {
            "iteration": 35,
            "learn": [
             718.8658532
            ],
            "passed_time": 0.7168024491,
            "remaining_time": 25.16773043,
            "test": [
             854.4896379
            ]
           },
           {
            "iteration": 36,
            "learn": [
             709.8799875
            ],
            "passed_time": 0.7254201562,
            "remaining_time": 24.76231506,
            "test": [
             843.5252673
            ]
           },
           {
            "iteration": 37,
            "learn": [
             703.2440409
            ],
            "passed_time": 0.7395849208,
            "remaining_time": 24.56200447,
            "test": [
             837.5123244
            ]
           },
           {
            "iteration": 38,
            "learn": [
             694.3597912
            ],
            "passed_time": 0.7489902509,
            "remaining_time": 24.21735145,
            "test": [
             830.063313
            ]
           },
           {
            "iteration": 39,
            "learn": [
             687.1774077
            ],
            "passed_time": 0.7599434554,
            "remaining_time": 23.93821884,
            "test": [
             822.8756651
            ]
           },
           {
            "iteration": 40,
            "learn": [
             681.841669
            ],
            "passed_time": 0.7670590458,
            "remaining_time": 23.55432533,
            "test": [
             815.3827574
            ]
           },
           {
            "iteration": 41,
            "learn": [
             674.4549077
            ],
            "passed_time": 0.7766316134,
            "remaining_time": 23.26196594,
            "test": [
             807.7347576
            ]
           },
           {
            "iteration": 42,
            "learn": [
             670.1946425
            ],
            "passed_time": 0.7855749351,
            "remaining_time": 22.96436496,
            "test": [
             803.842404
            ]
           },
           {
            "iteration": 43,
            "learn": [
             666.0905093
            ],
            "passed_time": 0.7933957336,
            "remaining_time": 22.64784185,
            "test": [
             801.3491665
            ]
           },
           {
            "iteration": 44,
            "learn": [
             662.2345412
            ],
            "passed_time": 0.8060741083,
            "remaining_time": 22.48051124,
            "test": [
             798.5311149
            ]
           },
           {
            "iteration": 45,
            "learn": [
             659.0879196
            ],
            "passed_time": 0.827110331,
            "remaining_time": 22.54774685,
            "test": [
             794.8407432
            ]
           },
           {
            "iteration": 46,
            "learn": [
             653.8429142
            ],
            "passed_time": 0.842744264,
            "remaining_time": 22.46720346,
            "test": [
             786.5899024
            ]
           },
           {
            "iteration": 47,
            "learn": [
             648.5474244
            ],
            "passed_time": 0.8681980588,
            "remaining_time": 22.64549937,
            "test": [
             782.4794409
            ]
           },
           {
            "iteration": 48,
            "learn": [
             644.9908603
            ],
            "passed_time": 0.8861395065,
            "remaining_time": 22.62368414,
            "test": [
             778.7286891
            ]
           },
           {
            "iteration": 49,
            "learn": [
             640.6718981
            ],
            "passed_time": 0.9096126421,
            "remaining_time": 22.74031605,
            "test": [
             777.3945293
            ]
           },
           {
            "iteration": 50,
            "learn": [
             635.4959898
            ],
            "passed_time": 0.9324892001,
            "remaining_time": 22.83684335,
            "test": [
             773.8465002
            ]
           },
           {
            "iteration": 51,
            "learn": [
             631.6332208
            ],
            "passed_time": 0.9493894704,
            "remaining_time": 22.78534729,
            "test": [
             772.9244706
            ]
           },
           {
            "iteration": 52,
            "learn": [
             628.665768
            ],
            "passed_time": 0.9670469493,
            "remaining_time": 22.75297256,
            "test": [
             771.5327103
            ]
           },
           {
            "iteration": 53,
            "learn": [
             624.5116294
            ],
            "passed_time": 0.9819175545,
            "remaining_time": 22.65683839,
            "test": [
             767.8010445
            ]
           },
           {
            "iteration": 54,
            "learn": [
             620.787967
            ],
            "passed_time": 0.9976644444,
            "remaining_time": 22.58349515,
            "test": [
             763.7504309
            ]
           },
           {
            "iteration": 55,
            "learn": [
             616.8591074
            ],
            "passed_time": 1.014446003,
            "remaining_time": 22.53519336,
            "test": [
             758.9397755
            ]
           },
           {
            "iteration": 56,
            "learn": [
             612.2653779
            ],
            "passed_time": 1.032001587,
            "remaining_time": 22.50487672,
            "test": [
             752.7637607
            ]
           },
           {
            "iteration": 57,
            "learn": [
             609.1781006
            ],
            "passed_time": 1.047523917,
            "remaining_time": 22.43146044,
            "test": [
             750.5973165
            ]
           },
           {
            "iteration": 58,
            "learn": [
             607.0362108
            ],
            "passed_time": 1.06481997,
            "remaining_time": 22.39731495,
            "test": [
             744.4565788
            ]
           },
           {
            "iteration": 59,
            "learn": [
             600.7845728
            ],
            "passed_time": 1.078389248,
            "remaining_time": 22.28671113,
            "test": [
             740.5011574
            ]
           },
           {
            "iteration": 60,
            "learn": [
             595.209583
            ],
            "passed_time": 1.092079079,
            "remaining_time": 22.18173735,
            "test": [
             733.0865117
            ]
           },
           {
            "iteration": 61,
            "learn": [
             592.5015385
            ],
            "passed_time": 1.107034628,
            "remaining_time": 22.10498177,
            "test": [
             732.5538442
            ]
           },
           {
            "iteration": 62,
            "learn": [
             590.530858
            ],
            "passed_time": 1.121060321,
            "remaining_time": 22.01193042,
            "test": [
             731.8639399
            ]
           },
           {
            "iteration": 63,
            "learn": [
             585.967332
            ],
            "passed_time": 1.135488833,
            "remaining_time": 21.9291281,
            "test": [
             725.8333319
            ]
           },
           {
            "iteration": 64,
            "learn": [
             584.3783405
            ],
            "passed_time": 1.148412083,
            "remaining_time": 21.81982958,
            "test": [
             724.8408542
            ]
           },
           {
            "iteration": 65,
            "learn": [
             581.1608213
            ],
            "passed_time": 1.162260718,
            "remaining_time": 21.73075342,
            "test": [
             721.6008309
            ]
           },
           {
            "iteration": 66,
            "learn": [
             577.6761961
            ],
            "passed_time": 1.174934393,
            "remaining_time": 21.62230011,
            "test": [
             720.569114
            ]
           },
           {
            "iteration": 67,
            "learn": [
             575.0601734
            ],
            "passed_time": 1.190193626,
            "remaining_time": 21.56350805,
            "test": [
             719.0867278
            ]
           },
           {
            "iteration": 68,
            "learn": [
             568.3395015
            ],
            "passed_time": 1.210298307,
            "remaining_time": 21.59242342,
            "test": [
             711.5346907
            ]
           },
           {
            "iteration": 69,
            "learn": [
             563.5154066
            ],
            "passed_time": 1.226660446,
            "remaining_time": 21.55417641,
            "test": [
             708.9031205
            ]
           },
           {
            "iteration": 70,
            "learn": [
             561.0382277
            ],
            "passed_time": 1.24692811,
            "remaining_time": 21.58414996,
            "test": [
             706.5771192
            ]
           },
           {
            "iteration": 71,
            "learn": [
             560.0388261
            ],
            "passed_time": 1.265456024,
            "remaining_time": 21.58305552,
            "test": [
             706.3032469
            ]
           },
           {
            "iteration": 72,
            "learn": [
             559.2606297
            ],
            "passed_time": 1.286770733,
            "remaining_time": 21.62832451,
            "test": [
             706.1399099
            ]
           },
           {
            "iteration": 73,
            "learn": [
             558.5042409
            ],
            "passed_time": 1.31105119,
            "remaining_time": 21.72092918,
            "test": [
             706.0571252
            ]
           },
           {
            "iteration": 74,
            "learn": [
             553.059976
            ],
            "passed_time": 1.338290958,
            "remaining_time": 21.85875231,
            "test": [
             702.842134
            ]
           },
           {
            "iteration": 75,
            "learn": [
             549.2253183
            ],
            "passed_time": 1.357674787,
            "remaining_time": 21.86570972,
            "test": [
             698.1757572
            ]
           },
           {
            "iteration": 76,
            "learn": [
             548.5191405
            ],
            "passed_time": 1.38723802,
            "remaining_time": 22.03366362,
            "test": [
             698.013412
            ]
           },
           {
            "iteration": 77,
            "learn": [
             545.5724051
            ],
            "passed_time": 1.419510823,
            "remaining_time": 22.23900289,
            "test": [
             698.0622331
            ]
           },
           {
            "iteration": 78,
            "learn": [
             540.3995146
            ],
            "passed_time": 1.440628494,
            "remaining_time": 22.26591635,
            "test": [
             696.8750246
            ]
           },
           {
            "iteration": 79,
            "learn": [
             537.6538298
            ],
            "passed_time": 1.462677401,
            "remaining_time": 22.30583036,
            "test": [
             694.0881719
            ]
           },
           {
            "iteration": 80,
            "learn": [
             532.8482992
            ],
            "passed_time": 1.501878958,
            "remaining_time": 22.60235124,
            "test": [
             694.2284077
            ]
           },
           {
            "iteration": 81,
            "learn": [
             529.9740217
            ],
            "passed_time": 1.534565113,
            "remaining_time": 22.7939062,
            "test": [
             693.537059
            ]
           },
           {
            "iteration": 82,
            "learn": [
             525.8488216
            ],
            "passed_time": 1.560674362,
            "remaining_time": 22.88362287,
            "test": [
             691.4073398
            ]
           },
           {
            "iteration": 83,
            "learn": [
             523.4728032
            ],
            "passed_time": 1.579027405,
            "remaining_time": 22.85830148,
            "test": [
             690.270622
            ]
           },
           {
            "iteration": 84,
            "learn": [
             520.7603642
            ],
            "passed_time": 1.604544448,
            "remaining_time": 22.93554711,
            "test": [
             688.4023004
            ]
           },
           {
            "iteration": 85,
            "learn": [
             516.9288926
            ],
            "passed_time": 1.636060235,
            "remaining_time": 23.09508286,
            "test": [
             687.9464751
            ]
           },
           {
            "iteration": 86,
            "learn": [
             513.4674581
            ],
            "passed_time": 1.650910648,
            "remaining_time": 23.01786915,
            "test": [
             686.1319961
            ]
           },
           {
            "iteration": 87,
            "learn": [
             511.4704813
            ],
            "passed_time": 1.669518926,
            "remaining_time": 22.99382884,
            "test": [
             684.7974119
            ]
           },
           {
            "iteration": 88,
            "learn": [
             508.8647677
            ],
            "passed_time": 1.689873678,
            "remaining_time": 22.99367443,
            "test": [
             682.5255481
            ]
           },
           {
            "iteration": 89,
            "learn": [
             505.6790101
            ],
            "passed_time": 1.706314323,
            "remaining_time": 22.94044812,
            "test": [
             680.6730584
            ]
           },
           {
            "iteration": 90,
            "learn": [
             503.0828494
            ],
            "passed_time": 1.726935556,
            "remaining_time": 22.94357238,
            "test": [
             679.7210072
            ]
           },
           {
            "iteration": 91,
            "learn": [
             498.8901991
            ],
            "passed_time": 1.761020769,
            "remaining_time": 23.12296836,
            "test": [
             678.7601518
            ]
           },
           {
            "iteration": 92,
            "learn": [
             495.6262293
            ],
            "passed_time": 1.786325475,
            "remaining_time": 23.18381558,
            "test": [
             674.4355287
            ]
           },
           {
            "iteration": 93,
            "learn": [
             491.0343048
            ],
            "passed_time": 1.824272654,
            "remaining_time": 23.40503001,
            "test": [
             672.7390037
            ]
           },
           {
            "iteration": 94,
            "learn": [
             485.0382772
            ],
            "passed_time": 1.852473196,
            "remaining_time": 23.49716001,
            "test": [
             674.3482276
            ]
           },
           {
            "iteration": 95,
            "learn": [
             482.9711248
            ],
            "passed_time": 1.932848057,
            "remaining_time": 24.24113605,
            "test": [
             673.4738193
            ]
           },
           {
            "iteration": 96,
            "learn": [
             480.419246
            ],
            "passed_time": 1.975251425,
            "remaining_time": 24.49719035,
            "test": [
             671.9412362
            ]
           },
           {
            "iteration": 97,
            "learn": [
             477.7734092
            ],
            "passed_time": 2.012710586,
            "remaining_time": 24.68651148,
            "test": [
             671.2805603
            ]
           },
           {
            "iteration": 98,
            "learn": [
             476.5714708
            ],
            "passed_time": 2.049621609,
            "remaining_time": 24.86460154,
            "test": [
             670.0679855
            ]
           },
           {
            "iteration": 99,
            "learn": [
             473.1740953
            ],
            "passed_time": 2.075806324,
            "remaining_time": 24.90967589,
            "test": [
             672.4954136
            ]
           },
           {
            "iteration": 100,
            "learn": [
             468.570119
            ],
            "passed_time": 2.108780765,
            "remaining_time": 25.03394195,
            "test": [
             671.8669266
            ]
           },
           {
            "iteration": 101,
            "learn": [
             462.9073945
            ],
            "passed_time": 2.119441906,
            "remaining_time": 24.89305297,
            "test": [
             666.5680198
            ]
           },
           {
            "iteration": 102,
            "learn": [
             461.3299165
            ],
            "passed_time": 2.147625759,
            "remaining_time": 24.95833042,
            "test": [
             667.491475
            ]
           },
           {
            "iteration": 103,
            "learn": [
             458.9593731
            ],
            "passed_time": 2.167971727,
            "remaining_time": 24.93167486,
            "test": [
             666.424473
            ]
           },
           {
            "iteration": 104,
            "learn": [
             457.1743602
            ],
            "passed_time": 2.183155807,
            "remaining_time": 24.84639227,
            "test": [
             664.8779471
            ]
           },
           {
            "iteration": 105,
            "learn": [
             452.6728159
            ],
            "passed_time": 2.208031181,
            "remaining_time": 24.87159651,
            "test": [
             663.89313
            ]
           },
           {
            "iteration": 106,
            "learn": [
             449.988022
            ],
            "passed_time": 2.237053994,
            "remaining_time": 24.94210668,
            "test": [
             660.5235843
            ]
           },
           {
            "iteration": 107,
            "learn": [
             448.4625582
            ],
            "passed_time": 2.263454226,
            "remaining_time": 24.98182812,
            "test": [
             659.8566053
            ]
           },
           {
            "iteration": 108,
            "learn": [
             444.0331843
            ],
            "passed_time": 2.283459762,
            "remaining_time": 24.95046401,
            "test": [
             659.5854067
            ]
           },
           {
            "iteration": 109,
            "learn": [
             440.7436834
            ],
            "passed_time": 2.295581353,
            "remaining_time": 24.83401646,
            "test": [
             659.5536406
            ]
           },
           {
            "iteration": 110,
            "learn": [
             439.2078836
            ],
            "passed_time": 2.305010914,
            "remaining_time": 24.6906124,
            "test": [
             658.9336944
            ]
           },
           {
            "iteration": 111,
            "learn": [
             437.9025032
            ],
            "passed_time": 2.319726508,
            "remaining_time": 24.60567046,
            "test": [
             657.5898467
            ]
           },
           {
            "iteration": 112,
            "learn": [
             435.0351841
            ],
            "passed_time": 2.333555759,
            "remaining_time": 24.51266094,
            "test": [
             655.4321077
            ]
           },
           {
            "iteration": 113,
            "learn": [
             433.8087686
            ],
            "passed_time": 2.343205569,
            "remaining_time": 24.37755969,
            "test": [
             654.6890478
            ]
           },
           {
            "iteration": 114,
            "learn": [
             431.5540781
            ],
            "passed_time": 2.369280005,
            "remaining_time": 24.41388527,
            "test": [
             653.998201
            ]
           },
           {
            "iteration": 115,
            "learn": [
             430.3721737
            ],
            "passed_time": 2.388879935,
            "remaining_time": 24.38305037,
            "test": [
             653.9292372
            ]
           },
           {
            "iteration": 116,
            "learn": [
             428.6699808
            ],
            "passed_time": 2.40432194,
            "remaining_time": 24.31036629,
            "test": [
             652.2773982
            ]
           },
           {
            "iteration": 117,
            "learn": [
             427.4827711
            ],
            "passed_time": 2.415514261,
            "remaining_time": 24.19608353,
            "test": [
             652.4058772
            ]
           },
           {
            "iteration": 118,
            "learn": [
             425.4695109
            ],
            "passed_time": 2.42922667,
            "remaining_time": 24.10854367,
            "test": [
             650.3849279
            ]
           },
           {
            "iteration": 119,
            "learn": [
             421.6358267
            ],
            "passed_time": 2.441606028,
            "remaining_time": 24.00912594,
            "test": [
             650.2260369
            ]
           },
           {
            "iteration": 120,
            "learn": [
             420.3814013
            ],
            "passed_time": 2.453620575,
            "remaining_time": 23.90759221,
            "test": [
             650.4039883
            ]
           },
           {
            "iteration": 121,
            "learn": [
             417.9210555
            ],
            "passed_time": 2.467877257,
            "remaining_time": 23.82917549,
            "test": [
             649.312129
            ]
           },
           {
            "iteration": 122,
            "learn": [
             416.9506148
            ],
            "passed_time": 2.47683702,
            "remaining_time": 23.70111522,
            "test": [
             650.1535455
            ]
           },
           {
            "iteration": 123,
            "learn": [
             415.814914
            ],
            "passed_time": 2.487248586,
            "remaining_time": 23.58874466,
            "test": [
             650.3256508
            ]
           },
           {
            "iteration": 124,
            "learn": [
             413.2689521
            ],
            "passed_time": 2.500645367,
            "remaining_time": 23.50606645,
            "test": [
             648.6353495
            ]
           },
           {
            "iteration": 125,
            "learn": [
             410.2613815
            ],
            "passed_time": 2.510820044,
            "remaining_time": 23.39446613,
            "test": [
             648.2562013
            ]
           },
           {
            "iteration": 126,
            "learn": [
             406.6314303
            ],
            "passed_time": 2.522564811,
            "remaining_time": 23.29896475,
            "test": [
             647.1018303
            ]
           },
           {
            "iteration": 127,
            "learn": [
             402.043589
            ],
            "passed_time": 2.531803849,
            "remaining_time": 23.181829,
            "test": [
             643.5426803
            ]
           },
           {
            "iteration": 128,
            "learn": [
             401.3766724
            ],
            "passed_time": 2.544280605,
            "remaining_time": 23.0957565,
            "test": [
             642.9732951
            ]
           },
           {
            "iteration": 129,
            "learn": [
             396.1672974
            ],
            "passed_time": 2.556372566,
            "remaining_time": 23.00735309,
            "test": [
             642.2943403
            ]
           },
           {
            "iteration": 130,
            "learn": [
             391.1498584
            ],
            "passed_time": 2.57456455,
            "remaining_time": 22.97454931,
            "test": [
             642.2972151
            ]
           },
           {
            "iteration": 131,
            "learn": [
             387.7261533
            ],
            "passed_time": 2.584836282,
            "remaining_time": 22.87188468,
            "test": [
             641.0004119
            ]
           },
           {
            "iteration": 132,
            "learn": [
             386.2478495
            ],
            "passed_time": 2.600636994,
            "remaining_time": 22.81912309,
            "test": [
             639.8463914
            ]
           },
           {
            "iteration": 133,
            "learn": [
             384.4136471
            ],
            "passed_time": 2.609659104,
            "remaining_time": 22.70792922,
            "test": [
             639.2488224
            ]
           },
           {
            "iteration": 134,
            "learn": [
             383.4126625
            ],
            "passed_time": 2.616965016,
            "remaining_time": 22.58343884,
            "test": [
             638.6276862
            ]
           },
           {
            "iteration": 135,
            "learn": [
             382.403502
            ],
            "passed_time": 2.626771572,
            "remaining_time": 22.48207434,
            "test": [
             638.4430546
            ]
           },
           {
            "iteration": 136,
            "learn": [
             379.2294585
            ],
            "passed_time": 2.636032465,
            "remaining_time": 22.37741429,
            "test": [
             637.5241952
            ]
           },
           {
            "iteration": 137,
            "learn": [
             378.2599645
            ],
            "passed_time": 2.645158949,
            "remaining_time": 22.27300507,
            "test": [
             637.3516068
            ]
           },
           {
            "iteration": 138,
            "learn": [
             376.7283411
            ],
            "passed_time": 2.65415825,
            "remaining_time": 22.16890452,
            "test": [
             636.8513208
            ]
           },
           {
            "iteration": 139,
            "learn": [
             375.990088
            ],
            "passed_time": 2.66396298,
            "remaining_time": 22.07283612,
            "test": [
             636.4530185
            ]
           },
           {
            "iteration": 140,
            "learn": [
             374.1259803
            ],
            "passed_time": 2.674407788,
            "remaining_time": 21.98325267,
            "test": [
             636.3987787
            ]
           },
           {
            "iteration": 141,
            "learn": [
             372.9262927
            ],
            "passed_time": 2.685423744,
            "remaining_time": 21.89944152,
            "test": [
             636.0009762
            ]
           },
           {
            "iteration": 142,
            "learn": [
             372.637191
            ],
            "passed_time": 2.700587762,
            "remaining_time": 21.85021008,
            "test": [
             636.0085231
            ]
           },
           {
            "iteration": 143,
            "learn": [
             370.8251074
            ],
            "passed_time": 2.715818587,
            "remaining_time": 21.8019881,
            "test": [
             634.9050714
            ]
           },
           {
            "iteration": 144,
            "learn": [
             370.1726753
            ],
            "passed_time": 2.739911426,
            "remaining_time": 21.8248117,
            "test": [
             634.744191
            ]
           },
           {
            "iteration": 145,
            "learn": [
             367.1335881
            ],
            "passed_time": 2.754130834,
            "remaining_time": 21.76895193,
            "test": [
             634.2324927
            ]
           },
           {
            "iteration": 146,
            "learn": [
             365.6638443
            ],
            "passed_time": 2.770660017,
            "remaining_time": 21.73177551,
            "test": [
             631.4159607
            ]
           },
           {
            "iteration": 147,
            "learn": [
             362.5468812
            ],
            "passed_time": 2.797551523,
            "remaining_time": 21.77553618,
            "test": [
             631.1145167
            ]
           },
           {
            "iteration": 148,
            "learn": [
             361.4481897
            ],
            "passed_time": 2.818150795,
            "remaining_time": 21.76974205,
            "test": [
             630.447628
            ]
           },
           {
            "iteration": 149,
            "learn": [
             359.8489141
            ],
            "passed_time": 2.842288509,
            "remaining_time": 21.79087857,
            "test": [
             628.5415837
            ]
           },
           {
            "iteration": 150,
            "learn": [
             357.4517375
            ],
            "passed_time": 2.860147943,
            "remaining_time": 21.76364229,
            "test": [
             629.5762462
            ]
           },
           {
            "iteration": 151,
            "learn": [
             356.6109496
            ],
            "passed_time": 2.877395188,
            "remaining_time": 21.73190576,
            "test": [
             629.7665796
            ]
           },
           {
            "iteration": 152,
            "learn": [
             356.3097645
            ],
            "passed_time": 2.893217423,
            "remaining_time": 21.68967571,
            "test": [
             629.899346
            ]
           },
           {
            "iteration": 153,
            "learn": [
             356.0154297
            ],
            "passed_time": 2.907063105,
            "remaining_time": 21.63307999,
            "test": [
             629.6719094
            ]
           },
           {
            "iteration": 154,
            "learn": [
             353.6468577
            ],
            "passed_time": 2.915959314,
            "remaining_time": 21.54047365,
            "test": [
             628.0028889
            ]
           },
           {
            "iteration": 155,
            "learn": [
             352.7749902
            ],
            "passed_time": 2.955700617,
            "remaining_time": 21.67513786,
            "test": [
             627.1071604
            ]
           },
           {
            "iteration": 156,
            "learn": [
             350.5776139
            ],
            "passed_time": 2.981412738,
            "remaining_time": 21.70544433,
            "test": [
             624.9655332
            ]
           },
           {
            "iteration": 157,
            "learn": [
             348.6044879
            ],
            "passed_time": 2.998061754,
            "remaining_time": 21.66953496,
            "test": [
             624.3743045
            ]
           },
           {
            "iteration": 158,
            "learn": [
             348.1579724
            ],
            "passed_time": 3.015290158,
            "remaining_time": 21.6380256,
            "test": [
             624.3432591
            ]
           },
           {
            "iteration": 159,
            "learn": [
             347.6360647
            ],
            "passed_time": 3.060446262,
            "remaining_time": 21.80567962,
            "test": [
             624.2550497
            ]
           },
           {
            "iteration": 160,
            "learn": [
             346.7078107
            ],
            "passed_time": 3.089524825,
            "remaining_time": 21.85694892,
            "test": [
             624.1620592
            ]
           },
           {
            "iteration": 161,
            "learn": [
             345.7340935
            ],
            "passed_time": 3.12260505,
            "remaining_time": 21.93533671,
            "test": [
             623.6625089
            ]
           },
           {
            "iteration": 162,
            "learn": [
             344.0415572
            ],
            "passed_time": 3.155947252,
            "remaining_time": 22.01418421,
            "test": [
             623.0877687
            ]
           },
           {
            "iteration": 163,
            "learn": [
             343.6517856
            ],
            "passed_time": 3.168480831,
            "remaining_time": 21.94752576,
            "test": [
             622.7854938
            ]
           },
           {
            "iteration": 164,
            "learn": [
             342.4979476
            ],
            "passed_time": 3.189730638,
            "remaining_time": 21.94148045,
            "test": [
             622.6836365
            ]
           },
           {
            "iteration": 165,
            "learn": [
             341.9531741
            ],
            "passed_time": 3.214150598,
            "remaining_time": 21.95690831,
            "test": [
             622.4318925
            ]
           },
           {
            "iteration": 166,
            "learn": [
             341.1992972
            ],
            "passed_time": 3.232241969,
            "remaining_time": 21.92892306,
            "test": [
             622.4688069
            ]
           },
           {
            "iteration": 167,
            "learn": [
             340.6750587
            ],
            "passed_time": 3.24833636,
            "remaining_time": 21.88759976,
            "test": [
             622.6136515
            ]
           },
           {
            "iteration": 168,
            "learn": [
             340.5169146
            ],
            "passed_time": 3.262247412,
            "remaining_time": 21.83196345,
            "test": [
             622.6478185
            ]
           },
           {
            "iteration": 169,
            "learn": [
             338.6924759
            ],
            "passed_time": 3.282988707,
            "remaining_time": 21.82221905,
            "test": [
             622.677987
            ]
           },
           {
            "iteration": 170,
            "learn": [
             336.4597765
            ],
            "passed_time": 3.318061496,
            "remaining_time": 21.90696742,
            "test": [
             623.0163864
            ]
           },
           {
            "iteration": 171,
            "learn": [
             335.1439464
            ],
            "passed_time": 3.339377797,
            "remaining_time": 21.90010555,
            "test": [
             622.9465188
            ]
           },
           {
            "iteration": 172,
            "learn": [
             334.6507268
            ],
            "passed_time": 3.359056411,
            "remaining_time": 21.88240795,
            "test": [
             622.9056822
            ]
           },
           {
            "iteration": 173,
            "learn": [
             333.6704156
            ],
            "passed_time": 3.374926484,
            "remaining_time": 21.8400415,
            "test": [
             622.2926343
            ]
           },
           {
            "iteration": 174,
            "learn": [
             333.1418865
            ],
            "passed_time": 3.39264192,
            "remaining_time": 21.80984091,
            "test": [
             622.2314994
            ]
           },
           {
            "iteration": 175,
            "learn": [
             332.309772
            ],
            "passed_time": 3.423223576,
            "remaining_time": 21.86195056,
            "test": [
             622.1560943
            ]
           },
           {
            "iteration": 176,
            "learn": [
             331.2995788
            ],
            "passed_time": 3.439840484,
            "remaining_time": 21.82452465,
            "test": [
             623.4131043
            ]
           },
           {
            "iteration": 177,
            "learn": [
             329.7275168
            ],
            "passed_time": 3.460456025,
            "remaining_time": 21.81253742,
            "test": [
             623.2661328
            ]
           },
           {
            "iteration": 178,
            "learn": [
             327.940447
            ],
            "passed_time": 3.474888088,
            "remaining_time": 21.76172931,
            "test": [
             622.6579555
            ]
           },
           {
            "iteration": 179,
            "learn": [
             326.0574753
            ],
            "passed_time": 3.488867709,
            "remaining_time": 21.70851019,
            "test": [
             622.3417563
            ]
           },
           {
            "iteration": 180,
            "learn": [
             325.4942963
            ],
            "passed_time": 3.502538929,
            "remaining_time": 21.65381802,
            "test": [
             621.6986946
            ]
           },
           {
            "iteration": 181,
            "learn": [
             325.0848024
            ],
            "passed_time": 3.515723951,
            "remaining_time": 21.59658998,
            "test": [
             621.1213579
            ]
           },
           {
            "iteration": 182,
            "learn": [
             324.5683343
            ],
            "passed_time": 3.530921718,
            "remaining_time": 21.55212874,
            "test": [
             621.3020957
            ]
           },
           {
            "iteration": 183,
            "learn": [
             324.3452535
            ],
            "passed_time": 3.544333305,
            "remaining_time": 21.497152,
            "test": [
             621.106906
            ]
           },
           {
            "iteration": 184,
            "learn": [
             324.0899357
            ],
            "passed_time": 3.556766815,
            "remaining_time": 21.43672972,
            "test": [
             621.0473686
            ]
           },
           {
            "iteration": 185,
            "learn": [
             323.9754562
            ],
            "passed_time": 3.570535772,
            "remaining_time": 21.38482177,
            "test": [
             620.992518
            ]
           },
           {
            "iteration": 186,
            "learn": [
             323.6411381
            ],
            "passed_time": 3.586948372,
            "remaining_time": 21.34905635,
            "test": [
             621.0347136
            ]
           },
           {
            "iteration": 187,
            "learn": [
             323.3934
            ],
            "passed_time": 3.602832823,
            "remaining_time": 21.31037287,
            "test": [
             620.8063595
            ]
           },
           {
            "iteration": 188,
            "learn": [
             321.9008753
            ],
            "passed_time": 3.618042021,
            "remaining_time": 21.2679613,
            "test": [
             620.6804246
            ]
           },
           {
            "iteration": 189,
            "learn": [
             320.2256503
            ],
            "passed_time": 3.63464173,
            "remaining_time": 21.23395958,
            "test": [
             620.3802527
            ]
           },
           {
            "iteration": 190,
            "learn": [
             320.0666813
            ],
            "passed_time": 3.651765835,
            "remaining_time": 21.20318487,
            "test": [
             620.1937348
            ]
           },
           {
            "iteration": 191,
            "learn": [
             318.8816741
            ],
            "passed_time": 3.667070071,
            "remaining_time": 21.1620502,
            "test": [
             619.9230659
            ]
           },
           {
            "iteration": 192,
            "learn": [
             317.8450428
            ],
            "passed_time": 3.684053108,
            "remaining_time": 21.13081239,
            "test": [
             619.3245581
            ]
           },
           {
            "iteration": 193,
            "learn": [
             316.0757143
            ],
            "passed_time": 3.698774618,
            "remaining_time": 21.08682849,
            "test": [
             619.0718551
            ]
           },
           {
            "iteration": 194,
            "learn": [
             315.3166594
            ],
            "passed_time": 3.727015496,
            "remaining_time": 21.11975448,
            "test": [
             618.7885742
            ]
           },
           {
            "iteration": 195,
            "learn": [
             315.1470646
            ],
            "passed_time": 3.750109381,
            "remaining_time": 21.12306508,
            "test": [
             618.7140857
            ]
           },
           {
            "iteration": 196,
            "learn": [
             314.8942593
            ],
            "passed_time": 3.771885753,
            "remaining_time": 21.11873089,
            "test": [
             618.5854137
            ]
           },
           {
            "iteration": 197,
            "learn": [
             313.6743104
            ],
            "passed_time": 3.787394751,
            "remaining_time": 21.07933846,
            "test": [
             619.6361281
            ]
           },
           {
            "iteration": 198,
            "learn": [
             313.2096676
            ],
            "passed_time": 3.805364388,
            "remaining_time": 21.05379996,
            "test": [
             619.3764328
            ]
           },
           {
            "iteration": 199,
            "learn": [
             312.5082398
            ],
            "passed_time": 3.840907002,
            "remaining_time": 21.12498851,
            "test": [
             619.4023625
            ]
           },
           {
            "iteration": 200,
            "learn": [
             312.1696212
            ],
            "passed_time": 3.866611425,
            "remaining_time": 21.14132316,
            "test": [
             619.6296929
            ]
           },
           {
            "iteration": 201,
            "learn": [
             310.3382352
            ],
            "passed_time": 3.892593269,
            "remaining_time": 21.15874955,
            "test": [
             619.0252871
            ]
           },
           {
            "iteration": 202,
            "learn": [
             309.2577805
            ],
            "passed_time": 3.913219261,
            "remaining_time": 21.14680556,
            "test": [
             618.2354777
            ]
           },
           {
            "iteration": 203,
            "learn": [
             307.4901037
            ],
            "passed_time": 3.923866331,
            "remaining_time": 21.08116421,
            "test": [
             618.4644471
            ]
           },
           {
            "iteration": 204,
            "learn": [
             307.2587779
            ],
            "passed_time": 3.953366077,
            "remaining_time": 21.11676027,
            "test": [
             618.5622201
            ]
           },
           {
            "iteration": 205,
            "learn": [
             307.0556758
            ],
            "passed_time": 3.983673512,
            "remaining_time": 21.1560137,
            "test": [
             618.6196696
            ]
           },
           {
            "iteration": 206,
            "learn": [
             306.7224738
            ],
            "passed_time": 3.999906894,
            "remaining_time": 21.12028133,
            "test": [
             618.6975384
            ]
           },
           {
            "iteration": 207,
            "learn": [
             304.9453001
            ],
            "passed_time": 4.00942249,
            "remaining_time": 21.04946807,
            "test": [
             618.0547091
            ]
           },
           {
            "iteration": 208,
            "learn": [
             303.9392534
            ],
            "passed_time": 4.020355199,
            "remaining_time": 20.98663886,
            "test": [
             617.7817744
            ]
           },
           {
            "iteration": 209,
            "learn": [
             303.7241379
            ],
            "passed_time": 4.031622314,
            "remaining_time": 20.92603963,
            "test": [
             617.8632431
            ]
           },
           {
            "iteration": 210,
            "learn": [
             303.4654013
            ],
            "passed_time": 4.041131839,
            "remaining_time": 20.85683684,
            "test": [
             618.0138994
            ]
           },
           {
            "iteration": 211,
            "learn": [
             302.9864552
            ],
            "passed_time": 4.056366746,
            "remaining_time": 20.81758028,
            "test": [
             618.2295341
            ]
           },
           {
            "iteration": 212,
            "learn": [
             302.3463985
            ],
            "passed_time": 4.084253988,
            "remaining_time": 20.84311777,
            "test": [
             618.1545486
            ]
           },
           {
            "iteration": 213,
            "learn": [
             301.6331399
            ],
            "passed_time": 4.099049393,
            "remaining_time": 20.80171795,
            "test": [
             618.6217763
            ]
           },
           {
            "iteration": 214,
            "learn": [
             300.2111835
            ],
            "passed_time": 4.108129997,
            "remaining_time": 20.7317258,
            "test": [
             619.0012281
            ]
           },
           {
            "iteration": 215,
            "learn": [
             300.0154052
            ],
            "passed_time": 4.117494481,
            "remaining_time": 20.6637223,
            "test": [
             619.1710636
            ]
           },
           {
            "iteration": 216,
            "learn": [
             298.8349527
            ],
            "passed_time": 4.126899179,
            "remaining_time": 20.59645996,
            "test": [
             618.9208369
            ]
           },
           {
            "iteration": 217,
            "learn": [
             297.9145412
            ],
            "passed_time": 4.135645294,
            "remaining_time": 20.52645967,
            "test": [
             618.8276568
            ]
           },
           {
            "iteration": 218,
            "learn": [
             295.5289844
            ],
            "passed_time": 4.142946672,
            "remaining_time": 20.44988746,
            "test": [
             618.9425335
            ]
           },
           {
            "iteration": 219,
            "learn": [
             295.1327202
            ],
            "passed_time": 4.151846703,
            "remaining_time": 20.3817929,
            "test": [
             619.1755781
            ]
           },
           {
            "iteration": 220,
            "learn": [
             294.2261414
            ],
            "passed_time": 4.160591624,
            "remaining_time": 20.31347675,
            "test": [
             618.2948246
            ]
           },
           {
            "iteration": 221,
            "learn": [
             294.0400542
            ],
            "passed_time": 4.170009068,
            "remaining_time": 20.24896295,
            "test": [
             618.2753911
            ]
           },
           {
            "iteration": 222,
            "learn": [
             293.520687
            ],
            "passed_time": 4.177197921,
            "remaining_time": 20.17418009,
            "test": [
             617.9773127
            ]
           },
           {
            "iteration": 223,
            "learn": [
             293.1927873
            ],
            "passed_time": 4.187539886,
            "remaining_time": 20.11514695,
            "test": [
             617.7897541
            ]
           },
           {
            "iteration": 224,
            "learn": [
             292.6099603
            ],
            "passed_time": 4.196540463,
            "remaining_time": 20.05013777,
            "test": [
             617.8465198
            ]
           },
           {
            "iteration": 225,
            "learn": [
             292.3635434
            ],
            "passed_time": 4.207313134,
            "remaining_time": 19.9940456,
            "test": [
             617.901062
            ]
           },
           {
            "iteration": 226,
            "learn": [
             292.1598808
            ],
            "passed_time": 4.224262168,
            "remaining_time": 19.96754761,
            "test": [
             617.8870373
            ]
           },
           {
            "iteration": 227,
            "learn": [
             291.8126802
            ],
            "passed_time": 4.241451974,
            "remaining_time": 19.94226542,
            "test": [
             617.5278648
            ]
           },
           {
            "iteration": 228,
            "learn": [
             291.0958152
            ],
            "passed_time": 4.254790797,
            "remaining_time": 19.89904342,
            "test": [
             617.6652919
            ]
           },
           {
            "iteration": 229,
            "learn": [
             290.3447668
            ],
            "passed_time": 4.273962361,
            "remaining_time": 19.8832162,
            "test": [
             617.9358544
            ]
           },
           {
            "iteration": 230,
            "learn": [
             290.1432626
            ],
            "passed_time": 4.286811269,
            "remaining_time": 19.83810063,
            "test": [
             617.831646
            ]
           },
           {
            "iteration": 231,
            "learn": [
             289.7477804
            ],
            "passed_time": 4.299910874,
            "remaining_time": 19.7944173,
            "test": [
             617.824401
            ]
           },
           {
            "iteration": 232,
            "learn": [
             288.9287817
            ],
            "passed_time": 4.313225388,
            "remaining_time": 19.75198064,
            "test": [
             617.5073127
            ]
           },
           {
            "iteration": 233,
            "learn": [
             287.8500229
            ],
            "passed_time": 4.342318555,
            "remaining_time": 19.78167342,
            "test": [
             617.9906347
            ]
           },
           {
            "iteration": 234,
            "learn": [
             287.6611161
            ],
            "passed_time": 4.365201207,
            "remaining_time": 19.78272036,
            "test": [
             618.1070346
            ]
           },
           {
            "iteration": 235,
            "learn": [
             287.3324753
            ],
            "passed_time": 4.382150698,
            "remaining_time": 19.75681501,
            "test": [
             618.4968393
            ]
           },
           {
            "iteration": 236,
            "learn": [
             285.6734327
            ],
            "passed_time": 4.396745135,
            "remaining_time": 19.72042227,
            "test": [
             617.0348446
            ]
           },
           {
            "iteration": 237,
            "learn": [
             285.5357267
            ],
            "passed_time": 4.412288123,
            "remaining_time": 19.68844532,
            "test": [
             617.123703
            ]
           },
           {
            "iteration": 238,
            "learn": [
             285.2601971
            ],
            "passed_time": 4.427885586,
            "remaining_time": 19.65684772,
            "test": [
             616.9745155
            ]
           },
           {
            "iteration": 239,
            "learn": [
             285.0112498
            ],
            "passed_time": 4.444047232,
            "remaining_time": 19.62787527,
            "test": [
             616.7396834
            ]
           },
           {
            "iteration": 240,
            "learn": [
             284.538999
            ],
            "passed_time": 4.467773201,
            "remaining_time": 19.63224822,
            "test": [
             616.7707348
            ]
           },
           {
            "iteration": 241,
            "learn": [
             283.9433965
            ],
            "passed_time": 4.491324642,
            "remaining_time": 19.63562591,
            "test": [
             616.6292198
            ]
           },
           {
            "iteration": 242,
            "learn": [
             283.8309411
            ],
            "passed_time": 4.50048743,
            "remaining_time": 19.57619429,
            "test": [
             616.8452179
            ]
           },
           {
            "iteration": 243,
            "learn": [
             283.5931058
            ],
            "passed_time": 4.509571179,
            "remaining_time": 19.51683264,
            "test": [
             616.8692009
            ]
           },
           {
            "iteration": 244,
            "learn": [
             283.0628446
            ],
            "passed_time": 4.51827752,
            "remaining_time": 19.45625626,
            "test": [
             616.7791279
            ]
           },
           {
            "iteration": 245,
            "learn": [
             282.9534819
            ],
            "passed_time": 4.5413503,
            "remaining_time": 19.45765535,
            "test": [
             616.5772984
            ]
           },
           {
            "iteration": 246,
            "learn": [
             282.4556203
            ],
            "passed_time": 4.562333955,
            "remaining_time": 19.44995002,
            "test": [
             616.7807347
            ]
           },
           {
            "iteration": 247,
            "learn": [
             282.3219465
            ],
            "passed_time": 4.575884897,
            "remaining_time": 19.41060852,
            "test": [
             616.7623757
            ]
           },
           {
            "iteration": 248,
            "learn": [
             282.2750955
            ],
            "passed_time": 4.601952354,
            "remaining_time": 19.42430491,
            "test": [
             616.7254248
            ]
           },
           {
            "iteration": 249,
            "learn": [
             281.9745347
            ],
            "passed_time": 4.621883417,
            "remaining_time": 19.41191035,
            "test": [
             616.5112364
            ]
           },
           {
            "iteration": 250,
            "learn": [
             280.9973893
            ],
            "passed_time": 4.645560162,
            "remaining_time": 19.41511,
            "test": [
             616.3256778
            ]
           },
           {
            "iteration": 251,
            "learn": [
             280.9678782
            ],
            "passed_time": 4.666283524,
            "remaining_time": 19.40581402,
            "test": [
             616.3260401
            ]
           },
           {
            "iteration": 252,
            "learn": [
             279.7414217
            ],
            "passed_time": 4.696209613,
            "remaining_time": 19.43451172,
            "test": [
             615.8521194
            ]
           },
           {
            "iteration": 253,
            "learn": [
             279.6356889
            ],
            "passed_time": 4.722013488,
            "remaining_time": 19.44577208,
            "test": [
             616.1265481
            ]
           },
           {
            "iteration": 254,
            "learn": [
             279.4451063
            ],
            "passed_time": 4.742000222,
            "remaining_time": 19.43290287,
            "test": [
             615.9223305
            ]
           },
           {
            "iteration": 255,
            "learn": [
             279.3767198
            ],
            "passed_time": 4.759184935,
            "remaining_time": 19.40855106,
            "test": [
             616.0357011
            ]
           },
           {
            "iteration": 256,
            "learn": [
             278.4599083
            ],
            "passed_time": 4.778737183,
            "remaining_time": 19.39386335,
            "test": [
             615.1901681
            ]
           },
           {
            "iteration": 257,
            "learn": [
             277.9480884
            ],
            "passed_time": 4.794989842,
            "remaining_time": 19.36581169,
            "test": [
             615.4098747
            ]
           },
           {
            "iteration": 258,
            "learn": [
             277.6496752
            ],
            "passed_time": 4.810486492,
            "remaining_time": 19.3348125,
            "test": [
             615.1086569
            ]
           },
           {
            "iteration": 259,
            "learn": [
             277.4600669
            ],
            "passed_time": 4.827475842,
            "remaining_time": 19.30990337,
            "test": [
             615.1192012
            ]
           },
           {
            "iteration": 260,
            "learn": [
             276.5878358
            ],
            "passed_time": 4.841369412,
            "remaining_time": 19.27273111,
            "test": [
             615.0374384
            ]
           },
           {
            "iteration": 261,
            "learn": [
             276.5264689
            ],
            "passed_time": 4.858460293,
            "remaining_time": 19.24840376,
            "test": [
             615.1687883
            ]
           },
           {
            "iteration": 262,
            "learn": [
             275.3761521
            ],
            "passed_time": 4.873102536,
            "remaining_time": 19.21447654,
            "test": [
             615.2271327
            ]
           },
           {
            "iteration": 263,
            "learn": [
             274.5086932
            ],
            "passed_time": 4.901227095,
            "remaining_time": 19.2336033,
            "test": [
             614.6856893
            ]
           },
           {
            "iteration": 264,
            "learn": [
             274.1125278
            ],
            "passed_time": 4.922004518,
            "remaining_time": 19.22367802,
            "test": [
             614.6423302
            ]
           },
           {
            "iteration": 265,
            "learn": [
             272.6752157
            ],
            "passed_time": 4.932945596,
            "remaining_time": 19.17543514,
            "test": [
             614.4515869
            ]
           },
           {
            "iteration": 266,
            "learn": [
             272.2767427
            ],
            "passed_time": 4.955521374,
            "remaining_time": 19.17248531,
            "test": [
             614.5064966
            ]
           },
           {
            "iteration": 267,
            "learn": [
             271.8941885
            ],
            "passed_time": 5.007749914,
            "remaining_time": 19.2835743,
            "test": [
             614.9273441
            ]
           },
           {
            "iteration": 268,
            "learn": [
             271.5633052
            ],
            "passed_time": 5.022446655,
            "remaining_time": 19.24960038,
            "test": [
             614.5898724
            ]
           },
           {
            "iteration": 269,
            "learn": [
             270.6733206
            ],
            "passed_time": 5.039047619,
            "remaining_time": 19.22303351,
            "test": [
             614.556099
            ]
           },
           {
            "iteration": 270,
            "learn": [
             269.5686803
            ],
            "passed_time": 5.061714228,
            "remaining_time": 19.21957174,
            "test": [
             614.5565582
            ]
           },
           {
            "iteration": 271,
            "learn": [
             269.4433869
            ],
            "passed_time": 5.071130292,
            "remaining_time": 19.16588949,
            "test": [
             614.5567144
            ]
           },
           {
            "iteration": 272,
            "learn": [
             268.8916429
            ],
            "passed_time": 5.083713103,
            "remaining_time": 19.12444453,
            "test": [
             614.8021394
            ]
           },
           {
            "iteration": 273,
            "learn": [
             267.9719292
            ],
            "passed_time": 5.093661518,
            "remaining_time": 19.07334568,
            "test": [
             613.3119144
            ]
           },
           {
            "iteration": 274,
            "learn": [
             267.564977
            ],
            "passed_time": 5.103899832,
            "remaining_time": 19.02362665,
            "test": [
             613.1048639
            ]
           },
           {
            "iteration": 275,
            "learn": [
             266.3175672
            ],
            "passed_time": 5.132788477,
            "remaining_time": 19.04338913,
            "test": [
             614.1043462
            ]
           },
           {
            "iteration": 276,
            "learn": [
             265.1554465
            ],
            "passed_time": 5.150199464,
            "remaining_time": 19.02041174,
            "test": [
             614.4458376
            ]
           },
           {
            "iteration": 277,
            "learn": [
             264.7452401
            ],
            "passed_time": 5.163625675,
            "remaining_time": 18.98282532,
            "test": [
             614.5716415
            ]
           },
           {
            "iteration": 278,
            "learn": [
             263.986796
            ],
            "passed_time": 5.174073875,
            "remaining_time": 18.93451407,
            "test": [
             614.7664698
            ]
           },
           {
            "iteration": 279,
            "learn": [
             263.799253
            ],
            "passed_time": 5.182003586,
            "remaining_time": 18.87729878,
            "test": [
             614.9303865
            ]
           },
           {
            "iteration": 280,
            "learn": [
             262.4043454
            ],
            "passed_time": 5.191632249,
            "remaining_time": 18.82659524,
            "test": [
             615.8301574
            ]
           },
           {
            "iteration": 281,
            "learn": [
             262.0040599
            ],
            "passed_time": 5.20253067,
            "remaining_time": 18.78076674,
            "test": [
             616.3316842
            ]
           },
           {
            "iteration": 282,
            "learn": [
             261.4680278
            ],
            "passed_time": 5.212904628,
            "remaining_time": 18.73330038,
            "test": [
             616.2432563
            ]
           },
           {
            "iteration": 283,
            "learn": [
             260.9952613
            ],
            "passed_time": 5.24369665,
            "remaining_time": 18.75914013,
            "test": [
             615.9000668
            ]
           },
           {
            "iteration": 284,
            "learn": [
             260.9406305
            ],
            "passed_time": 5.268022863,
            "remaining_time": 18.76155511,
            "test": [
             615.8598732
            ]
           },
           {
            "iteration": 285,
            "learn": [
             260.3563826
            ],
            "passed_time": 5.280660934,
            "remaining_time": 18.72234331,
            "test": [
             614.9840376
            ]
           },
           {
            "iteration": 286,
            "learn": [
             260.2935447
            ],
            "passed_time": 5.290088853,
            "remaining_time": 18.67198609,
            "test": [
             615.0626171
            ]
           },
           {
            "iteration": 287,
            "learn": [
             259.9891181
            ],
            "passed_time": 5.300096758,
            "remaining_time": 18.62395111,
            "test": [
             614.9271966
            ]
           },
           {
            "iteration": 288,
            "learn": [
             259.6103126
            ],
            "passed_time": 5.317453833,
            "remaining_time": 18.60188867,
            "test": [
             614.9310063
            ]
           },
           {
            "iteration": 289,
            "learn": [
             259.5670848
            ],
            "passed_time": 5.328173838,
            "remaining_time": 18.55674337,
            "test": [
             614.9078974
            ]
           },
           {
            "iteration": 290,
            "learn": [
             259.4032153
            ],
            "passed_time": 5.347506729,
            "remaining_time": 18.54169859,
            "test": [
             615.0091951
            ]
           },
           {
            "iteration": 291,
            "learn": [
             258.4945687
            ],
            "passed_time": 5.373952685,
            "remaining_time": 18.55117913,
            "test": [
             615.2156509
            ]
           },
           {
            "iteration": 292,
            "learn": [
             258.3883723
            ],
            "passed_time": 5.386322481,
            "remaining_time": 18.51203665,
            "test": [
             615.2795664
            ]
           },
           {
            "iteration": 293,
            "learn": [
             258.26686
            ],
            "passed_time": 5.398067825,
            "remaining_time": 18.47093956,
            "test": [
             615.3130936
            ]
           },
           {
            "iteration": 294,
            "learn": [
             257.8757019
            ],
            "passed_time": 5.409775022,
            "remaining_time": 18.42991152,
            "test": [
             614.8210485
            ]
           },
           {
            "iteration": 295,
            "learn": [
             257.2028055
            ],
            "passed_time": 5.419750847,
            "remaining_time": 18.38320895,
            "test": [
             612.4629261
            ]
           },
           {
            "iteration": 296,
            "learn": [
             256.8380231
            ],
            "passed_time": 5.428682528,
            "remaining_time": 18.33322753,
            "test": [
             612.4271646
            ]
           },
           {
            "iteration": 297,
            "learn": [
             256.7604478
            ],
            "passed_time": 5.442021941,
            "remaining_time": 18.29834223,
            "test": [
             612.5102425
            ]
           },
           {
            "iteration": 298,
            "learn": [
             256.1139924
            ],
            "passed_time": 5.451955243,
            "remaining_time": 18.25219799,
            "test": [
             612.017841
            ]
           },
           {
            "iteration": 299,
            "learn": [
             255.1311089
            ],
            "passed_time": 5.464293031,
            "remaining_time": 18.2143101,
            "test": [
             611.187694
            ]
           },
           {
            "iteration": 300,
            "learn": [
             255.094143
            ],
            "passed_time": 5.472617119,
            "remaining_time": 18.16327077,
            "test": [
             611.2289922
            ]
           },
           {
            "iteration": 301,
            "learn": [
             254.8176196
            ],
            "passed_time": 5.485858322,
            "remaining_time": 18.12876359,
            "test": [
             611.0082597
            ]
           },
           {
            "iteration": 302,
            "learn": [
             254.2670959
            ],
            "passed_time": 5.499497877,
            "remaining_time": 18.09570753,
            "test": [
             611.2453461
            ]
           },
           {
            "iteration": 303,
            "learn": [
             254.0720184
            ],
            "passed_time": 5.535206702,
            "remaining_time": 18.13508511,
            "test": [
             611.1552411
            ]
           },
           {
            "iteration": 304,
            "learn": [
             253.7607849
            ],
            "passed_time": 5.573837624,
            "remaining_time": 18.18350307,
            "test": [
             611.1716308
            ]
           },
           {
            "iteration": 305,
            "learn": [
             253.6550674
            ],
            "passed_time": 5.608152393,
            "remaining_time": 18.21733163,
            "test": [
             611.3303229
            ]
           },
           {
            "iteration": 306,
            "learn": [
             253.3170352
            ],
            "passed_time": 5.63903038,
            "remaining_time": 18.23959989,
            "test": [
             611.0312334
            ]
           },
           {
            "iteration": 307,
            "learn": [
             252.508874
            ],
            "passed_time": 5.664921823,
            "remaining_time": 18.2454625,
            "test": [
             611.9194206
            ]
           },
           {
            "iteration": 308,
            "learn": [
             252.3249327
            ],
            "passed_time": 5.690534299,
            "remaining_time": 18.25022489,
            "test": [
             612.0191895
            ]
           },
           {
            "iteration": 309,
            "learn": [
             252.0294618
            ],
            "passed_time": 5.712358689,
            "remaining_time": 18.24269388,
            "test": [
             612.0980389
            ]
           },
           {
            "iteration": 310,
            "learn": [
             251.8750827
            ],
            "passed_time": 5.740502578,
            "remaining_time": 18.25516736,
            "test": [
             611.7670951
            ]
           },
           {
            "iteration": 311,
            "learn": [
             251.5025116
            ],
            "passed_time": 5.765063231,
            "remaining_time": 18.25603356,
            "test": [
             611.6413482
            ]
           },
           {
            "iteration": 312,
            "learn": [
             251.3179318
            ],
            "passed_time": 5.784003284,
            "remaining_time": 18.23901355,
            "test": [
             611.5064389
            ]
           },
           {
            "iteration": 313,
            "learn": [
             251.1757718
            ],
            "passed_time": 5.820672975,
            "remaining_time": 18.27765463,
            "test": [
             611.3386742
            ]
           },
           {
            "iteration": 314,
            "learn": [
             251.0113027
            ],
            "passed_time": 5.847980204,
            "remaining_time": 18.28654127,
            "test": [
             611.2107402
            ]
           },
           {
            "iteration": 315,
            "learn": [
             250.9652711
            ],
            "passed_time": 5.882734066,
            "remaining_time": 18.31838709,
            "test": [
             611.2525575
            ]
           },
           {
            "iteration": 316,
            "learn": [
             250.8395976
            ],
            "passed_time": 5.906805566,
            "remaining_time": 18.31668729,
            "test": [
             611.390671
            ]
           },
           {
            "iteration": 317,
            "learn": [
             249.2509635
            ],
            "passed_time": 5.928717344,
            "remaining_time": 18.30817746,
            "test": [
             612.5392479
            ]
           },
           {
            "iteration": 318,
            "learn": [
             249.060788
            ],
            "passed_time": 5.950248422,
            "remaining_time": 18.29841286,
            "test": [
             612.5143739
            ]
           },
           {
            "iteration": 319,
            "learn": [
             249.0382142
            ],
            "passed_time": 5.991480578,
            "remaining_time": 18.34890927,
            "test": [
             612.5366972
            ]
           },
           {
            "iteration": 320,
            "learn": [
             248.3727941
            ],
            "passed_time": 6.044609129,
            "remaining_time": 18.43511631,
            "test": [
             612.1069261
            ]
           },
           {
            "iteration": 321,
            "learn": [
             248.0676112
            ],
            "passed_time": 6.073859821,
            "remaining_time": 18.44793449,
            "test": [
             612.0095571
            ]
           },
           {
            "iteration": 322,
            "learn": [
             247.6253002
            ],
            "passed_time": 6.10732173,
            "remaining_time": 18.47323012,
            "test": [
             611.9298258
            ]
           },
           {
            "iteration": 323,
            "learn": [
             247.4079355
            ],
            "passed_time": 6.132657709,
            "remaining_time": 18.47368495,
            "test": [
             611.8487535
            ]
           },
           {
            "iteration": 324,
            "learn": [
             245.9942926
            ],
            "passed_time": 6.16256754,
            "remaining_time": 18.48770262,
            "test": [
             612.8895844
            ]
           },
           {
            "iteration": 325,
            "learn": [
             245.2875163
            ],
            "passed_time": 6.182244393,
            "remaining_time": 18.47087742,
            "test": [
             612.8600148
            ]
           },
           {
            "iteration": 326,
            "learn": [
             245.0867582
            ],
            "passed_time": 6.199036935,
            "remaining_time": 18.44545241,
            "test": [
             612.5294979
            ]
           },
           {
            "iteration": 327,
            "learn": [
             245.0419532
            ],
            "passed_time": 6.216475127,
            "remaining_time": 18.42199336,
            "test": [
             612.5581537
            ]
           },
           {
            "iteration": 328,
            "learn": [
             244.9141959
            ],
            "passed_time": 6.233150635,
            "remaining_time": 18.39631996,
            "test": [
             612.8037881
            ]
           },
           {
            "iteration": 329,
            "learn": [
             244.5649157
            ],
            "passed_time": 6.281200606,
            "remaining_time": 18.46292299,
            "test": [
             612.7269744
            ]
           },
           {
            "iteration": 330,
            "learn": [
             244.5083901
            ],
            "passed_time": 6.303603247,
            "remaining_time": 18.45375089,
            "test": [
             612.7717617
            ]
           },
           {
            "iteration": 331,
            "learn": [
             244.3861074
            ],
            "passed_time": 6.328502934,
            "remaining_time": 18.45177964,
            "test": [
             612.9064681
            ]
           },
           {
            "iteration": 332,
            "learn": [
             244.1649171
            ],
            "passed_time": 6.363844566,
            "remaining_time": 18.47999308,
            "test": [
             612.5868022
            ]
           },
           {
            "iteration": 333,
            "learn": [
             243.9594639
            ],
            "passed_time": 6.381567841,
            "remaining_time": 18.45686986,
            "test": [
             612.9663574
            ]
           },
           {
            "iteration": 334,
            "learn": [
             243.764223
            ],
            "passed_time": 6.400312268,
            "remaining_time": 18.43672041,
            "test": [
             612.9788375
            ]
           },
           {
            "iteration": 335,
            "learn": [
             243.2379021
            ],
            "passed_time": 6.418589344,
            "remaining_time": 18.41523847,
            "test": [
             613.2447695
            ]
           },
           {
            "iteration": 336,
            "learn": [
             243.2087182
            ],
            "passed_time": 6.444076813,
            "remaining_time": 18.41437974,
            "test": [
             613.2947839
            ]
           },
           {
            "iteration": 337,
            "learn": [
             242.8849916
            ],
            "passed_time": 6.460442249,
            "remaining_time": 18.38741256,
            "test": [
             612.7925425
            ]
           },
           {
            "iteration": 338,
            "learn": [
             242.7553712
            ],
            "passed_time": 6.483319165,
            "remaining_time": 18.37896672,
            "test": [
             612.7118848
            ]
           },
           {
            "iteration": 339,
            "learn": [
             242.6423937
            ],
            "passed_time": 6.498986127,
            "remaining_time": 18.35007848,
            "test": [
             612.811777
            ]
           },
           {
            "iteration": 340,
            "learn": [
             242.6205662
            ],
            "passed_time": 6.518681829,
            "remaining_time": 18.33259787,
            "test": [
             612.7795604
            ]
           },
           {
            "iteration": 341,
            "learn": [
             242.2983957
            ],
            "passed_time": 6.539696849,
            "remaining_time": 18.31879995,
            "test": [
             612.6206779
            ]
           },
           {
            "iteration": 342,
            "learn": [
             241.9549319
            ],
            "passed_time": 6.565047167,
            "remaining_time": 18.3170558,
            "test": [
             612.8320119
            ]
           },
           {
            "iteration": 343,
            "learn": [
             241.7709798
            ],
            "passed_time": 6.593322549,
            "remaining_time": 18.32330336,
            "test": [
             613.0068622
            ]
           },
           {
            "iteration": 344,
            "learn": [
             241.5322556
            ],
            "passed_time": 6.617539001,
            "remaining_time": 18.3181152,
            "test": [
             612.7365804
            ]
           },
           {
            "iteration": 345,
            "learn": [
             241.2939223
            ],
            "passed_time": 6.638549961,
            "remaining_time": 18.30397879,
            "test": [
             612.705095
            ]
           },
           {
            "iteration": 346,
            "learn": [
             240.9901187
            ],
            "passed_time": 6.671565563,
            "remaining_time": 18.32277228,
            "test": [
             611.8114359
            ]
           },
           {
            "iteration": 347,
            "learn": [
             240.7906546
            ],
            "passed_time": 6.705922682,
            "remaining_time": 18.34493791,
            "test": [
             612.1985394
            ]
           },
           {
            "iteration": 348,
            "learn": [
             240.350041
            ],
            "passed_time": 6.736768487,
            "remaining_time": 18.35721155,
            "test": [
             612.2106423
            ]
           },
           {
            "iteration": 349,
            "learn": [
             240.3266273
            ],
            "passed_time": 6.757587264,
            "remaining_time": 18.34202257,
            "test": [
             612.2086218
            ]
           },
           {
            "iteration": 350,
            "learn": [
             239.930858
            ],
            "passed_time": 6.791800395,
            "remaining_time": 18.36301588,
            "test": [
             612.400723
            ]
           },
           {
            "iteration": 351,
            "learn": [
             239.185308
            ],
            "passed_time": 6.820919419,
            "remaining_time": 18.36997616,
            "test": [
             611.9952467
            ]
           },
           {
            "iteration": 352,
            "learn": [
             238.2727109
            ],
            "passed_time": 6.852167962,
            "remaining_time": 18.38244493,
            "test": [
             611.7205
            ]
           },
           {
            "iteration": 353,
            "learn": [
             238.1332414
            ],
            "passed_time": 6.860133444,
            "remaining_time": 18.332447,
            "test": [
             611.8088624
            ]
           },
           {
            "iteration": 354,
            "learn": [
             237.8404865
            ],
            "passed_time": 6.868048915,
            "remaining_time": 18.28255274,
            "test": [
             611.8806843
            ]
           },
           {
            "iteration": 355,
            "learn": [
             236.8143175
            ],
            "passed_time": 6.879326514,
            "remaining_time": 18.24180963,
            "test": [
             611.4239759
            ]
           },
           {
            "iteration": 356,
            "learn": [
             236.7606475
            ],
            "passed_time": 6.887062374,
            "remaining_time": 18.19187624,
            "test": [
             611.2851276
            ]
           },
           {
            "iteration": 357,
            "learn": [
             236.6274578
            ],
            "passed_time": 6.89449287,
            "remaining_time": 18.14137509,
            "test": [
             611.3262856
            ]
           },
           {
            "iteration": 358,
            "learn": [
             236.5238462
            ],
            "passed_time": 6.901760647,
            "remaining_time": 18.09068738,
            "test": [
             611.4488
            ]
           },
           {
            "iteration": 359,
            "learn": [
             235.6419213
            ],
            "passed_time": 6.90987447,
            "remaining_time": 18.04245,
            "test": [
             611.9454709
            ]
           },
           {
            "iteration": 360,
            "learn": [
             234.9244787
            ],
            "passed_time": 6.917048179,
            "remaining_time": 17.99198958,
            "test": [
             612.1349081
            ]
           },
           {
            "iteration": 361,
            "learn": [
             234.6407921
            ],
            "passed_time": 6.925548753,
            "remaining_time": 17.94520644,
            "test": [
             612.1571111
            ]
           },
           {
            "iteration": 362,
            "learn": [
             234.4683053
            ],
            "passed_time": 6.93441055,
            "remaining_time": 17.89956663,
            "test": [
             612.1391596
            ]
           },
           {
            "iteration": 363,
            "learn": [
             234.3498498
            ],
            "passed_time": 6.944883278,
            "remaining_time": 17.85827129,
            "test": [
             612.1835721
            ]
           },
           {
            "iteration": 364,
            "learn": [
             234.2703346
            ],
            "passed_time": 6.954441962,
            "remaining_time": 17.81480338,
            "test": [
             612.0903066
            ]
           },
           {
            "iteration": 365,
            "learn": [
             234.1774243
            ],
            "passed_time": 6.96370297,
            "remaining_time": 17.77076113,
            "test": [
             612.1134974
            ]
           },
           {
            "iteration": 366,
            "learn": [
             233.9048891
            ],
            "passed_time": 6.972539723,
            "remaining_time": 17.72582987,
            "test": [
             612.1169093
            ]
           },
           {
            "iteration": 367,
            "learn": [
             233.5229811
            ],
            "passed_time": 6.980437275,
            "remaining_time": 17.67871614,
            "test": [
             611.9993167
            ]
           },
           {
            "iteration": 368,
            "learn": [
             233.1012255
            ],
            "passed_time": 6.98796787,
            "remaining_time": 17.63088912,
            "test": [
             611.5650454
            ]
           },
           {
            "iteration": 369,
            "learn": [
             232.7899625
            ],
            "passed_time": 6.997381097,
            "remaining_time": 17.58801195,
            "test": [
             611.298409
            ]
           },
           {
            "iteration": 370,
            "learn": [
             232.7662114
            ],
            "passed_time": 7.006349307,
            "remaining_time": 17.54420083,
            "test": [
             611.2945231
            ]
           },
           {
            "iteration": 371,
            "learn": [
             232.6830061
            ],
            "passed_time": 7.014129897,
            "remaining_time": 17.49761437,
            "test": [
             611.3666903
            ]
           },
           {
            "iteration": 372,
            "learn": [
             232.4123058
            ],
            "passed_time": 7.023009312,
            "remaining_time": 17.45396684,
            "test": [
             611.1581039
            ]
           },
           {
            "iteration": 373,
            "learn": [
             232.3070977
            ],
            "passed_time": 7.03382455,
            "remaining_time": 17.41529822,
            "test": [
             611.210515
            ]
           },
           {
            "iteration": 374,
            "learn": [
             232.2640103
            ],
            "passed_time": 7.043151391,
            "remaining_time": 17.37310676,
            "test": [
             611.2234726
            ]
           },
           {
            "iteration": 375,
            "learn": [
             232.1564638
            ],
            "passed_time": 7.05161276,
            "remaining_time": 17.32896327,
            "test": [
             611.2378762
            ]
           },
           {
            "iteration": 376,
            "learn": [
             231.9882135
            ],
            "passed_time": 7.058855742,
            "remaining_time": 17.28202613,
            "test": [
             611.1466326
            ]
           },
           {
            "iteration": 377,
            "learn": [
             231.5734366
            ],
            "passed_time": 7.085898805,
            "remaining_time": 17.28359444,
            "test": [
             611.4201963
            ]
           },
           {
            "iteration": 378,
            "learn": [
             231.1130003
            ],
            "passed_time": 7.100306408,
            "remaining_time": 17.2543066,
            "test": [
             611.2591265
            ]
           },
           {
            "iteration": 379,
            "learn": [
             231.0500857
            ],
            "passed_time": 7.112193185,
            "remaining_time": 17.21899403,
            "test": [
             611.2959325
            ]
           },
           {
            "iteration": 380,
            "learn": [
             230.4105062
            ],
            "passed_time": 7.125708832,
            "remaining_time": 17.18773338,
            "test": [
             611.5605245
            ]
           },
           {
            "iteration": 381,
            "learn": [
             230.1459737
            ],
            "passed_time": 7.136898813,
            "remaining_time": 17.15097673,
            "test": [
             611.4854107
            ]
           },
           {
            "iteration": 382,
            "learn": [
             230.0752995
            ],
            "passed_time": 7.144209801,
            "remaining_time": 17.10506629,
            "test": [
             611.3670084
            ]
           },
           {
            "iteration": 383,
            "learn": [
             229.9619307
            ],
            "passed_time": 7.151015657,
            "remaining_time": 17.05815193,
            "test": [
             611.3147542
            ]
           },
           {
            "iteration": 384,
            "learn": [
             229.7192758
            ],
            "passed_time": 7.157796302,
            "remaining_time": 17.01138602,
            "test": [
             610.8825075
            ]
           },
           {
            "iteration": 385,
            "learn": [
             229.6799667
            ],
            "passed_time": 7.164520091,
            "remaining_time": 16.96469265,
            "test": [
             610.9070797
            ]
           },
           {
            "iteration": 386,
            "learn": [
             229.2807564
            ],
            "passed_time": 7.171478532,
            "remaining_time": 16.91875943,
            "test": [
             610.8739342
            ]
           },
           {
            "iteration": 387,
            "learn": [
             229.1296142
            ],
            "passed_time": 7.178847856,
            "remaining_time": 16.8739929,
            "test": [
             610.7856793
            ]
           },
           {
            "iteration": 388,
            "learn": [
             228.9982608
            ],
            "passed_time": 7.186243071,
            "remaining_time": 16.82947927,
            "test": [
             610.7897234
            ]
           },
           {
            "iteration": 389,
            "learn": [
             228.6522941
            ],
            "passed_time": 7.192992949,
            "remaining_time": 16.78365021,
            "test": [
             610.6787348
            ]
           },
           {
            "iteration": 390,
            "learn": [
             228.5213086
            ],
            "passed_time": 7.199912899,
            "remaining_time": 16.73841643,
            "test": [
             610.5481287
            ]
           },
           {
            "iteration": 391,
            "learn": [
             227.7202669
            ],
            "passed_time": 7.206750311,
            "remaining_time": 16.69318695,
            "test": [
             610.0206033
            ]
           },
           {
            "iteration": 392,
            "learn": [
             227.6226071
            ],
            "passed_time": 7.21346589,
            "remaining_time": 16.64787166,
            "test": [
             610.1331058
            ]
           },
           {
            "iteration": 393,
            "learn": [
             227.2661697
            ],
            "passed_time": 7.220410046,
            "remaining_time": 16.60327792,
            "test": [
             610.0490388
            ]
           },
           {
            "iteration": 394,
            "learn": [
             227.0552288
            ],
            "passed_time": 7.227166959,
            "remaining_time": 16.55844582,
            "test": [
             609.9305452
            ]
           },
           {
            "iteration": 395,
            "learn": [
             226.9671609
            ],
            "passed_time": 7.234479983,
            "remaining_time": 16.51507552,
            "test": [
             609.967584
            ]
           },
           {
            "iteration": 396,
            "learn": [
             226.0405799
            ],
            "passed_time": 7.242350427,
            "remaining_time": 16.47315475,
            "test": [
             610.2962252
            ]
           },
           {
            "iteration": 397,
            "learn": [
             225.8238288
            ],
            "passed_time": 7.251300007,
            "remaining_time": 16.43385077,
            "test": [
             610.0717814
            ]
           },
           {
            "iteration": 398,
            "learn": [
             225.770794
            ],
            "passed_time": 7.259391816,
            "remaining_time": 16.39276197,
            "test": [
             610.0961258
            ]
           },
           {
            "iteration": 399,
            "learn": [
             225.7220943
            ],
            "passed_time": 7.266460567,
            "remaining_time": 16.34953628,
            "test": [
             610.0058168
            ]
           },
           {
            "iteration": 400,
            "learn": [
             225.4286819
            ],
            "passed_time": 7.273506296,
            "remaining_time": 16.3064393,
            "test": [
             609.9401714
            ]
           },
           {
            "iteration": 401,
            "learn": [
             225.2138342
            ],
            "passed_time": 7.285659267,
            "remaining_time": 16.2749304,
            "test": [
             609.8466768
            ]
           },
           {
            "iteration": 402,
            "learn": [
             224.9796481
            ],
            "passed_time": 7.293975945,
            "remaining_time": 16.23497872,
            "test": [
             609.6298389
            ]
           },
           {
            "iteration": 403,
            "learn": [
             224.8154563
            ],
            "passed_time": 7.301296463,
            "remaining_time": 16.19297433,
            "test": [
             609.6091303
            ]
           },
           {
            "iteration": 404,
            "learn": [
             224.7928461
            ],
            "passed_time": 7.316027157,
            "remaining_time": 16.1675168,
            "test": [
             609.6116842
            ]
           },
           {
            "iteration": 405,
            "learn": [
             224.5844392
            ],
            "passed_time": 7.327920901,
            "remaining_time": 16.13586524,
            "test": [
             609.5700319
            ]
           },
           {
            "iteration": 406,
            "learn": [
             224.4526768
            ],
            "passed_time": 7.34137024,
            "remaining_time": 16.10772389,
            "test": [
             609.5971228
            ]
           },
           {
            "iteration": 407,
            "learn": [
             223.1398253
            ],
            "passed_time": 7.349367721,
            "remaining_time": 16.06773531,
            "test": [
             610.0501398
            ]
           },
           {
            "iteration": 408,
            "learn": [
             222.9792967
            ],
            "passed_time": 7.357253421,
            "remaining_time": 16.02765965,
            "test": [
             610.0476742
            ]
           },
           {
            "iteration": 409,
            "learn": [
             222.9510143
            ],
            "passed_time": 7.364598689,
            "remaining_time": 15.98656789,
            "test": [
             610.1375119
            ]
           },
           {
            "iteration": 410,
            "learn": [
             222.481875
            ],
            "passed_time": 7.375151771,
            "remaining_time": 15.95257889,
            "test": [
             609.9725893
            ]
           },
           {
            "iteration": 411,
            "learn": [
             222.3470059
            ],
            "passed_time": 7.382268458,
            "remaining_time": 15.91129706,
            "test": [
             610.3312627
            ]
           },
           {
            "iteration": 412,
            "learn": [
             222.2696083
            ],
            "passed_time": 7.389644705,
            "remaining_time": 15.87073814,
            "test": [
             610.3114849
            ]
           },
           {
            "iteration": 413,
            "learn": [
             222.2343377
            ],
            "passed_time": 7.397205549,
            "remaining_time": 15.83073458,
            "test": [
             610.2992384
            ]
           },
           {
            "iteration": 414,
            "learn": [
             222.174254
            ],
            "passed_time": 7.405035088,
            "remaining_time": 15.79146037,
            "test": [
             610.248441
            ]
           },
           {
            "iteration": 415,
            "learn": [
             221.8035599
            ],
            "passed_time": 7.412326841,
            "remaining_time": 15.75119454,
            "test": [
             610.7007638
            ]
           },
           {
            "iteration": 416,
            "learn": [
             221.7317145
            ],
            "passed_time": 7.41909242,
            "remaining_time": 15.70997268,
            "test": [
             610.7369998
            ]
           },
           {
            "iteration": 417,
            "learn": [
             221.6109972
            ],
            "passed_time": 7.428212983,
            "remaining_time": 15.67388481,
            "test": [
             610.7476334
            ]
           },
           {
            "iteration": 418,
            "learn": [
             221.4709304
            ],
            "passed_time": 7.436493073,
            "remaining_time": 15.63615847,
            "test": [
             610.6600014
            ]
           },
           {
            "iteration": 419,
            "learn": [
             221.3227348
            ],
            "passed_time": 7.444570263,
            "remaining_time": 15.59814722,
            "test": [
             610.6852285
            ]
           },
           {
            "iteration": 420,
            "learn": [
             221.1923675
            ],
            "passed_time": 7.451332687,
            "remaining_time": 15.55753309,
            "test": [
             610.6195088
            ]
           },
           {
            "iteration": 421,
            "learn": [
             221.040249
            ],
            "passed_time": 7.45854937,
            "remaining_time": 15.51802452,
            "test": [
             610.5578512
            ]
           },
           {
            "iteration": 422,
            "learn": [
             221.0263816
            ],
            "passed_time": 7.465987591,
            "remaining_time": 15.47912794,
            "test": [
             610.552413
            ]
           },
           {
            "iteration": 423,
            "learn": [
             220.6683237
            ],
            "passed_time": 7.479414425,
            "remaining_time": 15.45275244,
            "test": [
             610.4721525
            ]
           },
           {
            "iteration": 424,
            "learn": [
             220.576526
            ],
            "passed_time": 7.487484826,
            "remaining_time": 15.41540994,
            "test": [
             610.4866962
            ]
           },
           {
            "iteration": 425,
            "learn": [
             219.494428
            ],
            "passed_time": 7.49469829,
            "remaining_time": 15.37644673,
            "test": [
             610.0227311
            ]
           },
           {
            "iteration": 426,
            "learn": [
             219.3270733
            ],
            "passed_time": 7.50214335,
            "remaining_time": 15.33810573,
            "test": [
             610.0370693
            ]
           },
           {
            "iteration": 427,
            "learn": [
             218.7371405
            ],
            "passed_time": 7.510779903,
            "remaining_time": 15.30233662,
            "test": [
             610.4816324
            ]
           },
           {
            "iteration": 428,
            "learn": [
             218.4255641
            ],
            "passed_time": 7.51803373,
            "remaining_time": 15.26388666,
            "test": [
             610.5920158
            ]
           },
           {
            "iteration": 429,
            "learn": [
             218.3397378
            ],
            "passed_time": 7.524799718,
            "remaining_time": 15.22459478,
            "test": [
             610.5448225
            ]
           },
           {
            "iteration": 430,
            "learn": [
             218.2688129
            ],
            "passed_time": 7.53223615,
            "remaining_time": 15.1868056,
            "test": [
             610.4187105
            ]
           },
           {
            "iteration": 431,
            "learn": [
             218.2191811
            ],
            "passed_time": 7.539297521,
            "remaining_time": 15.14840335,
            "test": [
             610.3435459
            ]
           },
           {
            "iteration": 432,
            "learn": [
             218.1702331
            ],
            "passed_time": 7.546620308,
            "remaining_time": 15.1106693,
            "test": [
             610.6201871
            ]
           },
           {
            "iteration": 433,
            "learn": [
             218.1617518
            ],
            "passed_time": 7.553768187,
            "remaining_time": 15.07272638,
            "test": [
             610.6370541
            ]
           },
           {
            "iteration": 434,
            "learn": [
             217.9842447
            ],
            "passed_time": 7.560718236,
            "remaining_time": 15.03453166,
            "test": [
             610.6360955
            ]
           },
           {
            "iteration": 435,
            "learn": [
             217.5793059
            ],
            "passed_time": 7.567838473,
            "remaining_time": 14.99681752,
            "test": [
             610.786845
            ]
           },
           {
            "iteration": 436,
            "learn": [
             217.4741546
            ],
            "passed_time": 7.574280099,
            "remaining_time": 14.95790326,
            "test": [
             610.6738419
            ]
           },
           {
            "iteration": 437,
            "learn": [
             217.3916786
            ],
            "passed_time": 7.580969556,
            "remaining_time": 14.91962502,
            "test": [
             610.5935214
            ]
           },
           {
            "iteration": 438,
            "learn": [
             217.2008122
            ],
            "passed_time": 7.588523569,
            "remaining_time": 14.88318632,
            "test": [
             610.6300966
            ]
           },
           {
            "iteration": 439,
            "learn": [
             216.8835461
            ],
            "passed_time": 7.596489445,
            "remaining_time": 14.84768391,
            "test": [
             610.4863733
            ]
           },
           {
            "iteration": 440,
            "learn": [
             216.8735603
            ],
            "passed_time": 7.60364446,
            "remaining_time": 14.81072696,
            "test": [
             610.4795564
            ]
           },
           {
            "iteration": 441,
            "learn": [
             216.5462478
            ],
            "passed_time": 7.610645894,
            "remaining_time": 14.77360674,
            "test": [
             610.0800255
            ]
           },
           {
            "iteration": 442,
            "learn": [
             216.1932093
            ],
            "passed_time": 7.617515494,
            "remaining_time": 14.73636744,
            "test": [
             609.9015382
            ]
           },
           {
            "iteration": 443,
            "learn": [
             215.8336065
            ],
            "passed_time": 7.624911295,
            "remaining_time": 14.70027943,
            "test": [
             609.7741261
            ]
           },
           {
            "iteration": 444,
            "learn": [
             215.6644764
            ],
            "passed_time": 7.63351186,
            "remaining_time": 14.66663515,
            "test": [
             609.7751596
            ]
           },
           {
            "iteration": 445,
            "learn": [
             215.5275203
            ],
            "passed_time": 7.640404614,
            "remaining_time": 14.62983305,
            "test": [
             610.0546583
            ]
           },
           {
            "iteration": 446,
            "learn": [
             215.1171126
            ],
            "passed_time": 7.647297575,
            "remaining_time": 14.59316517,
            "test": [
             609.927251
            ]
           },
           {
            "iteration": 447,
            "learn": [
             215.1010956
            ],
            "passed_time": 7.648905023,
            "remaining_time": 14.5465783,
            "test": [
             609.9379159
            ]
           },
           {
            "iteration": 448,
            "learn": [
             214.7581824
            ],
            "passed_time": 7.655795269,
            "remaining_time": 14.5102044,
            "test": [
             609.4144161
            ]
           },
           {
            "iteration": 449,
            "learn": [
             214.6040478
            ],
            "passed_time": 7.664238721,
            "remaining_time": 14.47689536,
            "test": [
             609.3765899
            ]
           },
           {
            "iteration": 450,
            "learn": [
             214.1921695
            ],
            "passed_time": 7.67218383,
            "remaining_time": 14.44275847,
            "test": [
             609.3476111
            ]
           },
           {
            "iteration": 451,
            "learn": [
             213.807177
            ],
            "passed_time": 7.680644011,
            "remaining_time": 14.40970381,
            "test": [
             609.5338131
            ]
           },
           {
            "iteration": 452,
            "learn": [
             213.6743951
            ],
            "passed_time": 7.688184434,
            "remaining_time": 14.375038,
            "test": [
             609.5390749
            ]
           },
           {
            "iteration": 453,
            "learn": [
             213.5312263
            ],
            "passed_time": 7.695540252,
            "remaining_time": 14.34014769,
            "test": [
             609.5923796
            ]
           },
           {
            "iteration": 454,
            "learn": [
             213.356774
            ],
            "passed_time": 7.702089952,
            "remaining_time": 14.30388134,
            "test": [
             609.5837526
            ]
           },
           {
            "iteration": 455,
            "learn": [
             213.3407408
            ],
            "passed_time": 7.709088439,
            "remaining_time": 14.26857597,
            "test": [
             609.5814803
            ]
           },
           {
            "iteration": 456,
            "learn": [
             212.8054219
            ],
            "passed_time": 7.716231361,
            "remaining_time": 14.23366091,
            "test": [
             610.9194705
            ]
           },
           {
            "iteration": 457,
            "learn": [
             212.6069291
            ],
            "passed_time": 7.723297305,
            "remaining_time": 14.19872561,
            "test": [
             610.9368105
            ]
           },
           {
            "iteration": 458,
            "learn": [
             212.5471981
            ],
            "passed_time": 7.730355246,
            "remaining_time": 14.16389709,
            "test": [
             610.9465854
            ]
           },
           {
            "iteration": 459,
            "learn": [
             212.508313
            ],
            "passed_time": 7.737128892,
            "remaining_time": 14.12867015,
            "test": [
             610.9637541
            ]
           },
           {
            "iteration": 460,
            "learn": [
             212.3915124
            ],
            "passed_time": 7.748194311,
            "remaining_time": 14.1013775,
            "test": [
             610.9433919
            ]
           },
           {
            "iteration": 461,
            "learn": [
             212.2479529
            ],
            "passed_time": 7.755157089,
            "remaining_time": 14.06671351,
            "test": [
             610.9475664
            ]
           },
           {
            "iteration": 462,
            "learn": [
             211.7884107
            ],
            "passed_time": 7.762996172,
            "remaining_time": 14.03375334,
            "test": [
             611.0824661
            ]
           },
           {
            "iteration": 463,
            "learn": [
             211.0812625
            ],
            "passed_time": 7.770119793,
            "remaining_time": 13.99961238,
            "test": [
             611.7408838
            ]
           },
           {
            "iteration": 464,
            "learn": [
             210.7845098
            ],
            "passed_time": 7.777372107,
            "remaining_time": 13.96581873,
            "test": [
             611.6935492
            ]
           },
           {
            "iteration": 465,
            "learn": [
             210.6961227
            ],
            "passed_time": 7.784640489,
            "remaining_time": 13.93216774,
            "test": [
             611.8207772
            ]
           },
           {
            "iteration": 466,
            "learn": [
             210.1787292
            ],
            "passed_time": 7.793346124,
            "remaining_time": 13.90119341,
            "test": [
             611.7034845
            ]
           },
           {
            "iteration": 467,
            "learn": [
             210.0903493
            ],
            "passed_time": 7.800533722,
            "remaining_time": 13.86761551,
            "test": [
             611.6704235
            ]
           },
           {
            "iteration": 468,
            "learn": [
             209.8643225
            ],
            "passed_time": 7.807243863,
            "remaining_time": 13.83330416,
            "test": [
             611.5771964
            ]
           },
           {
            "iteration": 469,
            "learn": [
             209.006905
            ],
            "passed_time": 7.814258193,
            "remaining_time": 13.79964745,
            "test": [
             611.6676396
            ]
           },
           {
            "iteration": 470,
            "learn": [
             208.9898149
            ],
            "passed_time": 7.820884429,
            "remaining_time": 13.76542079,
            "test": [
             611.7024728
            ]
           },
           {
            "iteration": 471,
            "learn": [
             208.9284989
            ],
            "passed_time": 7.828727014,
            "remaining_time": 13.73344485,
            "test": [
             611.755841
            ]
           },
           {
            "iteration": 472,
            "learn": [
             208.8736589
            ],
            "passed_time": 7.835633759,
            "remaining_time": 13.69993471,
            "test": [
             611.7705716
            ]
           },
           {
            "iteration": 473,
            "learn": [
             208.6737123
            ],
            "passed_time": 7.842284975,
            "remaining_time": 13.66609154,
            "test": [
             611.4242626
            ]
           },
           {
            "iteration": 474,
            "learn": [
             208.5515987
            ],
            "passed_time": 7.851633197,
            "remaining_time": 13.63704713,
            "test": [
             611.4275991
            ]
           },
           {
            "iteration": 475,
            "learn": [
             208.5348608
            ],
            "passed_time": 7.858499501,
            "remaining_time": 13.60378905,
            "test": [
             611.4151909
            ]
           },
           {
            "iteration": 476,
            "learn": [
             208.1603856
            ],
            "passed_time": 7.866273761,
            "remaining_time": 13.57220819,
            "test": [
             611.446862
            ]
           },
           {
            "iteration": 477,
            "learn": [
             208.124595
            ],
            "passed_time": 7.874005156,
            "remaining_time": 13.54065322,
            "test": [
             611.4435284
            ]
           },
           {
            "iteration": 478,
            "learn": [
             207.775792
            ],
            "passed_time": 7.881188574,
            "remaining_time": 13.5082585,
            "test": [
             611.1571841
            ]
           },
           {
            "iteration": 479,
            "learn": [
             207.6974896
            ],
            "passed_time": 7.888024629,
            "remaining_time": 13.47537541,
            "test": [
             611.1815284
            ]
           },
           {
            "iteration": 480,
            "learn": [
             207.6332263
            ],
            "passed_time": 7.895231122,
            "remaining_time": 13.44323137,
            "test": [
             611.210431
            ]
           },
           {
            "iteration": 481,
            "learn": [
             207.4424946
            ],
            "passed_time": 7.902374377,
            "remaining_time": 13.41108349,
            "test": [
             611.3846192
            ]
           },
           {
            "iteration": 482,
            "learn": [
             207.2201447
            ],
            "passed_time": 7.909196849,
            "remaining_time": 13.37849653,
            "test": [
             611.505819
            ]
           },
           {
            "iteration": 483,
            "learn": [
             206.8821233
            ],
            "passed_time": 7.917300413,
            "remaining_time": 13.3481759,
            "test": [
             611.647322
            ]
           },
           {
            "iteration": 484,
            "learn": [
             206.7574499
            ],
            "passed_time": 7.925451396,
            "remaining_time": 13.31802657,
            "test": [
             611.648012
            ]
           },
           {
            "iteration": 485,
            "learn": [
             206.7415669
            ],
            "passed_time": 7.932821884,
            "remaining_time": 13.28666052,
            "test": [
             611.6630867
            ]
           },
           {
            "iteration": 486,
            "learn": [
             206.6381704
            ],
            "passed_time": 7.939992881,
            "remaining_time": 13.25505998,
            "test": [
             611.678575
            ]
           },
           {
            "iteration": 487,
            "learn": [
             205.6092052
            ],
            "passed_time": 7.955567351,
            "remaining_time": 13.2375424,
            "test": [
             610.3828756
            ]
           },
           {
            "iteration": 488,
            "learn": [
             205.2230121
            ],
            "passed_time": 7.972820325,
            "remaining_time": 13.22281653,
            "test": [
             610.3085285
            ]
           },
           {
            "iteration": 489,
            "learn": [
             204.6154432
            ],
            "passed_time": 7.988174275,
            "remaining_time": 13.20494115,
            "test": [
             610.1869495
            ]
           },
           {
            "iteration": 490,
            "learn": [
             204.5818201
            ],
            "passed_time": 8.000286525,
            "remaining_time": 13.18173482,
            "test": [
             610.1388929
            ]
           },
           {
            "iteration": 491,
            "learn": [
             204.5664689
            ],
            "passed_time": 8.008802541,
            "remaining_time": 13.15266759,
            "test": [
             610.1756519
            ]
           },
           {
            "iteration": 492,
            "learn": [
             204.4974158
            ],
            "passed_time": 8.023515361,
            "remaining_time": 13.13382738,
            "test": [
             610.1932214
            ]
           },
           {
            "iteration": 493,
            "learn": [
             204.4239173
            ],
            "passed_time": 8.037881931,
            "remaining_time": 13.11443894,
            "test": [
             610.1821905
            ]
           },
           {
            "iteration": 494,
            "learn": [
             203.7629003
            ],
            "passed_time": 8.047228374,
            "remaining_time": 13.08690675,
            "test": [
             610.6457756
            ]
           },
           {
            "iteration": 495,
            "learn": [
             203.586211
            ],
            "passed_time": 8.072425224,
            "remaining_time": 13.08514089,
            "test": [
             610.6720127
            ]
           },
           {
            "iteration": 496,
            "learn": [
             203.5077493
            ],
            "passed_time": 8.104434973,
            "remaining_time": 13.0942883,
            "test": [
             610.772348
            ]
           },
           {
            "iteration": 497,
            "learn": [
             203.453377
            ],
            "passed_time": 8.120783009,
            "remaining_time": 13.07804814,
            "test": [
             610.7742482
            ]
           },
           {
            "iteration": 498,
            "learn": [
             203.436669
            ],
            "passed_time": 8.133877959,
            "remaining_time": 13.05658566,
            "test": [
             610.8047318
            ]
           },
           {
            "iteration": 499,
            "learn": [
             203.4056606
            ],
            "passed_time": 8.147405734,
            "remaining_time": 13.03584917,
            "test": [
             610.7658992
            ]
           },
           {
            "iteration": 500,
            "learn": [
             203.1361516
            ],
            "passed_time": 8.160534645,
            "remaining_time": 13.01450535,
            "test": [
             610.830558
            ]
           },
           {
            "iteration": 501,
            "learn": [
             202.698921
            ],
            "passed_time": 8.174347491,
            "remaining_time": 12.99428147,
            "test": [
             610.7303936
            ]
           },
           {
            "iteration": 502,
            "learn": [
             202.4702342
            ],
            "passed_time": 8.186186189,
            "remaining_time": 12.97095505,
            "test": [
             610.5150688
            ]
           },
           {
            "iteration": 503,
            "learn": [
             201.7548047
            ],
            "passed_time": 8.196470062,
            "remaining_time": 12.94521859,
            "test": [
             610.929977
            ]
           },
           {
            "iteration": 504,
            "learn": [
             201.3400452
            ],
            "passed_time": 8.21062452,
            "remaining_time": 12.92563662,
            "test": [
             610.917355
            ]
           },
           {
            "iteration": 505,
            "learn": [
             201.2613979
            ],
            "passed_time": 8.228726953,
            "remaining_time": 12.91227115,
            "test": [
             610.9678836
            ]
           },
           {
            "iteration": 506,
            "learn": [
             201.1785801
            ],
            "passed_time": 8.244889319,
            "remaining_time": 12.89585252,
            "test": [
             610.8996236
            ]
           },
           {
            "iteration": 507,
            "learn": [
             201.0895587
            ],
            "passed_time": 8.258729213,
            "remaining_time": 12.87581405,
            "test": [
             610.8658646
            ]
           },
           {
            "iteration": 508,
            "learn": [
             200.7989449
            ],
            "passed_time": 8.27605754,
            "remaining_time": 12.86122105,
            "test": [
             610.5345432
            ]
           },
           {
            "iteration": 509,
            "learn": [
             200.4189328
            ],
            "passed_time": 8.293661893,
            "remaining_time": 12.84704489,
            "test": [
             610.5690183
            ]
           },
           {
            "iteration": 510,
            "learn": [
             200.1297493
            ],
            "passed_time": 8.310948095,
            "remaining_time": 12.83236408,
            "test": [
             610.6044102
            ]
           },
           {
            "iteration": 511,
            "learn": [
             199.3663156
            ],
            "passed_time": 8.323663194,
            "remaining_time": 12.81063788,
            "test": [
             611.0213273
            ]
           },
           {
            "iteration": 512,
            "learn": [
             199.1940388
            ],
            "passed_time": 8.336741674,
            "remaining_time": 12.78950428,
            "test": [
             610.932197
            ]
           },
           {
            "iteration": 513,
            "learn": [
             199.0265215
            ],
            "passed_time": 8.350175275,
            "remaining_time": 12.76894507,
            "test": [
             610.7145129
            ]
           },
           {
            "iteration": 514,
            "learn": [
             198.8442085
            ],
            "passed_time": 8.367307588,
            "remaining_time": 12.75405137,
            "test": [
             610.5313131
            ]
           },
           {
            "iteration": 515,
            "learn": [
             198.8017723
            ],
            "passed_time": 8.382266942,
            "remaining_time": 12.73584745,
            "test": [
             610.5106136
            ]
           },
           {
            "iteration": 516,
            "learn": [
             198.6153244
            ],
            "passed_time": 8.398010991,
            "remaining_time": 12.7188445,
            "test": [
             610.4045804
            ]
           },
           {
            "iteration": 517,
            "learn": [
             198.2380523
            ],
            "passed_time": 8.414432602,
            "remaining_time": 12.7028693,
            "test": [
             610.5494008
            ]
           },
           {
            "iteration": 518,
            "learn": [
             198.1601601
            ],
            "passed_time": 8.431308274,
            "remaining_time": 12.68757565,
            "test": [
             610.5950907
            ]
           },
           {
            "iteration": 519,
            "learn": [
             198.0060929
            ],
            "passed_time": 8.449093503,
            "remaining_time": 12.67364026,
            "test": [
             610.5172326
            ]
           },
           {
            "iteration": 520,
            "learn": [
             197.9559043
            ],
            "passed_time": 8.465581862,
            "remaining_time": 12.657751,
            "test": [
             610.523345
            ]
           },
           {
            "iteration": 521,
            "learn": [
             197.9156664
            ],
            "passed_time": 8.479791441,
            "remaining_time": 12.63846311,
            "test": [
             610.4994813
            ]
           },
           {
            "iteration": 522,
            "learn": [
             197.8129737
            ],
            "passed_time": 8.492437638,
            "remaining_time": 12.61687198,
            "test": [
             610.5066884
            ]
           },
           {
            "iteration": 523,
            "learn": [
             197.5072142
            ],
            "passed_time": 8.503580992,
            "remaining_time": 12.59308941,
            "test": [
             610.227264
            ]
           },
           {
            "iteration": 524,
            "learn": [
             197.124449
            ],
            "passed_time": 8.514474902,
            "remaining_time": 12.56898676,
            "test": [
             610.1450278
            ]
           },
           {
            "iteration": 525,
            "learn": [
             197.0882036
            ],
            "passed_time": 8.534496329,
            "remaining_time": 12.55836532,
            "test": [
             610.1595137
            ]
           },
           {
            "iteration": 526,
            "learn": [
             197.0250708
            ],
            "passed_time": 8.543762205,
            "remaining_time": 12.53193204,
            "test": [
             610.1262242
            ]
           },
           {
            "iteration": 527,
            "learn": [
             196.9439512
            ],
            "passed_time": 8.553092187,
            "remaining_time": 12.50565752,
            "test": [
             610.0931152
            ]
           },
           {
            "iteration": 528,
            "learn": [
             196.4746501
            ],
            "passed_time": 8.562505504,
            "remaining_time": 12.47956851,
            "test": [
             610.1409133
            ]
           },
           {
            "iteration": 529,
            "learn": [
             196.4624079
            ],
            "passed_time": 8.571699209,
            "remaining_time": 12.45322338,
            "test": [
             610.1388902
            ]
           },
           {
            "iteration": 530,
            "learn": [
             196.3837678
            ],
            "passed_time": 8.580156874,
            "remaining_time": 12.4258769,
            "test": [
             610.1662382
            ]
           },
           {
            "iteration": 531,
            "learn": [
             196.3339909
            ],
            "passed_time": 8.589093356,
            "remaining_time": 12.39929266,
            "test": [
             610.1692617
            ]
           },
           {
            "iteration": 532,
            "learn": [
             195.9800266
            ],
            "passed_time": 8.598081167,
            "remaining_time": 12.37284851,
            "test": [
             610.0175769
            ]
           },
           {
            "iteration": 533,
            "learn": [
             195.7452922
            ],
            "passed_time": 8.612089088,
            "remaining_time": 12.35367086,
            "test": [
             609.938896
            ]
           },
           {
            "iteration": 534,
            "learn": [
             195.6677149
            ],
            "passed_time": 8.628206077,
            "remaining_time": 12.33752832,
            "test": [
             609.8488197
            ]
           },
           {
            "iteration": 535,
            "learn": [
             195.3952181
            ],
            "passed_time": 8.643892046,
            "remaining_time": 12.3207715,
            "test": [
             609.7247711
            ]
           },
           {
            "iteration": 536,
            "learn": [
             195.3399325
            ],
            "passed_time": 8.65934436,
            "remaining_time": 12.30368668,
            "test": [
             609.7441101
            ]
           },
           {
            "iteration": 537,
            "learn": [
             195.1894599
            ],
            "passed_time": 8.67568558,
            "remaining_time": 12.28786694,
            "test": [
             609.836538
            ]
           },
           {
            "iteration": 538,
            "learn": [
             194.8183819
            ],
            "passed_time": 8.689161158,
            "remaining_time": 12.26799933,
            "test": [
             609.906469
            ]
           },
           {
            "iteration": 539,
            "learn": [
             194.7671628
            ],
            "passed_time": 8.702034988,
            "remaining_time": 12.2473085,
            "test": [
             609.8642098
            ]
           },
           {
            "iteration": 540,
            "learn": [
             194.6684856
            ],
            "passed_time": 8.716423304,
            "remaining_time": 12.22877133,
            "test": [
             609.9501424
            ]
           },
           {
            "iteration": 541,
            "learn": [
             194.5929213
            ],
            "passed_time": 8.729591348,
            "remaining_time": 12.20854288,
            "test": [
             609.9304436
            ]
           },
           {
            "iteration": 542,
            "learn": [
             194.5781754
            ],
            "passed_time": 8.741942931,
            "remaining_time": 12.18720221,
            "test": [
             609.9613785
            ]
           },
           {
            "iteration": 543,
            "learn": [
             194.5035838
            ],
            "passed_time": 8.754203217,
            "remaining_time": 12.16576771,
            "test": [
             610.051603
            ]
           },
           {
            "iteration": 544,
            "learn": [
             194.4734353
            ],
            "passed_time": 8.767421143,
            "remaining_time": 12.14569351,
            "test": [
             610.0524212
            ]
           },
           {
            "iteration": 545,
            "learn": [
             194.1518192
            ],
            "passed_time": 8.78051784,
            "remaining_time": 12.12547702,
            "test": [
             610.0794509
            ]
           },
           {
            "iteration": 546,
            "learn": [
             193.9797499
            ],
            "passed_time": 8.794756345,
            "remaining_time": 12.10685837,
            "test": [
             610.0088631
            ]
           },
           {
            "iteration": 547,
            "learn": [
             193.933638
            ],
            "passed_time": 8.811751177,
            "remaining_time": 12.09203811,
            "test": [
             610.0101153
            ]
           },
           {
            "iteration": 548,
            "learn": [
             193.8765979
            ],
            "passed_time": 8.825537721,
            "remaining_time": 12.07282118,
            "test": [
             610.0040749
            ]
           },
           {
            "iteration": 549,
            "learn": [
             193.147449
            ],
            "passed_time": 8.838992166,
            "remaining_time": 12.05317114,
            "test": [
             610.1990842
            ]
           },
           {
            "iteration": 550,
            "learn": [
             193.0141225
            ],
            "passed_time": 8.852634612,
            "remaining_time": 12.03379914,
            "test": [
             610.567774
            ]
           },
           {
            "iteration": 551,
            "learn": [
             192.7744364
            ],
            "passed_time": 8.864956234,
            "remaining_time": 12.01265809,
            "test": [
             610.5738921
            ]
           },
           {
            "iteration": 552,
            "learn": [
             192.7291374
            ],
            "passed_time": 8.87753357,
            "remaining_time": 11.99189435,
            "test": [
             610.5735964
            ]
           },
           {
            "iteration": 553,
            "learn": [
             192.1742789
            ],
            "passed_time": 8.890551876,
            "remaining_time": 11.97175397,
            "test": [
             611.1325923
            ]
           },
           {
            "iteration": 554,
            "learn": [
             192.1142825
            ],
            "passed_time": 8.904131564,
            "remaining_time": 11.95239282,
            "test": [
             611.1481327
            ]
           },
           {
            "iteration": 555,
            "learn": [
             191.6803456
            ],
            "passed_time": 8.918050714,
            "remaining_time": 11.93350671,
            "test": [
             611.605556
            ]
           },
           {
            "iteration": 556,
            "learn": [
             191.4254904
            ],
            "passed_time": 8.931565474,
            "remaining_time": 11.91409901,
            "test": [
             610.9387452
            ]
           },
           {
            "iteration": 557,
            "learn": [
             190.646492
            ],
            "passed_time": 8.949906773,
            "remaining_time": 11.90113051,
            "test": [
             610.6268483
            ]
           },
           {
            "iteration": 558,
            "learn": [
             190.577582
            ],
            "passed_time": 8.96436057,
            "remaining_time": 11.88298959,
            "test": [
             610.70954
            ]
           },
           {
            "iteration": 559,
            "learn": [
             190.2555479
            ],
            "passed_time": 8.980379829,
            "remaining_time": 11.86693049,
            "test": [
             610.7321677
            ]
           },
           {
            "iteration": 560,
            "learn": [
             190.2121374
            ],
            "passed_time": 8.9963286,
            "remaining_time": 11.85077867,
            "test": [
             610.6848616
            ]
           },
           {
            "iteration": 561,
            "learn": [
             189.4246295
            ],
            "passed_time": 9.010279036,
            "remaining_time": 11.83200343,
            "test": [
             611.0197738
            ]
           },
           {
            "iteration": 562,
            "learn": [
             189.0686298
            ],
            "passed_time": 9.025996089,
            "remaining_time": 11.81555794,
            "test": [
             610.7985875
            ]
           },
           {
            "iteration": 563,
            "learn": [
             189.0356273
            ],
            "passed_time": 9.040850856,
            "remaining_time": 11.79798977,
            "test": [
             610.7810102
            ]
           },
           {
            "iteration": 564,
            "learn": [
             188.9191714
            ],
            "passed_time": 9.054409793,
            "remaining_time": 11.77874548,
            "test": [
             610.739271
            ]
           },
           {
            "iteration": 565,
            "learn": [
             188.5928592
            ],
            "passed_time": 9.066044203,
            "remaining_time": 11.75702552,
            "test": [
             610.9327138
            ]
           },
           {
            "iteration": 566,
            "learn": [
             188.1881939
            ],
            "passed_time": 9.079177768,
            "remaining_time": 11.7372792,
            "test": [
             611.2871821
            ]
           },
           {
            "iteration": 567,
            "learn": [
             188.1671707
            ],
            "passed_time": 9.091071074,
            "remaining_time": 11.71595779,
            "test": [
             611.2935177
            ]
           },
           {
            "iteration": 568,
            "learn": [
             187.7699713
            ],
            "passed_time": 9.122111762,
            "remaining_time": 11.71926836,
            "test": [
             611.340129
            ]
           },
           {
            "iteration": 569,
            "learn": [
             187.7026452
            ],
            "passed_time": 9.144956559,
            "remaining_time": 11.71196191,
            "test": [
             611.2350503
            ]
           },
           {
            "iteration": 570,
            "learn": [
             187.5013519
            ],
            "passed_time": 9.158574442,
            "remaining_time": 11.69282096,
            "test": [
             610.9015031
            ]
           },
           {
            "iteration": 571,
            "learn": [
             187.4811639
            ],
            "passed_time": 9.175993183,
            "remaining_time": 11.67853678,
            "test": [
             610.8823418
            ]
           },
           {
            "iteration": 572,
            "learn": [
             187.4429854
            ],
            "passed_time": 9.18809359,
            "remaining_time": 11.65749396,
            "test": [
             610.880025
            ]
           },
           {
            "iteration": 573,
            "learn": [
             186.5612902
            ],
            "passed_time": 9.205750578,
            "remaining_time": 11.64351031,
            "test": [
             610.9513861
            ]
           },
           {
            "iteration": 574,
            "learn": [
             186.0255536
            ],
            "passed_time": 9.219837234,
            "remaining_time": 11.62501217,
            "test": [
             610.6476602
            ]
           },
           {
            "iteration": 575,
            "learn": [
             185.8884507
            ],
            "passed_time": 9.233606886,
            "remaining_time": 11.60613088,
            "test": [
             610.6640784
            ]
           },
           {
            "iteration": 576,
            "learn": [
             185.8619349
            ],
            "passed_time": 9.248159793,
            "remaining_time": 11.58824875,
            "test": [
             610.6620943
            ]
           },
           {
            "iteration": 577,
            "learn": [
             185.7729352
            ],
            "passed_time": 9.260757997,
            "remaining_time": 11.56793646,
            "test": [
             610.6322718
            ]
           },
           {
            "iteration": 578,
            "learn": [
             185.5843215
            ],
            "passed_time": 9.271579597,
            "remaining_time": 11.5454385,
            "test": [
             610.6253518
            ]
           },
           {
            "iteration": 579,
            "learn": [
             185.5392822
            ],
            "passed_time": 9.281288473,
            "remaining_time": 11.52159948,
            "test": [
             610.679215
            ]
           },
           {
            "iteration": 580,
            "learn": [
             185.2009851
            ],
            "passed_time": 9.291548097,
            "remaining_time": 11.49849067,
            "test": [
             610.9626665
            ]
           },
           {
            "iteration": 581,
            "learn": [
             184.796115
            ],
            "passed_time": 9.303671234,
            "remaining_time": 11.47772499,
            "test": [
             611.3595155
            ]
           },
           {
            "iteration": 582,
            "learn": [
             184.5967358
            ],
            "passed_time": 9.320077223,
            "remaining_time": 11.46225621,
            "test": [
             611.3097003
            ]
           },
           {
            "iteration": 583,
            "learn": [
             184.5674323
            ],
            "passed_time": 9.333002893,
            "remaining_time": 11.44251725,
            "test": [
             611.301408
            ]
           },
           {
            "iteration": 584,
            "learn": [
             184.5408529
            ],
            "passed_time": 9.34572125,
            "remaining_time": 11.42254819,
            "test": [
             611.2903269
            ]
           },
           {
            "iteration": 585,
            "learn": [
             184.3587375
            ],
            "passed_time": 9.360078194,
            "remaining_time": 11.40460039,
            "test": [
             611.5219607
            ]
           },
           {
            "iteration": 586,
            "learn": [
             184.3444931
            ],
            "passed_time": 9.376267212,
            "remaining_time": 11.38889016,
            "test": [
             611.5440625
            ]
           },
           {
            "iteration": 587,
            "learn": [
             183.9759335
            ],
            "passed_time": 9.393135759,
            "remaining_time": 11.37400112,
            "test": [
             611.7458957
            ]
           },
           {
            "iteration": 588,
            "learn": [
             183.9438686
            ],
            "passed_time": 9.407953453,
            "remaining_time": 11.35662972,
            "test": [
             611.758892
            ]
           },
           {
            "iteration": 589,
            "learn": [
             183.9145691
            ],
            "passed_time": 9.422317995,
            "remaining_time": 11.33872166,
            "test": [
             611.7672842
            ]
           },
           {
            "iteration": 590,
            "learn": [
             183.0760264
            ],
            "passed_time": 9.432826682,
            "remaining_time": 11.31619986,
            "test": [
             611.759614
            ]
           },
           {
            "iteration": 591,
            "learn": [
             183.0517527
            ],
            "passed_time": 9.442439941,
            "remaining_time": 11.29264777,
            "test": [
             611.7620734
            ]
           },
           {
            "iteration": 592,
            "learn": [
             182.8954695
            ],
            "passed_time": 9.452081413,
            "remaining_time": 11.26917632,
            "test": [
             611.8530535
            ]
           },
           {
            "iteration": 593,
            "learn": [
             182.8502547
            ],
            "passed_time": 9.460640639,
            "remaining_time": 11.24446514,
            "test": [
             611.8591265
            ]
           },
           {
            "iteration": 594,
            "learn": [
             182.8162015
            ],
            "passed_time": 9.469420161,
            "remaining_time": 11.22006927,
            "test": [
             611.8765877
            ]
           },
           {
            "iteration": 595,
            "learn": [
             182.7965638
            ],
            "passed_time": 9.478681001,
            "remaining_time": 11.19629434,
            "test": [
             611.8763941
            ]
           },
           {
            "iteration": 596,
            "learn": [
             182.1747025
            ],
            "passed_time": 9.491327072,
            "remaining_time": 11.17655432,
            "test": [
             612.3503016
            ]
           },
           {
            "iteration": 597,
            "learn": [
             182.1003763
            ],
            "passed_time": 9.508523752,
            "remaining_time": 11.16218006,
            "test": [
             612.4882198
            ]
           },
           {
            "iteration": 598,
            "learn": [
             181.6362676
            ],
            "passed_time": 9.522830166,
            "remaining_time": 11.14441393,
            "test": [
             612.0087743
            ]
           },
           {
            "iteration": 599,
            "learn": [
             181.3763101
            ],
            "passed_time": 9.536022359,
            "remaining_time": 11.12535942,
            "test": [
             612.2199423
            ]
           },
           {
            "iteration": 600,
            "learn": [
             181.2436495
            ],
            "passed_time": 9.549475639,
            "remaining_time": 11.10662807,
            "test": [
             612.119549
            ]
           },
           {
            "iteration": 601,
            "learn": [
             181.2001086
            ],
            "passed_time": 9.562529667,
            "remaining_time": 11.08745134,
            "test": [
             612.0741545
            ]
           },
           {
            "iteration": 602,
            "learn": [
             180.9165059
            ],
            "passed_time": 9.575967017,
            "remaining_time": 11.06873799,
            "test": [
             612.0942003
            ]
           },
           {
            "iteration": 603,
            "learn": [
             180.6381792
            ],
            "passed_time": 9.588557087,
            "remaining_time": 11.04906578,
            "test": [
             612.0799072
            ]
           },
           {
            "iteration": 604,
            "learn": [
             180.5087903
            ],
            "passed_time": 9.601133997,
            "remaining_time": 11.02940186,
            "test": [
             612.2206474
            ]
           },
           {
            "iteration": 605,
            "learn": [
             180.4434487
            ],
            "passed_time": 9.614907456,
            "remaining_time": 11.01113164,
            "test": [
             612.2306148
            ]
           },
           {
            "iteration": 606,
            "learn": [
             180.3627968
            ],
            "passed_time": 9.627093434,
            "remaining_time": 10.99106384,
            "test": [
             612.2511422
            ]
           },
           {
            "iteration": 607,
            "learn": [
             180.2503123
            ],
            "passed_time": 9.642562948,
            "remaining_time": 10.97475914,
            "test": [
             612.3518833
            ]
           },
           {
            "iteration": 608,
            "learn": [
             179.8744173
            ],
            "passed_time": 9.659426051,
            "remaining_time": 10.96003843,
            "test": [
             612.2376778
            ]
           },
           {
            "iteration": 609,
            "learn": [
             179.7173801
            ],
            "passed_time": 9.673290816,
            "remaining_time": 10.94191912,
            "test": [
             612.1538875
            ]
           },
           {
            "iteration": 610,
            "learn": [
             179.6378602
            ],
            "passed_time": 9.685178482,
            "remaining_time": 10.92158425,
            "test": [
             612.5123288
            ]
           },
           {
            "iteration": 611,
            "learn": [
             179.5748531
            ],
            "passed_time": 9.697602652,
            "remaining_time": 10.90188011,
            "test": [
             612.43329
            ]
           },
           {
            "iteration": 612,
            "learn": [
             179.538246
            ],
            "passed_time": 9.711453942,
            "remaining_time": 10.88379912,
            "test": [
             612.4028417
            ]
           },
           {
            "iteration": 613,
            "learn": [
             179.4143556
            ],
            "passed_time": 9.724444226,
            "remaining_time": 10.86476993,
            "test": [
             612.1727144
            ]
           },
           {
            "iteration": 614,
            "learn": [
             179.2278835
            ],
            "passed_time": 9.739011423,
            "remaining_time": 10.84751679,
            "test": [
             612.2031392
            ]
           },
           {
            "iteration": 615,
            "learn": [
             179.1542413
            ],
            "passed_time": 9.753978469,
            "remaining_time": 10.83071635,
            "test": [
             612.3180447
            ]
           },
           {
            "iteration": 616,
            "learn": [
             178.9988775
            ],
            "passed_time": 9.768226146,
            "remaining_time": 10.81312554,
            "test": [
             612.4404021
            ]
           },
           {
            "iteration": 617,
            "learn": [
             178.9439927
            ],
            "passed_time": 9.782137308,
            "remaining_time": 10.79517418,
            "test": [
             612.3638265
            ]
           },
           {
            "iteration": 618,
            "learn": [
             178.8328833
            ],
            "passed_time": 9.796086508,
            "remaining_time": 10.77727773,
            "test": [
             612.3460784
            ]
           },
           {
            "iteration": 619,
            "learn": [
             178.6169622
            ],
            "passed_time": 9.809343941,
            "remaining_time": 10.75863529,
            "test": [
             612.3855768
            ]
           },
           {
            "iteration": 620,
            "learn": [
             178.5108395
            ],
            "passed_time": 9.823816473,
            "remaining_time": 10.74133878,
            "test": [
             612.3827521
            ]
           },
           {
            "iteration": 621,
            "learn": [
             178.4487245
            ],
            "passed_time": 9.836237946,
            "remaining_time": 10.72181564,
            "test": [
             612.37909
            ]
           },
           {
            "iteration": 622,
            "learn": [
             178.3998695
            ],
            "passed_time": 9.851688662,
            "remaining_time": 10.7056071,
            "test": [
             612.377642
            ]
           },
           {
            "iteration": 623,
            "learn": [
             177.7964947
            ],
            "passed_time": 9.864778182,
            "remaining_time": 10.68684303,
            "test": [
             612.375204
            ]
           },
           {
            "iteration": 624,
            "learn": [
             177.7580096
            ],
            "passed_time": 9.880211376,
            "remaining_time": 10.67062829,
            "test": [
             612.374487
            ]
           },
           {
            "iteration": 625,
            "learn": [
             177.5622678
            ],
            "passed_time": 9.894906327,
            "remaining_time": 10.65362119,
            "test": [
             612.3948567
            ]
           },
           {
            "iteration": 626,
            "learn": [
             177.4340354
            ],
            "passed_time": 9.906750462,
            "remaining_time": 10.6335615,
            "test": [
             612.0825158
            ]
           },
           {
            "iteration": 627,
            "learn": [
             177.2785565
            ],
            "passed_time": 9.917019814,
            "remaining_time": 10.61184286,
            "test": [
             611.845041
            ]
           },
           {
            "iteration": 628,
            "learn": [
             177.2570015
            ],
            "passed_time": 9.925658311,
            "remaining_time": 10.58842087,
            "test": [
             611.805117
            ]
           },
           {
            "iteration": 629,
            "learn": [
             177.1995658
            ],
            "passed_time": 9.93513934,
            "remaining_time": 10.56594184,
            "test": [
             611.8185818
            ]
           },
           {
            "iteration": 630,
            "learn": [
             175.828122
            ],
            "passed_time": 9.947480003,
            "remaining_time": 10.54653585,
            "test": [
             611.8235912
            ]
           },
           {
            "iteration": 631,
            "learn": [
             175.821066
            ],
            "passed_time": 9.961569964,
            "remaining_time": 10.52900117,
            "test": [
             611.814664
            ]
           },
           {
            "iteration": 632,
            "learn": [
             175.4113929
            ],
            "passed_time": 9.975163629,
            "remaining_time": 10.51095441,
            "test": [
             612.0002178
            ]
           },
           {
            "iteration": 633,
            "learn": [
             175.3069255
            ],
            "passed_time": 9.993954329,
            "remaining_time": 10.49838105,
            "test": [
             612.1369514
            ]
           },
           {
            "iteration": 634,
            "learn": [
             175.2424201
            ],
            "passed_time": 10.01234594,
            "remaining_time": 10.48537016,
            "test": [
             611.9956813
            ]
           },
           {
            "iteration": 635,
            "learn": [
             175.1860589
            ],
            "passed_time": 10.02517093,
            "remaining_time": 10.46653066,
            "test": [
             612.0205184
            ]
           },
           {
            "iteration": 636,
            "learn": [
             175.0950616
            ],
            "passed_time": 10.03603728,
            "remaining_time": 10.44567145,
            "test": [
             612.0097059
            ]
           },
           {
            "iteration": 637,
            "learn": [
             174.9855433
            ],
            "passed_time": 10.04432838,
            "remaining_time": 10.42217145,
            "test": [
             611.8778851
            ]
           },
           {
            "iteration": 638,
            "learn": [
             174.95311
            ],
            "passed_time": 10.05544324,
            "remaining_time": 10.40164003,
            "test": [
             611.8229965
            ]
           },
           {
            "iteration": 639,
            "learn": [
             174.9420896
            ],
            "passed_time": 10.06678281,
            "remaining_time": 10.38136977,
            "test": [
             611.813548
            ]
           },
           {
            "iteration": 640,
            "learn": [
             174.9166129
            ],
            "passed_time": 10.08345038,
            "remaining_time": 10.36660499,
            "test": [
             611.7739615
            ]
           },
           {
            "iteration": 641,
            "learn": [
             174.4392413
            ],
            "passed_time": 10.10162536,
            "remaining_time": 10.35337926,
            "test": [
             611.1836293
            ]
           },
           {
            "iteration": 642,
            "learn": [
             174.2836677
            ],
            "passed_time": 10.1198709,
            "remaining_time": 10.34021024,
            "test": [
             611.1486831
            ]
           },
           {
            "iteration": 643,
            "learn": [
             174.2250124
            ],
            "passed_time": 10.15310125,
            "remaining_time": 10.34228947,
            "test": [
             611.1127646
            ]
           },
           {
            "iteration": 644,
            "learn": [
             174.0793289
            ],
            "passed_time": 10.17690333,
            "remaining_time": 10.33468477,
            "test": [
             611.0986306
            ]
           },
           {
            "iteration": 645,
            "learn": [
             173.9812165
            ],
            "passed_time": 10.20002912,
            "remaining_time": 10.32634527,
            "test": [
             611.0485959
            ]
           },
           {
            "iteration": 646,
            "learn": [
             173.927715
            ],
            "passed_time": 10.22570433,
            "remaining_time": 10.32053312,
            "test": [
             611.0331418
            ]
           },
           {
            "iteration": 647,
            "learn": [
             173.8904581
            ],
            "passed_time": 10.2589907,
            "remaining_time": 10.32231781,
            "test": [
             611.1021039
            ]
           },
           {
            "iteration": 648,
            "learn": [
             173.8036285
            ],
            "passed_time": 10.28345715,
            "remaining_time": 10.31514731,
            "test": [
             611.3832864
            ]
           },
           {
            "iteration": 649,
            "learn": [
             173.7213226
            ],
            "passed_time": 10.30814523,
            "remaining_time": 10.30814523,
            "test": [
             611.3935789
            ]
           },
           {
            "iteration": 650,
            "learn": [
             173.4679361
            ],
            "passed_time": 10.32312933,
            "remaining_time": 10.29141465,
            "test": [
             611.768671
            ]
           },
           {
            "iteration": 651,
            "learn": [
             173.2471273
            ],
            "passed_time": 10.33721021,
            "remaining_time": 10.27379174,
            "test": [
             611.495302
            ]
           },
           {
            "iteration": 652,
            "learn": [
             172.9727751
            ],
            "passed_time": 10.3550001,
            "remaining_time": 10.25985461,
            "test": [
             611.508805
            ]
           },
           {
            "iteration": 653,
            "learn": [
             172.7532416
            ],
            "passed_time": 10.37378858,
            "remaining_time": 10.24689208,
            "test": [
             611.7504315
            ]
           },
           {
            "iteration": 654,
            "learn": [
             172.6920951
            ],
            "passed_time": 10.38749148,
            "remaining_time": 10.22890382,
            "test": [
             611.7641935
            ]
           },
           {
            "iteration": 655,
            "learn": [
             172.6172846
            ],
            "passed_time": 10.40623067,
            "remaining_time": 10.21587279,
            "test": [
             611.863238
            ]
           },
           {
            "iteration": 656,
            "learn": [
             172.425267
            ],
            "passed_time": 10.41773862,
            "remaining_time": 10.19574723,
            "test": [
             611.7843131
            ]
           },
           {
            "iteration": 657,
            "learn": [
             172.3655231
            ],
            "passed_time": 10.4284679,
            "remaining_time": 10.17488813,
            "test": [
             611.8066049
            ]
           },
           {
            "iteration": 658,
            "learn": [
             172.3472339
            ],
            "passed_time": 10.442523,
            "remaining_time": 10.15729476,
            "test": [
             611.7956272
            ]
           },
           {
            "iteration": 659,
            "learn": [
             172.0570228
            ],
            "passed_time": 10.46059313,
            "remaining_time": 10.14360546,
            "test": [
             611.6234221
            ]
           },
           {
            "iteration": 660,
            "learn": [
             172.0446407
            ],
            "passed_time": 10.47923594,
            "remaining_time": 10.13045653,
            "test": [
             611.6228149
            ]
           },
           {
            "iteration": 661,
            "learn": [
             171.8547057
            ],
            "passed_time": 10.50113206,
            "remaining_time": 10.12042636,
            "test": [
             611.4128248
            ]
           },
           {
            "iteration": 662,
            "learn": [
             171.4309526
            ],
            "passed_time": 10.51863465,
            "remaining_time": 10.10613917,
            "test": [
             611.498627
            ]
           },
           {
            "iteration": 663,
            "learn": [
             171.2663699
            ],
            "passed_time": 10.53422413,
            "remaining_time": 10.09000986,
            "test": [
             611.2602309
            ]
           },
           {
            "iteration": 664,
            "learn": [
             171.2398758
            ],
            "passed_time": 10.55489458,
            "remaining_time": 10.07873393,
            "test": [
             611.2410146
            ]
           },
           {
            "iteration": 665,
            "learn": [
             170.5931088
            ],
            "passed_time": 10.56844078,
            "remaining_time": 10.06064783,
            "test": [
             611.1212465
            ]
           },
           {
            "iteration": 666,
            "learn": [
             170.4831517
            ],
            "passed_time": 10.58229177,
            "remaining_time": 10.0428646,
            "test": [
             611.2719924
            ]
           },
           {
            "iteration": 667,
            "learn": [
             170.4647507
            ],
            "passed_time": 10.59248617,
            "remaining_time": 10.02163363,
            "test": [
             611.2704313
            ]
           },
           {
            "iteration": 668,
            "learn": [
             170.4020836
            ],
            "passed_time": 10.60133783,
            "remaining_time": 9.99916916,
            "test": [
             611.3281437
            ]
           },
           {
            "iteration": 669,
            "learn": [
             170.3871582
            ],
            "passed_time": 10.61195374,
            "remaining_time": 9.978404259,
            "test": [
             611.3163523
            ]
           },
           {
            "iteration": 670,
            "learn": [
             170.2701307
            ],
            "passed_time": 10.62286795,
            "remaining_time": 9.957949245,
            "test": [
             611.3543218
            ]
           },
           {
            "iteration": 671,
            "learn": [
             170.2003944
            ],
            "passed_time": 10.63446624,
            "remaining_time": 9.938161907,
            "test": [
             611.3326839
            ]
           },
           {
            "iteration": 672,
            "learn": [
             170.1844936
            ],
            "passed_time": 10.64444265,
            "remaining_time": 9.916887874,
            "test": [
             611.3005931
            ]
           },
           {
            "iteration": 673,
            "learn": [
             170.1437129
            ],
            "passed_time": 10.6540204,
            "remaining_time": 9.895277108,
            "test": [
             611.2580149
            ]
           },
           {
            "iteration": 674,
            "learn": [
             170.1239096
            ],
            "passed_time": 10.66729247,
            "remaining_time": 9.877122662,
            "test": [
             611.2528181
            ]
           },
           {
            "iteration": 675,
            "learn": [
             169.6904777
            ],
            "passed_time": 10.68644963,
            "remaining_time": 9.864415047,
            "test": [
             612.0605317
            ]
           },
           {
            "iteration": 676,
            "learn": [
             169.487074
            ],
            "passed_time": 10.70616705,
            "remaining_time": 9.852203943,
            "test": [
             611.7284491
            ]
           },
           {
            "iteration": 677,
            "learn": [
             169.4793606
            ],
            "passed_time": 10.72838645,
            "remaining_time": 9.842266034,
            "test": [
             611.7431438
            ]
           },
           {
            "iteration": 678,
            "learn": [
             169.4573641
            ],
            "passed_time": 10.74703941,
            "remaining_time": 9.829030153,
            "test": [
             611.7341326
            ]
           },
           {
            "iteration": 679,
            "learn": [
             169.4134577
            ],
            "passed_time": 10.76469743,
            "remaining_time": 9.814871188,
            "test": [
             611.7123083
            ]
           },
           {
            "iteration": 680,
            "learn": [
             169.3787448
            ],
            "passed_time": 10.78796885,
            "remaining_time": 9.805804284,
            "test": [
             611.6665823
            ]
           },
           {
            "iteration": 681,
            "learn": [
             169.3407553
            ],
            "passed_time": 10.80408543,
            "remaining_time": 9.790212313,
            "test": [
             611.6725363
            ]
           },
           {
            "iteration": 682,
            "learn": [
             169.3095748
            ],
            "passed_time": 10.82019631,
            "remaining_time": 9.774613647,
            "test": [
             611.7061168
            ]
           },
           {
            "iteration": 683,
            "learn": [
             169.1560879
            ],
            "passed_time": 10.84067412,
            "remaining_time": 9.762946284,
            "test": [
             611.4660136
            ]
           },
           {
            "iteration": 684,
            "learn": [
             169.1026833
            ],
            "passed_time": 10.85626076,
            "remaining_time": 9.746861848,
            "test": [
             611.3262403
            ]
           },
           {
            "iteration": 685,
            "learn": [
             169.073104
            ],
            "passed_time": 10.87288403,
            "remaining_time": 9.731706697,
            "test": [
             611.3441602
            ]
           },
           {
            "iteration": 686,
            "learn": [
             168.9779399
            ],
            "passed_time": 10.89208333,
            "remaining_time": 9.718845822,
            "test": [
             611.0957023
            ]
           },
           {
            "iteration": 687,
            "learn": [
             168.9635653
            ],
            "passed_time": 10.91250419,
            "remaining_time": 9.707053148,
            "test": [
             611.1220773
            ]
           },
           {
            "iteration": 688,
            "learn": [
             168.8862343
            ],
            "passed_time": 10.93671661,
            "remaining_time": 9.69859775,
            "test": [
             611.0556742
            ]
           },
           {
            "iteration": 689,
            "learn": [
             168.5931057
            ],
            "passed_time": 10.9611466,
            "remaining_time": 9.690289025,
            "test": [
             610.7349835
            ]
           },
           {
            "iteration": 690,
            "learn": [
             168.4285503
            ],
            "passed_time": 10.97836195,
            "remaining_time": 9.675575147,
            "test": [
             610.6053569
            ]
           },
           {
            "iteration": 691,
            "learn": [
             168.3595675
            ],
            "passed_time": 10.99648186,
            "remaining_time": 9.661648804,
            "test": [
             610.7040666
            ]
           },
           {
            "iteration": 692,
            "learn": [
             168.3147878
            ],
            "passed_time": 11.01541991,
            "remaining_time": 9.648426963,
            "test": [
             610.7092123
            ]
           },
           {
            "iteration": 693,
            "learn": [
             168.2454381
            ],
            "passed_time": 11.03552547,
            "remaining_time": 9.636208121,
            "test": [
             610.6716244
            ]
           },
           {
            "iteration": 694,
            "learn": [
             168.2226011
            ],
            "passed_time": 11.0540013,
            "remaining_time": 9.622547897,
            "test": [
             610.6483829
            ]
           },
           {
            "iteration": 695,
            "learn": [
             168.1670362
            ],
            "passed_time": 11.07193125,
            "remaining_time": 9.608400111,
            "test": [
             610.6759158
            ]
           },
           {
            "iteration": 696,
            "learn": [
             168.1241864
            ],
            "passed_time": 11.08933062,
            "remaining_time": 9.593782442,
            "test": [
             610.6743947
            ]
           },
           {
            "iteration": 697,
            "learn": [
             167.955667
            ],
            "passed_time": 11.10806261,
            "remaining_time": 9.580306144,
            "test": [
             610.6650055
            ]
           },
           {
            "iteration": 698,
            "learn": [
             167.8400704
            ],
            "passed_time": 11.12433333,
            "remaining_time": 9.564698615,
            "test": [
             610.5172179
            ]
           },
           {
            "iteration": 699,
            "learn": [
             167.8198464
            ],
            "passed_time": 11.1434948,
            "remaining_time": 9.551566972,
            "test": [
             610.5204008
            ]
           },
           {
            "iteration": 700,
            "learn": [
             167.1333376
            ],
            "passed_time": 11.16285635,
            "remaining_time": 9.538589088,
            "test": [
             610.8321928
            ]
           },
           {
            "iteration": 701,
            "learn": [
             167.083095
            ],
            "passed_time": 11.18454367,
            "remaining_time": 9.527574234,
            "test": [
             610.8163715
            ]
           },
           {
            "iteration": 702,
            "learn": [
             166.973224
            ],
            "passed_time": 11.21680993,
            "remaining_time": 9.525512845,
            "test": [
             610.7402011
            ]
           },
           {
            "iteration": 703,
            "learn": [
             166.9472331
            ],
            "passed_time": 11.5105729,
            "remaining_time": 9.744746377,
            "test": [
             610.7434415
            ]
           },
           {
            "iteration": 704,
            "learn": [
             166.797088
            ],
            "passed_time": 11.53198908,
            "remaining_time": 9.732671637,
            "test": [
             610.1980163
            ]
           },
           {
            "iteration": 705,
            "learn": [
             166.7494858
            ],
            "passed_time": 11.54874884,
            "remaining_time": 9.71665271,
            "test": [
             610.1813385
            ]
           },
           {
            "iteration": 706,
            "learn": [
             166.5796766
            ],
            "passed_time": 11.56839156,
            "remaining_time": 9.703049777,
            "test": [
             610.2911559
            ]
           },
           {
            "iteration": 707,
            "learn": [
             166.3061101
            ],
            "passed_time": 11.5943295,
            "remaining_time": 9.69469359,
            "test": [
             610.2871696
            ]
           },
           {
            "iteration": 708,
            "learn": [
             166.1830028
            ],
            "passed_time": 11.61117506,
            "remaining_time": 9.678708688,
            "test": [
             610.2865893
            ]
           },
           {
            "iteration": 709,
            "learn": [
             166.0686298
            ],
            "passed_time": 11.62893146,
            "remaining_time": 9.663478252,
            "test": [
             610.2272529
            ]
           },
           {
            "iteration": 710,
            "learn": [
             165.8033725
            ],
            "passed_time": 11.64358575,
            "remaining_time": 9.645670891,
            "test": [
             610.0099839
            ]
           },
           {
            "iteration": 711,
            "learn": [
             165.7851308
            ],
            "passed_time": 11.65688731,
            "remaining_time": 9.626755252,
            "test": [
             610.0204305
            ]
           },
           {
            "iteration": 712,
            "learn": [
             165.7691693
            ],
            "passed_time": 11.6705594,
            "remaining_time": 9.6081604,
            "test": [
             610.0227467
            ]
           },
           {
            "iteration": 713,
            "learn": [
             165.6595873
            ],
            "passed_time": 11.6865832,
            "remaining_time": 9.59150946,
            "test": [
             609.5705201
            ]
           },
           {
            "iteration": 714,
            "learn": [
             165.6262827
            ],
            "passed_time": 11.70458435,
            "remaining_time": 9.576478106,
            "test": [
             609.5472888
            ]
           },
           {
            "iteration": 715,
            "learn": [
             165.6030908
            ],
            "passed_time": 11.72084773,
            "remaining_time": 9.560021053,
            "test": [
             609.6518187
            ]
           },
           {
            "iteration": 716,
            "learn": [
             165.2978858
            ],
            "passed_time": 11.73851231,
            "remaining_time": 9.544703875,
            "test": [
             609.8661617
            ]
           },
           {
            "iteration": 717,
            "learn": [
             165.2511723
            ],
            "passed_time": 11.75322354,
            "remaining_time": 9.526986215,
            "test": [
             609.8652588
            ]
           },
           {
            "iteration": 718,
            "learn": [
             164.6083575
            ],
            "passed_time": 11.76806901,
            "remaining_time": 9.509385388,
            "test": [
             609.6923456
            ]
           },
           {
            "iteration": 719,
            "learn": [
             164.4904569
            ],
            "passed_time": 11.78554087,
            "remaining_time": 9.493907925,
            "test": [
             609.7026445
            ]
           },
           {
            "iteration": 720,
            "learn": [
             164.4482945
            ],
            "passed_time": 11.80502002,
            "remaining_time": 9.480036884,
            "test": [
             609.6314777
            ]
           },
           {
            "iteration": 721,
            "learn": [
             164.2628955
            ],
            "passed_time": 11.82084057,
            "remaining_time": 9.463221401,
            "test": [
             609.5679433
            ]
           },
           {
            "iteration": 722,
            "learn": [
             164.2018666
            ],
            "passed_time": 11.83743776,
            "remaining_time": 9.447028474,
            "test": [
             609.5462512
            ]
           },
           {
            "iteration": 723,
            "learn": [
             163.9357453
            ],
            "passed_time": 11.85796862,
            "remaining_time": 9.433963982,
            "test": [
             609.4001942
            ]
           },
           {
            "iteration": 724,
            "learn": [
             163.8484548
            ],
            "passed_time": 11.87514308,
            "remaining_time": 9.418216926,
            "test": [
             609.4515889
            ]
           },
           {
            "iteration": 725,
            "learn": [
             163.6176064
            ],
            "passed_time": 11.88961306,
            "remaining_time": 9.400327679,
            "test": [
             609.3324444
            ]
           },
           {
            "iteration": 726,
            "learn": [
             163.5372451
            ],
            "passed_time": 11.90254647,
            "remaining_time": 9.381236764,
            "test": [
             609.1450167
            ]
           },
           {
            "iteration": 727,
            "learn": [
             163.4296802
            ],
            "passed_time": 11.91776615,
            "remaining_time": 9.363959122,
            "test": [
             608.8399515
            ]
           },
           {
            "iteration": 728,
            "learn": [
             162.8781213
            ],
            "passed_time": 11.93318666,
            "remaining_time": 9.346844424,
            "test": [
             609.6342054
            ]
           },
           {
            "iteration": 729,
            "learn": [
             162.8450892
            ],
            "passed_time": 11.94975992,
            "remaining_time": 9.330634459,
            "test": [
             609.6621869
            ]
           },
           {
            "iteration": 730,
            "learn": [
             162.7172766
            ],
            "passed_time": 11.96270783,
            "remaining_time": 9.311601577,
            "test": [
             609.6203845
            ]
           },
           {
            "iteration": 731,
            "learn": [
             162.6883452
            ],
            "passed_time": 11.97140149,
            "remaining_time": 9.289284213,
            "test": [
             609.595785
            ]
           },
           {
            "iteration": 732,
            "learn": [
             162.6758496
            ],
            "passed_time": 11.98272036,
            "remaining_time": 9.26903471,
            "test": [
             609.6000493
            ]
           },
           {
            "iteration": 733,
            "learn": [
             162.5215591
            ],
            "passed_time": 11.99123471,
            "remaining_time": 9.246646925,
            "test": [
             608.5991749
            ]
           },
           {
            "iteration": 734,
            "learn": [
             162.4788513
            ],
            "passed_time": 11.99927127,
            "remaining_time": 9.223929613,
            "test": [
             608.5956343
            ]
           },
           {
            "iteration": 735,
            "learn": [
             162.3918397
            ],
            "passed_time": 12.00672961,
            "remaining_time": 9.200809103,
            "test": [
             608.5165551
            ]
           },
           {
            "iteration": 736,
            "learn": [
             161.9142026
            ],
            "passed_time": 12.0140742,
            "remaining_time": 9.177644199,
            "test": [
             607.8901162
            ]
           },
           {
            "iteration": 737,
            "learn": [
             161.6884703
            ],
            "passed_time": 12.02212217,
            "remaining_time": 9.155057803,
            "test": [
             607.5648283
            ]
           },
           {
            "iteration": 738,
            "learn": [
             161.5717778
            ],
            "passed_time": 12.02925468,
            "remaining_time": 9.1318158,
            "test": [
             607.5409031
            ]
           },
           {
            "iteration": 739,
            "learn": [
             161.4197736
            ],
            "passed_time": 12.03638904,
            "remaining_time": 9.108618732,
            "test": [
             607.5163911
            ]
           },
           {
            "iteration": 740,
            "learn": [
             161.374853
            ],
            "passed_time": 12.04337489,
            "remaining_time": 9.08535299,
            "test": [
             607.5186506
            ]
           },
           {
            "iteration": 741,
            "learn": [
             161.2590244
            ],
            "passed_time": 12.0519068,
            "remaining_time": 9.063293791,
            "test": [
             607.3800253
            ]
           },
           {
            "iteration": 742,
            "learn": [
             161.1291978
            ],
            "passed_time": 12.06211498,
            "remaining_time": 9.042527651,
            "test": [
             607.4421224
            ]
           },
           {
            "iteration": 743,
            "learn": [
             161.0654467
            ],
            "passed_time": 12.07008163,
            "remaining_time": 9.02011477,
            "test": [
             607.4891045
            ]
           },
           {
            "iteration": 744,
            "learn": [
             161.0515671
            ],
            "passed_time": 12.07740816,
            "remaining_time": 8.997263801,
            "test": [
             607.5014494
            ]
           },
           {
            "iteration": 745,
            "learn": [
             160.9812409
            ],
            "passed_time": 12.08453787,
            "remaining_time": 8.974308287,
            "test": [
             607.5215795
            ]
           },
           {
            "iteration": 746,
            "learn": [
             160.7342725
            ],
            "passed_time": 12.09447549,
            "remaining_time": 8.953473826,
            "test": [
             607.2725957
            ]
           },
           {
            "iteration": 747,
            "learn": [
             160.6027249
            ],
            "passed_time": 12.10391394,
            "remaining_time": 8.93230013,
            "test": [
             607.3680163
            ]
           },
           {
            "iteration": 748,
            "learn": [
             160.5614574
            ],
            "passed_time": 12.11180401,
            "remaining_time": 8.910018702,
            "test": [
             607.342498
            ]
           },
           {
            "iteration": 749,
            "learn": [
             160.5270786
            ],
            "passed_time": 12.1193107,
            "remaining_time": 8.887494515,
            "test": [
             607.3406145
            ]
           },
           {
            "iteration": 750,
            "learn": [
             160.5032097
            ],
            "passed_time": 12.12710607,
            "remaining_time": 8.865221347,
            "test": [
             607.3338048
            ]
           },
           {
            "iteration": 751,
            "learn": [
             160.4613062
            ],
            "passed_time": 12.13686512,
            "remaining_time": 8.844417669,
            "test": [
             607.333412
            ]
           },
           {
            "iteration": 752,
            "learn": [
             160.4022048
            ],
            "passed_time": 12.14376091,
            "remaining_time": 8.821563372,
            "test": [
             607.285842
            ]
           },
           {
            "iteration": 753,
            "learn": [
             160.3808071
            ],
            "passed_time": 12.15110386,
            "remaining_time": 8.799075208,
            "test": [
             607.2843698
            ]
           },
           {
            "iteration": 754,
            "learn": [
             160.3122776
            ],
            "passed_time": 12.15785435,
            "remaining_time": 8.776199499,
            "test": [
             607.1963244
            ]
           },
           {
            "iteration": 755,
            "learn": [
             160.0667176
            ],
            "passed_time": 12.16469802,
            "remaining_time": 8.753433499,
            "test": [
             607.2625085
            ]
           },
           {
            "iteration": 756,
            "learn": [
             159.9564695
            ],
            "passed_time": 12.17151952,
            "remaining_time": 8.730693661,
            "test": [
             607.181883
            ]
           },
           {
            "iteration": 757,
            "learn": [
             159.8147765
            ],
            "passed_time": 12.17861096,
            "remaining_time": 8.708188842,
            "test": [
             607.181166
            ]
           },
           {
            "iteration": 758,
            "learn": [
             159.762739
            ],
            "passed_time": 12.18538974,
            "remaining_time": 8.685501779,
            "test": [
             607.168627
            ]
           },
           {
            "iteration": 759,
            "learn": [
             159.5868836
            ],
            "passed_time": 12.19284512,
            "remaining_time": 8.663337321,
            "test": [
             607.2918549
            ]
           },
           {
            "iteration": 760,
            "learn": [
             159.5556031
            ],
            "passed_time": 12.2029415,
            "remaining_time": 8.643082085,
            "test": [
             607.2896507
            ]
           },
           {
            "iteration": 761,
            "learn": [
             159.4345767
            ],
            "passed_time": 12.21049675,
            "remaining_time": 8.621059383,
            "test": [
             607.2900347
            ]
           },
           {
            "iteration": 762,
            "learn": [
             159.3832431
            ],
            "passed_time": 12.21779854,
            "remaining_time": 8.598896217,
            "test": [
             607.2849636
            ]
           },
           {
            "iteration": 763,
            "learn": [
             158.3749507
            ],
            "passed_time": 12.22967307,
            "remaining_time": 8.579980061,
            "test": [
             606.9213972
            ]
           },
           {
            "iteration": 764,
            "learn": [
             158.3574856
            ],
            "passed_time": 12.24214015,
            "remaining_time": 8.561496708,
            "test": [
             606.8986862
            ]
           },
           {
            "iteration": 765,
            "learn": [
             158.3547248
            ],
            "passed_time": 12.25067177,
            "remaining_time": 8.540285542,
            "test": [
             606.8991726
            ]
           },
           {
            "iteration": 766,
            "learn": [
             158.3382393
            ],
            "passed_time": 12.25955058,
            "remaining_time": 8.519348709,
            "test": [
             606.9020594
            ]
           },
           {
            "iteration": 767,
            "learn": [
             158.3184941
            ],
            "passed_time": 12.26654478,
            "remaining_time": 8.49713779,
            "test": [
             606.9069746
            ]
           },
           {
            "iteration": 768,
            "learn": [
             158.1191608
            ],
            "passed_time": 12.27352534,
            "remaining_time": 8.474957029,
            "test": [
             607.2172637
            ]
           },
           {
            "iteration": 769,
            "learn": [
             158.0920375
            ],
            "passed_time": 12.28118338,
            "remaining_time": 8.453282067,
            "test": [
             607.2239495
            ]
           },
           {
            "iteration": 770,
            "learn": [
             158.0539886
            ],
            "passed_time": 12.28860333,
            "remaining_time": 8.431480104,
            "test": [
             607.1761606
            ]
           },
           {
            "iteration": 771,
            "learn": [
             157.8799697
            ],
            "passed_time": 12.29659562,
            "remaining_time": 8.410106849,
            "test": [
             607.2830432
            ]
           },
           {
            "iteration": 772,
            "learn": [
             157.3552503
            ],
            "passed_time": 12.30404498,
            "remaining_time": 8.388398065,
            "test": [
             607.1896217
            ]
           },
           {
            "iteration": 773,
            "learn": [
             157.0146669
            ],
            "passed_time": 12.31100633,
            "remaining_time": 8.366394483,
            "test": [
             607.1344605
            ]
           },
           {
            "iteration": 774,
            "learn": [
             156.9808943
            ],
            "passed_time": 12.31775235,
            "remaining_time": 8.34428385,
            "test": [
             607.1323247
            ]
           },
           {
            "iteration": 775,
            "learn": [
             156.73019
            ],
            "passed_time": 12.32590343,
            "remaining_time": 8.323161596,
            "test": [
             607.1556028
            ]
           },
           {
            "iteration": 776,
            "learn": [
             156.7188414
            ],
            "passed_time": 12.33297816,
            "remaining_time": 8.301348235,
            "test": [
             607.1532907
            ]
           },
           {
            "iteration": 777,
            "learn": [
             156.6825753
            ],
            "passed_time": 12.33975663,
            "remaining_time": 8.279373989,
            "test": [
             607.1550559
            ]
           },
           {
            "iteration": 778,
            "learn": [
             156.6050301
            ],
            "passed_time": 12.34750415,
            "remaining_time": 8.258086855,
            "test": [
             607.1243751
            ]
           },
           {
            "iteration": 779,
            "learn": [
             156.5679966
            ],
            "passed_time": 12.35586009,
            "remaining_time": 8.237240059,
            "test": [
             607.1471416
            ]
           },
           {
            "iteration": 780,
            "learn": [
             156.5498518
            ],
            "passed_time": 12.37430819,
            "remaining_time": 8.223131818,
            "test": [
             607.1532402
            ]
           },
           {
            "iteration": 781,
            "learn": [
             156.51542
            ],
            "passed_time": 12.38756949,
            "remaining_time": 8.20557672,
            "test": [
             607.1531601
            ]
           },
           {
            "iteration": 782,
            "learn": [
             156.4836619
            ],
            "passed_time": 12.39893757,
            "remaining_time": 8.186782533,
            "test": [
             607.1342879
            ]
           },
           {
            "iteration": 783,
            "learn": [
             156.3694973
            ],
            "passed_time": 12.40689096,
            "remaining_time": 8.165759866,
            "test": [
             607.1196951
            ]
           },
           {
            "iteration": 784,
            "learn": [
             156.320351
            ],
            "passed_time": 12.41493992,
            "remaining_time": 8.144833194,
            "test": [
             607.1389424
            ]
           },
           {
            "iteration": 785,
            "learn": [
             156.2063603
            ],
            "passed_time": 12.42216741,
            "remaining_time": 8.123402097,
            "test": [
             607.0356035
            ]
           },
           {
            "iteration": 786,
            "learn": [
             156.1289084
            ],
            "passed_time": 12.42928398,
            "remaining_time": 8.101934796,
            "test": [
             606.8373442
            ]
           },
           {
            "iteration": 787,
            "learn": [
             156.0935706
            ],
            "passed_time": 12.43793709,
            "remaining_time": 8.081502275,
            "test": [
             606.847708
            ]
           },
           {
            "iteration": 788,
            "learn": [
             156.0365674
            ],
            "passed_time": 12.44539867,
            "remaining_time": 8.060327908,
            "test": [
             606.8219626
            ]
           },
           {
            "iteration": 789,
            "learn": [
             155.9990825
            ],
            "passed_time": 12.45347933,
            "remaining_time": 8.03958792,
            "test": [
             606.7670024
            ]
           },
           {
            "iteration": 790,
            "learn": [
             155.9726902
            ],
            "passed_time": 12.46096187,
            "remaining_time": 8.018495061,
            "test": [
             606.7865251
            ]
           },
           {
            "iteration": 791,
            "learn": [
             155.8913794
            ],
            "passed_time": 12.46792509,
            "remaining_time": 7.997103468,
            "test": [
             607.0165571
            ]
           },
           {
            "iteration": 792,
            "learn": [
             155.6444788
            ],
            "passed_time": 12.47544855,
            "remaining_time": 7.97610645,
            "test": [
             607.2448507
            ]
           },
           {
            "iteration": 793,
            "learn": [
             155.4946388
            ],
            "passed_time": 12.4825767,
            "remaining_time": 7.954891447,
            "test": [
             607.2108414
            ]
           },
           {
            "iteration": 794,
            "learn": [
             155.4433766
            ],
            "passed_time": 12.49032247,
            "remaining_time": 7.934104211,
            "test": [
             607.1445754
            ]
           },
           {
            "iteration": 795,
            "learn": [
             155.1818909
            ],
            "passed_time": 12.49791133,
            "remaining_time": 7.913250392,
            "test": [
             607.1535008
            ]
           },
           {
            "iteration": 796,
            "learn": [
             155.0870437
            ],
            "passed_time": 12.53725018,
            "remaining_time": 7.912467807,
            "test": [
             607.1470602
            ]
           },
           {
            "iteration": 797,
            "learn": [
             154.8673423
            ],
            "passed_time": 12.55155486,
            "remaining_time": 7.895840275,
            "test": [
             607.111959
            ]
           },
           {
            "iteration": 798,
            "learn": [
             154.8577929
            ],
            "passed_time": 12.55971044,
            "remaining_time": 7.875362864,
            "test": [
             607.1083199
            ]
           },
           {
            "iteration": 799,
            "learn": [
             154.4090431
            ],
            "passed_time": 12.57080058,
            "remaining_time": 7.856750365,
            "test": [
             607.2786012
            ]
           },
           {
            "iteration": 800,
            "learn": [
             154.3693913
            ],
            "passed_time": 12.58320395,
            "remaining_time": 7.838974747,
            "test": [
             607.2613694
            ]
           },
           {
            "iteration": 801,
            "learn": [
             154.3414374
            ],
            "passed_time": 12.59116775,
            "remaining_time": 7.818455786,
            "test": [
             607.2914597
            ]
           },
           {
            "iteration": 802,
            "learn": [
             153.8794049
            ],
            "passed_time": 12.59894093,
            "remaining_time": 7.797850115,
            "test": [
             607.592373
            ]
           },
           {
            "iteration": 803,
            "learn": [
             153.8137045
            ],
            "passed_time": 12.60593917,
            "remaining_time": 7.776798293,
            "test": [
             607.618988
            ]
           },
           {
            "iteration": 804,
            "learn": [
             153.788291
            ],
            "passed_time": 12.61356268,
            "remaining_time": 7.756165871,
            "test": [
             607.8264918
            ]
           },
           {
            "iteration": 805,
            "learn": [
             153.7199555
            ],
            "passed_time": 12.62054412,
            "remaining_time": 7.735172205,
            "test": [
             607.9072545
            ]
           },
           {
            "iteration": 806,
            "learn": [
             153.6447087
            ],
            "passed_time": 12.62770829,
            "remaining_time": 7.714324891,
            "test": [
             607.8946189
            ]
           },
           {
            "iteration": 807,
            "learn": [
             153.594877
            ],
            "passed_time": 12.63449567,
            "remaining_time": 7.693282015,
            "test": [
             607.9217597
            ]
           },
           {
            "iteration": 808,
            "learn": [
             153.4284809
            ],
            "passed_time": 12.6422579,
            "remaining_time": 7.672866046,
            "test": [
             607.7482936
            ]
           },
           {
            "iteration": 809,
            "learn": [
             153.4070836
            ],
            "passed_time": 12.64948195,
            "remaining_time": 7.652155746,
            "test": [
             607.693483
            ]
           },
           {
            "iteration": 810,
            "learn": [
             153.292219
            ],
            "passed_time": 12.65675778,
            "remaining_time": 7.631509934,
            "test": [
             607.7179589
            ]
           },
           {
            "iteration": 811,
            "learn": [
             153.2485491
            ],
            "passed_time": 12.66376313,
            "remaining_time": 7.610734491,
            "test": [
             607.7225322
            ]
           },
           {
            "iteration": 812,
            "learn": [
             153.1777644
            ],
            "passed_time": 12.6709818,
            "remaining_time": 7.59012071,
            "test": [
             607.5287373
            ]
           },
           {
            "iteration": 813,
            "learn": [
             153.0635686
            ],
            "passed_time": 12.67817294,
            "remaining_time": 7.569523403,
            "test": [
             607.3399071
            ]
           },
           {
            "iteration": 814,
            "learn": [
             152.7910395
            ],
            "passed_time": 12.68556324,
            "remaining_time": 7.549077512,
            "test": [
             607.4856272
            ]
           },
           {
            "iteration": 815,
            "learn": [
             152.7655831
            ],
            "passed_time": 12.69361094,
            "remaining_time": 7.529053547,
            "test": [
             607.5103218
            ]
           },
           {
            "iteration": 816,
            "learn": [
             152.714597
            ],
            "passed_time": 12.7007967,
            "remaining_time": 7.508549332,
            "test": [
             607.6122357
            ]
           },
           {
            "iteration": 817,
            "learn": [
             152.5863026
            ],
            "passed_time": 12.7074463,
            "remaining_time": 7.487761755,
            "test": [
             607.6367134
            ]
           },
           {
            "iteration": 818,
            "learn": [
             152.533414
            ],
            "passed_time": 12.71455901,
            "remaining_time": 7.467280686,
            "test": [
             607.6123083
            ]
           },
           {
            "iteration": 819,
            "learn": [
             152.4019214
            ],
            "passed_time": 12.72133726,
            "remaining_time": 7.446636445,
            "test": [
             607.9896602
            ]
           },
           {
            "iteration": 820,
            "learn": [
             152.3974759
            ],
            "passed_time": 12.72994814,
            "remaining_time": 7.427095202,
            "test": [
             607.9905218
            ]
           },
           {
            "iteration": 821,
            "learn": [
             152.3666893
            ],
            "passed_time": 12.73716831,
            "remaining_time": 7.406771841,
            "test": [
             607.9919845
            ]
           },
           {
            "iteration": 822,
            "learn": [
             152.2690116
            ],
            "passed_time": 12.74423583,
            "remaining_time": 7.386391845,
            "test": [
             607.8112401
            ]
           },
           {
            "iteration": 823,
            "learn": [
             152.2613101
            ],
            "passed_time": 12.75157573,
            "remaining_time": 7.366201512,
            "test": [
             607.8093202
            ]
           },
           {
            "iteration": 824,
            "learn": [
             152.2446483
            ],
            "passed_time": 12.75849166,
            "remaining_time": 7.345798229,
            "test": [
             607.7968087
            ]
           },
           {
            "iteration": 825,
            "learn": [
             152.2371769
            ],
            "passed_time": 12.7654977,
            "remaining_time": 7.325479311,
            "test": [
             607.7965665
            ]
           },
           {
            "iteration": 826,
            "learn": [
             152.1300642
            ],
            "passed_time": 12.7724987,
            "remaining_time": 7.305189705,
            "test": [
             607.7932434
            ]
           },
           {
            "iteration": 827,
            "learn": [
             152.1239969
            ],
            "passed_time": 12.77943852,
            "remaining_time": 7.284897322,
            "test": [
             607.7861894
            ]
           },
           {
            "iteration": 828,
            "learn": [
             152.0763743
            ],
            "passed_time": 12.79182262,
            "remaining_time": 7.267730344,
            "test": [
             607.752876
            ]
           },
           {
            "iteration": 829,
            "learn": [
             152.0060182
            ],
            "passed_time": 12.79857429,
            "remaining_time": 7.24738544,
            "test": [
             607.832683
            ]
           },
           {
            "iteration": 830,
            "learn": [
             151.9620775
            ],
            "passed_time": 12.80556746,
            "remaining_time": 7.227209555,
            "test": [
             607.8520416
            ]
           },
           {
            "iteration": 831,
            "learn": [
             151.908489
            ],
            "passed_time": 12.81299807,
            "remaining_time": 7.207311416,
            "test": [
             607.8751754
            ]
           },
           {
            "iteration": 832,
            "learn": [
             151.8474231
            ],
            "passed_time": 12.82033168,
            "remaining_time": 7.187388828,
            "test": [
             607.6760645
            ]
           },
           {
            "iteration": 833,
            "learn": [
             151.8133891
            ],
            "passed_time": 12.82712327,
            "remaining_time": 7.167193577,
            "test": [
             607.6724075
            ]
           },
           {
            "iteration": 834,
            "learn": [
             151.8027179
            ],
            "passed_time": 12.83402363,
            "remaining_time": 7.147091005,
            "test": [
             607.6624608
            ]
           },
           {
            "iteration": 835,
            "learn": [
             151.6208807
            ],
            "passed_time": 12.84174835,
            "remaining_time": 7.127477555,
            "test": [
             607.6440787
            ]
           },
           {
            "iteration": 836,
            "learn": [
             151.6064593
            ],
            "passed_time": 12.85043852,
            "remaining_time": 7.108426563,
            "test": [
             607.6651829
            ]
           },
           {
            "iteration": 837,
            "learn": [
             151.5961887
            ],
            "passed_time": 12.8577562,
            "remaining_time": 7.08864363,
            "test": [
             607.6653878
            ]
           },
           {
            "iteration": 838,
            "learn": [
             151.5555638
            ],
            "passed_time": 12.86492544,
            "remaining_time": 7.068808854,
            "test": [
             607.6672137
            ]
           },
           {
            "iteration": 839,
            "learn": [
             151.3968349
            ],
            "passed_time": 12.87212913,
            "remaining_time": 7.049023097,
            "test": [
             607.6206334
            ]
           },
           {
            "iteration": 840,
            "learn": [
             151.3777646
            ],
            "passed_time": 12.87960214,
            "remaining_time": 7.029414246,
            "test": [
             607.6307205
            ]
           },
           {
            "iteration": 841,
            "learn": [
             151.3712053
            ],
            "passed_time": 12.88643375,
            "remaining_time": 7.009485339,
            "test": [
             607.6301737
            ]
           },
           {
            "iteration": 842,
            "learn": [
             151.2665835
            ],
            "passed_time": 12.89377353,
            "remaining_time": 6.989862991,
            "test": [
             607.4606601
            ]
           },
           {
            "iteration": 843,
            "learn": [
             151.2307748
            ],
            "passed_time": 12.90360574,
            "remaining_time": 6.971616373,
            "test": [
             607.4621513
            ]
           },
           {
            "iteration": 844,
            "learn": [
             151.226761
            ],
            "passed_time": 12.91272523,
            "remaining_time": 6.953005894,
            "test": [
             607.4597225
            ]
           },
           {
            "iteration": 845,
            "learn": [
             151.1777627
            ],
            "passed_time": 12.92049044,
            "remaining_time": 6.93369109,
            "test": [
             607.4634377
            ]
           },
           {
            "iteration": 846,
            "learn": [
             150.7553365
            ],
            "passed_time": 12.9278735,
            "remaining_time": 6.914199168,
            "test": [
             607.7156357
            ]
           },
           {
            "iteration": 847,
            "learn": [
             150.6778356
            ],
            "passed_time": 12.93617623,
            "remaining_time": 6.895226007,
            "test": [
             607.7237269
            ]
           },
           {
            "iteration": 848,
            "learn": [
             150.5967353
            ],
            "passed_time": 12.94348763,
            "remaining_time": 6.875751377,
            "test": [
             607.6156378
            ]
           },
           {
            "iteration": 849,
            "learn": [
             150.568149
            ],
            "passed_time": 12.95018677,
            "remaining_time": 6.85598123,
            "test": [
             607.6648213
            ]
           },
           {
            "iteration": 850,
            "learn": [
             150.5440413
            ],
            "passed_time": 12.95717269,
            "remaining_time": 6.836393113,
            "test": [
             607.6749215
            ]
           },
           {
            "iteration": 851,
            "learn": [
             150.4751656
            ],
            "passed_time": 12.96399083,
            "remaining_time": 6.816746352,
            "test": [
             607.7935783
            ]
           },
           {
            "iteration": 852,
            "learn": [
             150.4432164
            ],
            "passed_time": 12.97216755,
            "remaining_time": 6.797841613,
            "test": [
             607.7795764
            ]
           },
           {
            "iteration": 853,
            "learn": [
             150.4293614
            ],
            "passed_time": 12.97901377,
            "remaining_time": 6.778267146,
            "test": [
             607.7847017
            ]
           },
           {
            "iteration": 854,
            "learn": [
             150.3484379
            ],
            "passed_time": 12.98660609,
            "remaining_time": 6.759110773,
            "test": [
             607.7516398
            ]
           },
           {
            "iteration": 855,
            "learn": [
             150.2920737
            ],
            "passed_time": 12.99354144,
            "remaining_time": 6.739640652,
            "test": [
             607.6792309
            ]
           },
           {
            "iteration": 856,
            "learn": [
             150.2555382
            ],
            "passed_time": 13.00080046,
            "remaining_time": 6.7203671,
            "test": [
             607.7093951
            ]
           },
           {
            "iteration": 857,
            "learn": [
             150.0450213
            ],
            "passed_time": 13.00887943,
            "remaining_time": 6.701543951,
            "test": [
             607.6423633
            ]
           },
           {
            "iteration": 858,
            "learn": [
             149.9489695
            ],
            "passed_time": 13.01687854,
            "remaining_time": 6.682704816,
            "test": [
             607.6766871
            ]
           },
           {
            "iteration": 859,
            "learn": [
             149.9362676
            ],
            "passed_time": 13.023671,
            "remaining_time": 6.663273534,
            "test": [
             607.6850849
            ]
           },
           {
            "iteration": 860,
            "learn": [
             149.9205784
            ],
            "passed_time": 13.03029978,
            "remaining_time": 6.643788159,
            "test": [
             607.7060719
            ]
           },
           {
            "iteration": 861,
            "learn": [
             149.8944192
            ],
            "passed_time": 13.03729872,
            "remaining_time": 6.624520693,
            "test": [
             607.4943061
            ]
           },
           {
            "iteration": 862,
            "learn": [
             149.766194
            ],
            "passed_time": 13.04518597,
            "remaining_time": 6.605731483,
            "test": [
             607.5000949
            ]
           },
           {
            "iteration": 863,
            "learn": [
             149.715802
            ],
            "passed_time": 13.05222621,
            "remaining_time": 6.586540077,
            "test": [
             607.4442528
            ]
           },
           {
            "iteration": 864,
            "learn": [
             149.6076252
            ],
            "passed_time": 13.05917571,
            "remaining_time": 6.567331137,
            "test": [
             607.5371647
            ]
           },
           {
            "iteration": 865,
            "learn": [
             149.5130851
            ],
            "passed_time": 13.06622826,
            "remaining_time": 6.548202155,
            "test": [
             607.4727002
            ]
           },
           {
            "iteration": 866,
            "learn": [
             149.4714756
            ],
            "passed_time": 13.07371461,
            "remaining_time": 6.529317678,
            "test": [
             607.4839404
            ]
           },
           {
            "iteration": 867,
            "learn": [
             149.4467022
            ],
            "passed_time": 13.08077361,
            "remaining_time": 6.510246773,
            "test": [
             607.4834384
            ]
           },
           {
            "iteration": 868,
            "learn": [
             149.0843469
            ],
            "passed_time": 13.08843283,
            "remaining_time": 6.491501206,
            "test": [
             607.2921631
            ]
           },
           {
            "iteration": 869,
            "learn": [
             149.0087971
            ],
            "passed_time": 13.09546478,
            "remaining_time": 6.4724711,
            "test": [
             607.3025618
            ]
           },
           {
            "iteration": 870,
            "learn": [
             148.8653556
            ],
            "passed_time": 13.10261635,
            "remaining_time": 6.453527456,
            "test": [
             607.316164
            ]
           },
           {
            "iteration": 871,
            "learn": [
             148.7334879
            ],
            "passed_time": 13.10936358,
            "remaining_time": 6.4344124,
            "test": [
             607.1595433
            ]
           },
           {
            "iteration": 872,
            "learn": [
             148.6765153
            ],
            "passed_time": 13.11615315,
            "remaining_time": 6.415346386,
            "test": [
             607.1559819
            ]
           },
           {
            "iteration": 873,
            "learn": [
             148.5639849
            ],
            "passed_time": 13.12345019,
            "remaining_time": 6.396555815,
            "test": [
             607.2010103
            ]
           },
           {
            "iteration": 874,
            "learn": [
             148.4841294
            ],
            "passed_time": 13.13083043,
            "remaining_time": 6.377831924,
            "test": [
             607.1047415
            ]
           },
           {
            "iteration": 875,
            "learn": [
             148.4541703
            ],
            "passed_time": 13.13763814,
            "remaining_time": 6.358856816,
            "test": [
             607.09711
            ]
           },
           {
            "iteration": 876,
            "learn": [
             148.3761871
            ],
            "passed_time": 13.1448892,
            "remaining_time": 6.340123297,
            "test": [
             607.05814
            ]
           },
           {
            "iteration": 877,
            "learn": [
             148.2894719
            ],
            "passed_time": 13.15261834,
            "remaining_time": 6.321645715,
            "test": [
             606.9585127
            ]
           },
           {
            "iteration": 878,
            "learn": [
             148.278546
            ],
            "passed_time": 13.15998341,
            "remaining_time": 6.30301822,
            "test": [
             606.956304
            ]
           },
           {
            "iteration": 879,
            "learn": [
             148.2667071
            ],
            "passed_time": 13.17070546,
            "remaining_time": 6.286018513,
            "test": [
             606.9692471
            ]
           },
           {
            "iteration": 880,
            "learn": [
             148.2529631
            ],
            "passed_time": 13.18102618,
            "remaining_time": 6.26884219,
            "test": [
             606.9639367
            ]
           },
           {
            "iteration": 881,
            "learn": [
             148.1776894
            ],
            "passed_time": 13.1886866,
            "remaining_time": 6.250420635,
            "test": [
             606.9475978
            ]
           },
           {
            "iteration": 882,
            "learn": [
             148.1168827
            ],
            "passed_time": 13.19610246,
            "remaining_time": 6.231907956,
            "test": [
             606.9474134
            ]
           },
           {
            "iteration": 883,
            "learn": [
             148.1103997
            ],
            "passed_time": 13.20812584,
            "remaining_time": 6.215588629,
            "test": [
             606.9740187
            ]
           },
           {
            "iteration": 884,
            "learn": [
             148.1068189
            ],
            "passed_time": 13.21807445,
            "remaining_time": 6.198306098,
            "test": [
             606.9763545
            ]
           },
           {
            "iteration": 885,
            "learn": [
             147.9490482
            ],
            "passed_time": 13.22704054,
            "remaining_time": 6.180581018,
            "test": [
             606.9492053
            ]
           },
           {
            "iteration": 886,
            "learn": [
             147.784664
            ],
            "passed_time": 13.23631051,
            "remaining_time": 6.163017182,
            "test": [
             607.0881128
            ]
           },
           {
            "iteration": 887,
            "learn": [
             147.7524021
            ],
            "passed_time": 13.24502129,
            "remaining_time": 6.145212581,
            "test": [
             607.0549149
            ]
           },
           {
            "iteration": 888,
            "learn": [
             147.7130579
            ],
            "passed_time": 13.25421319,
            "remaining_time": 6.127650868,
            "test": [
             607.059009
            ]
           },
           {
            "iteration": 889,
            "learn": [
             147.7013791
            ],
            "passed_time": 13.26219423,
            "remaining_time": 6.109550152,
            "test": [
             607.0775373
            ]
           },
           {
            "iteration": 890,
            "learn": [
             147.6887122
            ],
            "passed_time": 13.26969728,
            "remaining_time": 6.091252735,
            "test": [
             607.0815681
            ]
           },
           {
            "iteration": 891,
            "learn": [
             147.5900006
            ],
            "passed_time": 13.27716472,
            "remaining_time": 6.072963234,
            "test": [
             607.0185222
            ]
           },
           {
            "iteration": 892,
            "learn": [
             147.5803948
            ],
            "passed_time": 13.28415877,
            "remaining_time": 6.054482215,
            "test": [
             607.0338074
            ]
           },
           {
            "iteration": 893,
            "learn": [
             147.5715283
            ],
            "passed_time": 13.29129378,
            "remaining_time": 6.03609091,
            "test": [
             607.0274431
            ]
           },
           {
            "iteration": 894,
            "learn": [
             147.5049044
            ],
            "passed_time": 13.29816007,
            "remaining_time": 6.017603158,
            "test": [
             607.0404797
            ]
           },
           {
            "iteration": 895,
            "learn": [
             147.3873954
            ],
            "passed_time": 13.30509256,
            "remaining_time": 5.999171197,
            "test": [
             607.0555015
            ]
           },
           {
            "iteration": 896,
            "learn": [
             147.3480267
            ],
            "passed_time": 13.31231599,
            "remaining_time": 5.98089559,
            "test": [
             607.064425
            ]
           },
           {
            "iteration": 897,
            "learn": [
             146.9120042
            ],
            "passed_time": 13.31963061,
            "remaining_time": 5.962685419,
            "test": [
             607.2628716
            ]
           },
           {
            "iteration": 898,
            "learn": [
             146.9005188
            ],
            "passed_time": 13.32665544,
            "remaining_time": 5.944370224,
            "test": [
             607.2573559
            ]
           },
           {
            "iteration": 899,
            "learn": [
             146.8907804
            ],
            "passed_time": 13.33463775,
            "remaining_time": 5.926505667,
            "test": [
             607.2594864
            ]
           },
           {
            "iteration": 900,
            "learn": [
             146.8575895
            ],
            "passed_time": 13.34187681,
            "remaining_time": 5.908333906,
            "test": [
             607.2196097
            ]
           },
           {
            "iteration": 901,
            "learn": [
             146.8370083
            ],
            "passed_time": 13.3499818,
            "remaining_time": 5.890568468,
            "test": [
             607.2139942
            ]
           },
           {
            "iteration": 902,
            "learn": [
             146.6902023
            ],
            "passed_time": 13.35700176,
            "remaining_time": 5.872347395,
            "test": [
             607.4072617
            ]
           },
           {
            "iteration": 903,
            "learn": [
             146.6554516
            ],
            "passed_time": 13.36395987,
            "remaining_time": 5.854124013,
            "test": [
             607.3947099
            ]
           },
           {
            "iteration": 904,
            "learn": [
             146.5890003
            ],
            "passed_time": 13.37742434,
            "remaining_time": 5.83876532,
            "test": [
             607.3744939
            ]
           },
           {
            "iteration": 905,
            "learn": [
             146.3777416
            ],
            "passed_time": 13.38867374,
            "remaining_time": 5.822447519,
            "test": [
             607.3663771
            ]
           },
           {
            "iteration": 906,
            "learn": [
             146.3267327
            ],
            "passed_time": 13.3980584,
            "remaining_time": 5.805332914,
            "test": [
             607.3999148
            ]
           },
           {
            "iteration": 907,
            "learn": [
             146.1152962
            ],
            "passed_time": 13.4085151,
            "remaining_time": 5.788698149,
            "test": [
             607.4220051
            ]
           },
           {
            "iteration": 908,
            "learn": [
             146.0943884
            ],
            "passed_time": 13.41872229,
            "remaining_time": 5.771969652,
            "test": [
             607.4022849
            ]
           },
           {
            "iteration": 909,
            "learn": [
             145.9280574
            ],
            "passed_time": 13.42751202,
            "remaining_time": 5.75464801,
            "test": [
             607.5492541
            ]
           },
           {
            "iteration": 910,
            "learn": [
             145.8634189
            ],
            "passed_time": 13.4353507,
            "remaining_time": 5.736938992,
            "test": [
             607.5829548
            ]
           },
           {
            "iteration": 911,
            "learn": [
             145.8165151
            ],
            "passed_time": 13.44382204,
            "remaining_time": 5.719520779,
            "test": [
             607.4494898
            ]
           },
           {
            "iteration": 912,
            "learn": [
             145.8027183
            ],
            "passed_time": 13.45083423,
            "remaining_time": 5.701503667,
            "test": [
             607.4195456
            ]
           },
           {
            "iteration": 913,
            "learn": [
             145.7856578
            ],
            "passed_time": 13.4581316,
            "remaining_time": 5.683631068,
            "test": [
             607.4151644
            ]
           },
           {
            "iteration": 914,
            "learn": [
             145.721337
            ],
            "passed_time": 13.46504503,
            "remaining_time": 5.665620039,
            "test": [
             607.4020281
            ]
           },
           {
            "iteration": 915,
            "learn": [
             145.665042
            ],
            "passed_time": 13.47184712,
            "remaining_time": 5.647586567,
            "test": [
             607.390552
            ]
           },
           {
            "iteration": 916,
            "learn": [
             145.486908
            ],
            "passed_time": 13.47876972,
            "remaining_time": 5.629627921,
            "test": [
             607.3939714
            ]
           },
           {
            "iteration": 917,
            "learn": [
             145.4662143
            ],
            "passed_time": 13.48604098,
            "remaining_time": 5.611838404,
            "test": [
             607.3942552
            ]
           },
           {
            "iteration": 918,
            "learn": [
             145.4600132
            ],
            "passed_time": 13.49315649,
            "remaining_time": 5.594007205,
            "test": [
             607.4202798
            ]
           },
           {
            "iteration": 919,
            "learn": [
             145.4463026
            ],
            "passed_time": 13.50153703,
            "remaining_time": 5.576721819,
            "test": [
             607.4339663
            ]
           },
           {
            "iteration": 920,
            "learn": [
             145.2501091
            ],
            "passed_time": 13.54266958,
            "remaining_time": 5.57293352,
            "test": [
             607.2638211
            ]
           },
           {
            "iteration": 921,
            "learn": [
             145.1902512
            ],
            "passed_time": 13.55272162,
            "remaining_time": 5.556321878,
            "test": [
             607.2603181
            ]
           },
           {
            "iteration": 922,
            "learn": [
             145.1394646
            ],
            "passed_time": 13.56925216,
            "remaining_time": 5.542370602,
            "test": [
             607.2803472
            ]
           },
           {
            "iteration": 923,
            "learn": [
             145.0941263
            ],
            "passed_time": 13.58252248,
            "remaining_time": 5.527087069,
            "test": [
             607.3013863
            ]
           },
           {
            "iteration": 924,
            "learn": [
             144.2958249
            ],
            "passed_time": 13.59154664,
            "remaining_time": 5.510086476,
            "test": [
             606.9686167
            ]
           },
           {
            "iteration": 925,
            "learn": [
             144.163194
            ],
            "passed_time": 13.6006317,
            "remaining_time": 5.493127707,
            "test": [
             607.0379564
            ]
           },
           {
            "iteration": 926,
            "learn": [
             144.1093851
            ],
            "passed_time": 13.60747588,
            "remaining_time": 5.475284255,
            "test": [
             607.0661793
            ]
           },
           {
            "iteration": 927,
            "learn": [
             143.7589044
            ],
            "passed_time": 13.61530848,
            "remaining_time": 5.457860728,
            "test": [
             607.0627531
            ]
           },
           {
            "iteration": 928,
            "learn": [
             143.736176
            ],
            "passed_time": 13.62213584,
            "remaining_time": 5.440056402,
            "test": [
             607.0608846
            ]
           },
           {
            "iteration": 929,
            "learn": [
             143.7118615
            ],
            "passed_time": 13.62896835,
            "remaining_time": 5.42227773,
            "test": [
             607.0223596
            ]
           },
           {
            "iteration": 930,
            "learn": [
             143.7029172
            ],
            "passed_time": 13.63595067,
            "remaining_time": 5.404581952,
            "test": [
             607.0237798
            ]
           },
           {
            "iteration": 931,
            "learn": [
             143.6820833
            ],
            "passed_time": 13.64254995,
            "remaining_time": 5.386757922,
            "test": [
             607.0242692
            ]
           },
           {
            "iteration": 932,
            "learn": [
             143.6174201
            ],
            "passed_time": 13.64926848,
            "remaining_time": 5.369004858,
            "test": [
             607.0640529
            ]
           },
           {
            "iteration": 933,
            "learn": [
             143.5976332
            ],
            "passed_time": 13.65688295,
            "remaining_time": 5.351626509,
            "test": [
             607.0506548
            ]
           },
           {
            "iteration": 934,
            "learn": [
             143.5584071
            ],
            "passed_time": 13.66401413,
            "remaining_time": 5.334080381,
            "test": [
             607.0493168
            ]
           },
           {
            "iteration": 935,
            "learn": [
             143.5516058
            ],
            "passed_time": 13.67159046,
            "remaining_time": 5.316729624,
            "test": [
             607.0486599
            ]
           },
           {
            "iteration": 936,
            "learn": [
             143.5448504
            ],
            "passed_time": 13.6783384,
            "remaining_time": 5.299078804,
            "test": [
             607.0497645
            ]
           },
           {
            "iteration": 937,
            "learn": [
             143.4051903
            ],
            "passed_time": 13.68500873,
            "remaining_time": 5.281421278,
            "test": [
             607.5514958
            ]
           },
           {
            "iteration": 938,
            "learn": [
             143.4001197
            ],
            "passed_time": 13.69201282,
            "remaining_time": 5.26391547,
            "test": [
             607.5128453
            ]
           },
           {
            "iteration": 939,
            "learn": [
             143.3094556
            ],
            "passed_time": 13.69958505,
            "remaining_time": 5.246649593,
            "test": [
             607.4739601
            ]
           },
           {
            "iteration": 940,
            "learn": [
             143.1622287
            ],
            "passed_time": 13.70732334,
            "remaining_time": 5.229467672,
            "test": [
             607.4769938
            ]
           },
           {
            "iteration": 941,
            "learn": [
             143.1004395
            ],
            "passed_time": 13.71455612,
            "remaining_time": 5.212113686,
            "test": [
             607.4776468
            ]
           },
           {
            "iteration": 942,
            "learn": [
             143.0756744
            ],
            "passed_time": 13.72156476,
            "remaining_time": 5.194696308,
            "test": [
             607.4854926
            ]
           },
           {
            "iteration": 943,
            "learn": [
             143.0165208
            ],
            "passed_time": 13.72905812,
            "remaining_time": 5.177483784,
            "test": [
             607.5345797
            ]
           },
           {
            "iteration": 944,
            "learn": [
             143.0071147
            ],
            "passed_time": 13.73716686,
            "remaining_time": 5.160523002,
            "test": [
             607.5512339
            ]
           },
           {
            "iteration": 945,
            "learn": [
             142.9912936
            ],
            "passed_time": 13.74581881,
            "remaining_time": 5.143784206,
            "test": [
             607.5419956
            ]
           },
           {
            "iteration": 946,
            "learn": [
             142.9717261
            ],
            "passed_time": 13.75262199,
            "remaining_time": 5.12637335,
            "test": [
             607.5630006
            ]
           },
           {
            "iteration": 947,
            "learn": [
             142.951157
            ],
            "passed_time": 13.75987467,
            "remaining_time": 5.109151775,
            "test": [
             607.5626711
            ]
           },
           {
            "iteration": 948,
            "learn": [
             142.7121198
            ],
            "passed_time": 13.76916207,
            "remaining_time": 5.092703779,
            "test": [
             607.6285051
            ]
           },
           {
            "iteration": 949,
            "learn": [
             142.7095766
            ],
            "passed_time": 13.77844288,
            "remaining_time": 5.076268431,
            "test": [
             607.6229998
            ]
           },
           {
            "iteration": 950,
            "learn": [
             142.7036295
            ],
            "passed_time": 13.78593719,
            "remaining_time": 5.059192512,
            "test": [
             607.6112977
            ]
           },
           {
            "iteration": 951,
            "learn": [
             142.572669
            ],
            "passed_time": 13.79437974,
            "remaining_time": 5.042483352,
            "test": [
             608.061896
            ]
           },
           {
            "iteration": 952,
            "learn": [
             142.5086028
            ],
            "passed_time": 13.80193495,
            "remaining_time": 5.025468445,
            "test": [
             608.0780168
            ]
           },
           {
            "iteration": 953,
            "learn": [
             142.4105308
            ],
            "passed_time": 13.80992106,
            "remaining_time": 5.00862965,
            "test": [
             608.0304137
            ]
           },
           {
            "iteration": 954,
            "learn": [
             142.2156776
            ],
            "passed_time": 13.81795728,
            "remaining_time": 4.9918275,
            "test": [
             607.3307981
            ]
           },
           {
            "iteration": 955,
            "learn": [
             142.0538678
            ],
            "passed_time": 13.82678428,
            "remaining_time": 4.975328236,
            "test": [
             607.4870643
            ]
           },
           {
            "iteration": 956,
            "learn": [
             142.0366639
            ],
            "passed_time": 13.83414241,
            "remaining_time": 4.958318544,
            "test": [
             607.4872961
            ]
           },
           {
            "iteration": 957,
            "learn": [
             142.0271584
            ],
            "passed_time": 13.84191145,
            "remaining_time": 4.941475696,
            "test": [
             607.4693942
            ]
           },
           {
            "iteration": 958,
            "learn": [
             141.8050643
            ],
            "passed_time": 13.84966805,
            "remaining_time": 4.924647346,
            "test": [
             607.3331074
            ]
           },
           {
            "iteration": 959,
            "learn": [
             141.7945144
            ],
            "passed_time": 13.85863129,
            "remaining_time": 4.908265247,
            "test": [
             607.3365258
            ]
           },
           {
            "iteration": 960,
            "learn": [
             141.6641716
            ],
            "passed_time": 13.86633518,
            "remaining_time": 4.891454347,
            "test": [
             607.4264854
            ]
           },
           {
            "iteration": 961,
            "learn": [
             141.6111746
            ],
            "passed_time": 13.87472628,
            "remaining_time": 4.874903828,
            "test": [
             607.5132692
            ]
           },
           {
            "iteration": 962,
            "learn": [
             141.4970035
            ],
            "passed_time": 13.88350777,
            "remaining_time": 4.858506872,
            "test": [
             607.9173537
            ]
           },
           {
            "iteration": 963,
            "learn": [
             141.2961047
            ],
            "passed_time": 13.89173536,
            "remaining_time": 4.841932658,
            "test": [
             608.0980402
            ]
           },
           {
            "iteration": 964,
            "learn": [
             141.2833157
            ],
            "passed_time": 13.9014446,
            "remaining_time": 4.825890093,
            "test": [
             608.1123336
            ]
           },
           {
            "iteration": 965,
            "learn": [
             141.2733068
            ],
            "passed_time": 13.90840483,
            "remaining_time": 4.808910159,
            "test": [
             608.1276368
            ]
           },
           {
            "iteration": 966,
            "learn": [
             141.2229416
            ],
            "passed_time": 13.91847195,
            "remaining_time": 4.793020846,
            "test": [
             608.1455924
            ]
           },
           {
            "iteration": 967,
            "learn": [
             141.2141921
            ],
            "passed_time": 13.92776773,
            "remaining_time": 4.776879015,
            "test": [
             608.1460202
            ]
           },
           {
            "iteration": 968,
            "learn": [
             141.1814648
            ],
            "passed_time": 13.93459559,
            "remaining_time": 4.759908299,
            "test": [
             608.1975518
            ]
           },
           {
            "iteration": 969,
            "learn": [
             141.1723749
            ],
            "passed_time": 13.94128881,
            "remaining_time": 4.742912689,
            "test": [
             608.2124702
            ]
           },
           {
            "iteration": 970,
            "learn": [
             140.9029506
            ],
            "passed_time": 13.94823933,
            "remaining_time": 4.726025479,
            "test": [
             608.4164252
            ]
           },
           {
            "iteration": 971,
            "learn": [
             140.8914424
            ],
            "passed_time": 13.95568109,
            "remaining_time": 4.709324482,
            "test": [
             608.4037776
            ]
           },
           {
            "iteration": 972,
            "learn": [
             140.8838725
            ],
            "passed_time": 13.96245559,
            "remaining_time": 4.692418271,
            "test": [
             608.406263
            ]
           },
           {
            "iteration": 973,
            "learn": [
             140.7005414
            ],
            "passed_time": 13.96951135,
            "remaining_time": 4.675627003,
            "test": [
             609.1101886
            ]
           },
           {
            "iteration": 974,
            "learn": [
             140.6376981
            ],
            "passed_time": 13.97650794,
            "remaining_time": 4.658835981,
            "test": [
             609.1115039
            ]
           },
           {
            "iteration": 975,
            "learn": [
             140.6149021
            ],
            "passed_time": 13.98341768,
            "remaining_time": 4.642036196,
            "test": [
             609.1063882
            ]
           },
           {
            "iteration": 976,
            "learn": [
             140.6130606
            ],
            "passed_time": 13.99018598,
            "remaining_time": 4.6252099,
            "test": [
             609.1042625
            ]
           },
           {
            "iteration": 977,
            "learn": [
             140.4240676
            ],
            "passed_time": 13.99702842,
            "remaining_time": 4.608428581,
            "test": [
             609.0307219
            ]
           },
           {
            "iteration": 978,
            "learn": [
             140.3983839
            ],
            "passed_time": 14.00390561,
            "remaining_time": 4.591678958,
            "test": [
             609.031219
            ]
           },
           {
            "iteration": 979,
            "learn": [
             140.289639
            ],
            "passed_time": 14.01110316,
            "remaining_time": 4.575054093,
            "test": [
             608.8141588
            ]
           },
           {
            "iteration": 980,
            "learn": [
             140.1839534
            ],
            "passed_time": 14.01843596,
            "remaining_time": 4.558492427,
            "test": [
             608.7076349
            ]
           },
           {
            "iteration": 981,
            "learn": [
             140.1596589
            ],
            "passed_time": 14.02535116,
            "remaining_time": 4.541814327,
            "test": [
             608.7102302
            ]
           },
           {
            "iteration": 982,
            "learn": [
             140.1041356
            ],
            "passed_time": 14.03206237,
            "remaining_time": 4.525090305,
            "test": [
             608.6989978
            ]
           },
           {
            "iteration": 983,
            "learn": [
             140.0417108
            ],
            "passed_time": 14.03916314,
            "remaining_time": 4.50851174,
            "test": [
             608.8462054
            ]
           },
           {
            "iteration": 984,
            "learn": [
             139.9728788
            ],
            "passed_time": 14.04727158,
            "remaining_time": 4.492274667,
            "test": [
             608.8670411
            ]
           },
           {
            "iteration": 985,
            "learn": [
             139.8367849
            ],
            "passed_time": 14.05617074,
            "remaining_time": 4.476305893,
            "test": [
             608.9128377
            ]
           },
           {
            "iteration": 986,
            "learn": [
             139.7985092
            ],
            "passed_time": 14.06439339,
            "remaining_time": 4.460136912,
            "test": [
             608.9124132
            ]
           },
           {
            "iteration": 987,
            "learn": [
             139.755153
            ],
            "passed_time": 14.07231955,
            "remaining_time": 4.443890385,
            "test": [
             608.8738459
            ]
           },
           {
            "iteration": 988,
            "learn": [
             139.6895671
            ],
            "passed_time": 14.07986997,
            "remaining_time": 4.42754253,
            "test": [
             608.852218
            ]
           },
           {
            "iteration": 989,
            "learn": [
             139.5196498
            ],
            "passed_time": 14.09012184,
            "remaining_time": 4.412058353,
            "test": [
             608.7754711
            ]
           },
           {
            "iteration": 990,
            "learn": [
             139.4395294
            ],
            "passed_time": 14.09739185,
            "remaining_time": 4.395654976,
            "test": [
             608.8305326
            ]
           },
           {
            "iteration": 991,
            "learn": [
             139.3349361
            ],
            "passed_time": 14.10415954,
            "remaining_time": 4.379114051,
            "test": [
             608.9269143
            ]
           },
           {
            "iteration": 992,
            "learn": [
             139.1865398
            ],
            "passed_time": 14.11094613,
            "remaining_time": 4.362598652,
            "test": [
             608.8115868
            ]
           },
           {
            "iteration": 993,
            "learn": [
             139.1648243
            ],
            "passed_time": 14.11850531,
            "remaining_time": 4.346340668,
            "test": [
             608.8729284
            ]
           },
           {
            "iteration": 994,
            "learn": [
             139.1226715
            ],
            "passed_time": 14.12582202,
            "remaining_time": 4.330025846,
            "test": [
             608.9234509
            ]
           },
           {
            "iteration": 995,
            "learn": [
             138.9832162
            ],
            "passed_time": 14.13294783,
            "remaining_time": 4.313670824,
            "test": [
             608.7793097
            ]
           },
           {
            "iteration": 996,
            "learn": [
             138.9553966
            ],
            "passed_time": 14.13957244,
            "remaining_time": 4.297181997,
            "test": [
             608.7765108
            ]
           },
           {
            "iteration": 997,
            "learn": [
             138.7906396
            ],
            "passed_time": 14.14768102,
            "remaining_time": 4.281161991,
            "test": [
             608.8014358
            ]
           },
           {
            "iteration": 998,
            "learn": [
             138.7731264
            ],
            "passed_time": 14.15747975,
            "remaining_time": 4.265667071,
            "test": [
             608.7383997
            ]
           },
           {
            "iteration": 999,
            "learn": [
             138.71056
            ],
            "passed_time": 14.16596355,
            "remaining_time": 4.249789065,
            "test": [
             608.7024688
            ]
           },
           {
            "iteration": 1000,
            "learn": [
             138.4794753
            ],
            "passed_time": 14.1754317,
            "remaining_time": 4.234219857,
            "test": [
             608.590232
            ]
           },
           {
            "iteration": 1001,
            "learn": [
             138.4268665
            ],
            "passed_time": 14.18813597,
            "remaining_time": 4.219625269,
            "test": [
             608.5896352
            ]
           },
           {
            "iteration": 1002,
            "learn": [
             138.4089546
            ],
            "passed_time": 14.19989911,
            "remaining_time": 4.20475577,
            "test": [
             608.593621
            ]
           },
           {
            "iteration": 1003,
            "learn": [
             138.3989554
            ],
            "passed_time": 14.20831375,
            "remaining_time": 4.18890525,
            "test": [
             608.5960624
            ]
           },
           {
            "iteration": 1004,
            "learn": [
             138.3932663
            ],
            "passed_time": 14.21659516,
            "remaining_time": 4.173030419,
            "test": [
             608.604872
            ]
           },
           {
            "iteration": 1005,
            "learn": [
             138.3873712
            ],
            "passed_time": 14.22364159,
            "remaining_time": 4.156809768,
            "test": [
             608.601226
            ]
           },
           {
            "iteration": 1006,
            "learn": [
             138.2292888
            ],
            "passed_time": 14.23146807,
            "remaining_time": 4.140834305,
            "test": [
             608.4947937
            ]
           },
           {
            "iteration": 1007,
            "learn": [
             138.1892679
            ],
            "passed_time": 14.23841978,
            "remaining_time": 4.124621603,
            "test": [
             608.5439099
            ]
           },
           {
            "iteration": 1008,
            "learn": [
             138.050884
            ],
            "passed_time": 14.2451457,
            "remaining_time": 4.10836214,
            "test": [
             608.3855773
            ]
           },
           {
            "iteration": 1009,
            "learn": [
             138.030491
            ],
            "passed_time": 14.25219903,
            "remaining_time": 4.092215563,
            "test": [
             608.3865629
            ]
           },
           {
            "iteration": 1010,
            "learn": [
             137.8879332
            ],
            "passed_time": 14.25993822,
            "remaining_time": 4.076283034,
            "test": [
             608.4830358
            ]
           },
           {
            "iteration": 1011,
            "learn": [
             137.8256177
            ],
            "passed_time": 14.26809409,
            "remaining_time": 4.060485274,
            "test": [
             608.4292998
            ]
           },
           {
            "iteration": 1012,
            "learn": [
             137.6713727
            ],
            "passed_time": 14.27596649,
            "remaining_time": 4.044622294,
            "test": [
             608.858727
            ]
           },
           {
            "iteration": 1013,
            "learn": [
             137.6047337
            ],
            "passed_time": 14.28295918,
            "remaining_time": 4.028526949,
            "test": [
             608.8876304
            ]
           },
           {
            "iteration": 1014,
            "learn": [
             137.5014572
            ],
            "passed_time": 14.28979885,
            "remaining_time": 4.012406573,
            "test": [
             608.7788938
            ]
           },
           {
            "iteration": 1015,
            "learn": [
             137.4823766
            ],
            "passed_time": 14.29944205,
            "remaining_time": 3.997088131,
            "test": [
             608.7828713
            ]
           },
           {
            "iteration": 1016,
            "learn": [
             137.3913368
            ],
            "passed_time": 14.308383,
            "remaining_time": 3.981585436,
            "test": [
             608.766422
            ]
           },
           {
            "iteration": 1017,
            "learn": [
             137.3873977
            ],
            "passed_time": 14.31566584,
            "remaining_time": 3.965636312,
            "test": [
             608.7719732
            ]
           },
           {
            "iteration": 1018,
            "learn": [
             137.2491982
            ],
            "passed_time": 14.32310746,
            "remaining_time": 3.949747986,
            "test": [
             608.6881149
            ]
           },
           {
            "iteration": 1019,
            "learn": [
             137.2207448
            ],
            "passed_time": 14.33068241,
            "remaining_time": 3.933912818,
            "test": [
             608.6632796
            ]
           },
           {
            "iteration": 1020,
            "learn": [
             137.2142027
            ],
            "passed_time": 14.33741217,
            "remaining_time": 3.917862874,
            "test": [
             608.6661781
            ]
           },
           {
            "iteration": 1021,
            "learn": [
             137.2101367
            ],
            "passed_time": 14.34399058,
            "remaining_time": 3.901790001,
            "test": [
             608.670458
            ]
           },
           {
            "iteration": 1022,
            "learn": [
             137.0352662
            ],
            "passed_time": 14.35123457,
            "remaining_time": 3.88591591,
            "test": [
             608.6681407
            ]
           },
           {
            "iteration": 1023,
            "learn": [
             137.0178454
            ],
            "passed_time": 14.35851621,
            "remaining_time": 3.870068822,
            "test": [
             608.7125391
            ]
           },
           {
            "iteration": 1024,
            "learn": [
             137.0017995
            ],
            "passed_time": 14.36747033,
            "remaining_time": 3.854687161,
            "test": [
             608.755705
            ]
           },
           {
            "iteration": 1025,
            "learn": [
             136.8444741
            ],
            "passed_time": 14.38043123,
            "remaining_time": 3.840388066,
            "test": [
             608.7092117
            ]
           },
           {
            "iteration": 1026,
            "learn": [
             136.8354966
            ],
            "passed_time": 14.38817354,
            "remaining_time": 3.824704359,
            "test": [
             608.7084566
            ]
           },
           {
            "iteration": 1027,
            "learn": [
             136.6140438
            ],
            "passed_time": 14.3955675,
            "remaining_time": 3.808943929,
            "test": [
             608.7816249
            ]
           },
           {
            "iteration": 1028,
            "learn": [
             136.4726755
            ],
            "passed_time": 14.40918955,
            "remaining_time": 3.794840009,
            "test": [
             608.6113711
            ]
           },
           {
            "iteration": 1029,
            "learn": [
             136.3592443
            ],
            "passed_time": 14.41883275,
            "remaining_time": 3.779694021,
            "test": [
             608.6054174
            ]
           },
           {
            "iteration": 1030,
            "learn": [
             136.356581
            ],
            "passed_time": 14.43182612,
            "remaining_time": 3.765432808,
            "test": [
             608.6036423
            ]
           },
           {
            "iteration": 1031,
            "learn": [
             136.1231383
            ],
            "passed_time": 14.4398808,
            "remaining_time": 3.749891526,
            "test": [
             609.1823261
            ]
           },
           {
            "iteration": 1032,
            "learn": [
             136.1185798
            ],
            "passed_time": 14.44764061,
            "remaining_time": 3.734288521,
            "test": [
             609.1856815
            ]
           },
           {
            "iteration": 1033,
            "learn": [
             136.0991744
            ],
            "passed_time": 14.45526889,
            "remaining_time": 3.718666852,
            "test": [
             609.2881007
            ]
           },
           {
            "iteration": 1034,
            "learn": [
             135.8095695
            ],
            "passed_time": 14.46276808,
            "remaining_time": 3.703027575,
            "test": [
             609.0511255
            ]
           },
           {
            "iteration": 1035,
            "learn": [
             135.8000564
            ],
            "passed_time": 14.46985852,
            "remaining_time": 3.687299854,
            "test": [
             609.05717
            ]
           },
           {
            "iteration": 1036,
            "learn": [
             135.7192881
            ],
            "passed_time": 14.47665049,
            "remaining_time": 3.671513094,
            "test": [
             609.0946485
            ]
           },
           {
            "iteration": 1037,
            "learn": [
             135.573429
            ],
            "passed_time": 14.48358771,
            "remaining_time": 3.655780329,
            "test": [
             609.0686019
            ]
           },
           {
            "iteration": 1038,
            "learn": [
             135.4333821
            ],
            "passed_time": 14.49030478,
            "remaining_time": 3.64000919,
            "test": [
             609.1246985
            ]
           },
           {
            "iteration": 1039,
            "learn": [
             135.1708727
            ],
            "passed_time": 14.49756142,
            "remaining_time": 3.624390356,
            "test": [
             609.1035382
            ]
           },
           {
            "iteration": 1040,
            "learn": [
             135.1443209
            ],
            "passed_time": 14.50440798,
            "remaining_time": 3.608685558,
            "test": [
             609.1478987
            ]
           },
           {
            "iteration": 1041,
            "learn": [
             134.9753496
            ],
            "passed_time": 14.51153921,
            "remaining_time": 3.59306825,
            "test": [
             609.2026335
            ]
           },
           {
            "iteration": 1042,
            "learn": [
             134.9267264
            ],
            "passed_time": 14.51847921,
            "remaining_time": 3.577420092,
            "test": [
             609.1814061
            ]
           },
           {
            "iteration": 1043,
            "learn": [
             134.8171049
            ],
            "passed_time": 14.52594911,
            "remaining_time": 3.561918555,
            "test": [
             609.0870557
            ]
           },
           {
            "iteration": 1044,
            "learn": [
             134.5739222
            ],
            "passed_time": 14.53302204,
            "remaining_time": 3.546335523,
            "test": [
             609.0818205
            ]
           },
           {
            "iteration": 1045,
            "learn": [
             134.5711479
            ],
            "passed_time": 14.57475018,
            "remaining_time": 3.539184077,
            "test": [
             609.0827998
            ]
           },
           {
            "iteration": 1046,
            "learn": [
             134.3223701
            ],
            "passed_time": 14.59079628,
            "remaining_time": 3.525760706,
            "test": [
             609.0413673
            ]
           },
           {
            "iteration": 1047,
            "learn": [
             134.3083625
            ],
            "passed_time": 14.60850357,
            "remaining_time": 3.512731773,
            "test": [
             609.0636038
            ]
           },
           {
            "iteration": 1048,
            "learn": [
             134.302236
            ],
            "passed_time": 14.61831658,
            "remaining_time": 3.497805016,
            "test": [
             609.0515846
            ]
           },
           {
            "iteration": 1049,
            "learn": [
             134.2847655
            ],
            "passed_time": 14.62657241,
            "remaining_time": 3.482517241,
            "test": [
             609.0860135
            ]
           },
           {
            "iteration": 1050,
            "learn": [
             134.2249707
            ],
            "passed_time": 14.63477901,
            "remaining_time": 3.467231184,
            "test": [
             609.033112
            ]
           },
           {
            "iteration": 1051,
            "learn": [
             134.0215558
            ],
            "passed_time": 14.64178249,
            "remaining_time": 3.451674961,
            "test": [
             608.990318
            ]
           },
           {
            "iteration": 1052,
            "learn": [
             133.8538811
            ],
            "passed_time": 14.64882042,
            "remaining_time": 3.436143061,
            "test": [
             608.756627
            ]
           },
           {
            "iteration": 1053,
            "learn": [
             133.7915404
            ],
            "passed_time": 14.65614129,
            "remaining_time": 3.420693318,
            "test": [
             608.7514644
            ]
           },
           {
            "iteration": 1054,
            "learn": [
             133.7558842
            ],
            "passed_time": 14.66758622,
            "remaining_time": 3.406216704,
            "test": [
             608.7510639
            ]
           },
           {
            "iteration": 1055,
            "learn": [
             133.752832
            ],
            "passed_time": 14.67481661,
            "remaining_time": 3.390772021,
            "test": [
             608.7468664
            ]
           },
           {
            "iteration": 1056,
            "learn": [
             133.7451778
            ],
            "passed_time": 14.68626641,
            "remaining_time": 3.376312901,
            "test": [
             608.7457349
            ]
           },
           {
            "iteration": 1057,
            "learn": [
             133.7030861
            ],
            "passed_time": 14.69528018,
            "remaining_time": 3.361302271,
            "test": [
             608.7289655
            ]
           },
           {
            "iteration": 1058,
            "learn": [
             133.6754126
            ],
            "passed_time": 14.70279407,
            "remaining_time": 3.345961635,
            "test": [
             608.7967944
            ]
           },
           {
            "iteration": 1059,
            "learn": [
             133.6477495
            ],
            "passed_time": 14.70983607,
            "remaining_time": 3.330528923,
            "test": [
             608.8094534
            ]
           },
           {
            "iteration": 1060,
            "learn": [
             133.6110832
            ],
            "passed_time": 14.71706749,
            "remaining_time": 3.315154693,
            "test": [
             608.8251622
            ]
           },
           {
            "iteration": 1061,
            "learn": [
             133.5881955
            ],
            "passed_time": 14.7241606,
            "remaining_time": 3.299764805,
            "test": [
             608.8187827
            ]
           },
           {
            "iteration": 1062,
            "learn": [
             133.5447257
            ],
            "passed_time": 14.73217233,
            "remaining_time": 3.284595336,
            "test": [
             608.7641739
            ]
           },
           {
            "iteration": 1063,
            "learn": [
             133.4656316
            ],
            "passed_time": 14.74114736,
            "remaining_time": 3.269652986,
            "test": [
             608.7670667
            ]
           },
           {
            "iteration": 1064,
            "learn": [
             133.3793878
            ],
            "passed_time": 14.75101115,
            "remaining_time": 3.254917953,
            "test": [
             608.6052858
            ]
           },
           {
            "iteration": 1065,
            "learn": [
             133.18225
            ],
            "passed_time": 14.75860772,
            "remaining_time": 3.239694376,
            "test": [
             608.7373415
            ]
           },
           {
            "iteration": 1066,
            "learn": [
             133.1740725
            ],
            "passed_time": 14.76577673,
            "remaining_time": 3.224391732,
            "test": [
             608.7381728
            ]
           },
           {
            "iteration": 1067,
            "learn": [
             132.9285438
            ],
            "passed_time": 14.77484388,
            "remaining_time": 3.209516648,
            "test": [
             608.7990535
            ]
           },
           {
            "iteration": 1068,
            "learn": [
             132.8452318
            ],
            "passed_time": 14.7873025,
            "remaining_time": 3.195385292,
            "test": [
             608.8629555
            ]
           },
           {
            "iteration": 1069,
            "learn": [
             132.8346871
            ],
            "passed_time": 14.79660935,
            "remaining_time": 3.18057958,
            "test": [
             608.8694862
            ]
           },
           {
            "iteration": 1070,
            "learn": [
             132.8276634
            ],
            "passed_time": 14.80534639,
            "remaining_time": 3.1656623,
            "test": [
             608.8805669
            ]
           },
           {
            "iteration": 1071,
            "learn": [
             132.7721872
            ],
            "passed_time": 14.81402414,
            "remaining_time": 3.15074394,
            "test": [
             608.8781835
            ]
           },
           {
            "iteration": 1072,
            "learn": [
             132.6720581
            ],
            "passed_time": 14.82165435,
            "remaining_time": 3.135615598,
            "test": [
             608.8841786
            ]
           },
           {
            "iteration": 1073,
            "learn": [
             132.6461409
            ],
            "passed_time": 14.82928661,
            "remaining_time": 3.120501651,
            "test": [
             608.8975523
            ]
           },
           {
            "iteration": 1074,
            "learn": [
             132.6384812
            ],
            "passed_time": 14.83644494,
            "remaining_time": 3.10530243,
            "test": [
             608.8886686
            ]
           },
           {
            "iteration": 1075,
            "learn": [
             132.5746966
            ],
            "passed_time": 14.84503896,
            "remaining_time": 3.090417033,
            "test": [
             608.9146646
            ]
           },
           {
            "iteration": 1076,
            "learn": [
             132.5571612
            ],
            "passed_time": 14.85408117,
            "remaining_time": 3.07563612,
            "test": [
             608.9088594
            ]
           },
           {
            "iteration": 1077,
            "learn": [
             132.5486413
            ],
            "passed_time": 14.86204699,
            "remaining_time": 3.060644185,
            "test": [
             608.9022933
            ]
           },
           {
            "iteration": 1078,
            "learn": [
             132.3850484
            ],
            "passed_time": 14.86904605,
            "remaining_time": 3.045467264,
            "test": [
             608.8375763
            ]
           },
           {
            "iteration": 1079,
            "learn": [
             132.3278039
            ],
            "passed_time": 14.87651228,
            "remaining_time": 3.030400651,
            "test": [
             608.7830137
            ]
           },
           {
            "iteration": 1080,
            "learn": [
             132.3235734
            ],
            "passed_time": 14.88414259,
            "remaining_time": 3.015381338,
            "test": [
             608.7850126
            ]
           },
           {
            "iteration": 1081,
            "learn": [
             132.2359744
            ],
            "passed_time": 14.8923656,
            "remaining_time": 3.000495102,
            "test": [
             608.7740118
            ]
           },
           {
            "iteration": 1082,
            "learn": [
             132.229027
            ],
            "passed_time": 14.90259169,
            "remaining_time": 2.986022526,
            "test": [
             608.7652237
            ]
           },
           {
            "iteration": 1083,
            "learn": [
             132.2152863
            ],
            "passed_time": 14.91097329,
            "remaining_time": 2.97119025,
            "test": [
             608.7482369
            ]
           },
           {
            "iteration": 1084,
            "learn": [
             132.1507066
            ],
            "passed_time": 14.91853804,
            "remaining_time": 2.956207998,
            "test": [
             608.7563555
            ]
           },
           {
            "iteration": 1085,
            "learn": [
             132.1425483
            ],
            "passed_time": 14.926062,
            "remaining_time": 2.941231371,
            "test": [
             608.7563711
            ]
           },
           {
            "iteration": 1086,
            "learn": [
             132.1035281
            ],
            "passed_time": 14.93452746,
            "remaining_time": 2.926452942,
            "test": [
             608.7412459
            ]
           },
           {
            "iteration": 1087,
            "learn": [
             132.1020702
            ],
            "passed_time": 14.94142769,
            "remaining_time": 2.91138113,
            "test": [
             608.7432221
            ]
           },
           {
            "iteration": 1088,
            "learn": [
             131.4005283
            ],
            "passed_time": 14.94850504,
            "remaining_time": 2.896358644,
            "test": [
             608.3955778
            ]
           },
           {
            "iteration": 1089,
            "learn": [
             131.3446124
            ],
            "passed_time": 14.95555343,
            "remaining_time": 2.881345155,
            "test": [
             608.3715259
            ]
           },
           {
            "iteration": 1090,
            "learn": [
             131.2156269
            ],
            "passed_time": 14.96352171,
            "remaining_time": 2.866522492,
            "test": [
             608.3283742
            ]
           },
           {
            "iteration": 1091,
            "learn": [
             131.0971533
            ],
            "passed_time": 14.97154686,
            "remaining_time": 2.851723212,
            "test": [
             608.3762572
            ]
           },
           {
            "iteration": 1092,
            "learn": [
             131.0890878
            ],
            "passed_time": 14.97840283,
            "remaining_time": 2.8367149,
            "test": [
             608.3627856
            ]
           },
           {
            "iteration": 1093,
            "learn": [
             131.0785788
            ],
            "passed_time": 14.9856303,
            "remaining_time": 2.821791445,
            "test": [
             608.3675318
            ]
           },
           {
            "iteration": 1094,
            "learn": [
             131.0552359
            ],
            "passed_time": 14.99310396,
            "remaining_time": 2.806928139,
            "test": [
             608.3755478
            ]
           },
           {
            "iteration": 1095,
            "learn": [
             131.051421
            ],
            "passed_time": 15.00425613,
            "remaining_time": 2.792763003,
            "test": [
             608.3994908
            ]
           },
           {
            "iteration": 1096,
            "learn": [
             131.0458544
            ],
            "passed_time": 15.01134294,
            "remaining_time": 2.777851063,
            "test": [
             608.3885104
            ]
           },
           {
            "iteration": 1097,
            "learn": [
             130.9745379
            ],
            "passed_time": 15.01853784,
            "remaining_time": 2.762973265,
            "test": [
             608.5154837
            ]
           },
           {
            "iteration": 1098,
            "learn": [
             130.9715354
            ],
            "passed_time": 15.02515707,
            "remaining_time": 2.748004159,
            "test": [
             608.5190487
            ]
           },
           {
            "iteration": 1099,
            "learn": [
             130.9688715
            ],
            "passed_time": 15.03200149,
            "remaining_time": 2.73309118,
            "test": [
             608.5165877
            ]
           },
           {
            "iteration": 1100,
            "learn": [
             130.9536613
            ],
            "passed_time": 15.0393051,
            "remaining_time": 2.718275853,
            "test": [
             608.533544
            ]
           },
           {
            "iteration": 1101,
            "learn": [
             130.8875785
            ],
            "passed_time": 15.0474096,
            "remaining_time": 2.703618058,
            "test": [
             608.5392539
            ]
           },
           {
            "iteration": 1102,
            "learn": [
             130.3051828
            ],
            "passed_time": 15.05444812,
            "remaining_time": 2.688781759,
            "test": [
             608.470447
            ]
           },
           {
            "iteration": 1103,
            "learn": [
             130.3007156
            ],
            "passed_time": 15.06144281,
            "remaining_time": 2.673951802,
            "test": [
             608.4726864
            ]
           },
           {
            "iteration": 1104,
            "learn": [
             130.2827709
            ],
            "passed_time": 15.06850487,
            "remaining_time": 2.659147919,
            "test": [
             608.4608659
            ]
           },
           {
            "iteration": 1105,
            "learn": [
             130.2799068
            ],
            "passed_time": 15.07576243,
            "remaining_time": 2.644392325,
            "test": [
             608.4610183
            ]
           },
           {
            "iteration": 1106,
            "learn": [
             130.2148635
            ],
            "passed_time": 15.0830675,
            "remaining_time": 2.629658561,
            "test": [
             608.3481672
            ]
           },
           {
            "iteration": 1107,
            "learn": [
             130.1995046
            ],
            "passed_time": 15.09098558,
            "remaining_time": 2.615044432,
            "test": [
             608.3505004
            ]
           },
           {
            "iteration": 1108,
            "learn": [
             130.1934995
            ],
            "passed_time": 15.1034431,
            "remaining_time": 2.601224195,
            "test": [
             608.3725727
            ]
           },
           {
            "iteration": 1109,
            "learn": [
             130.141425
            ],
            "passed_time": 15.1240252,
            "remaining_time": 2.588797106,
            "test": [
             608.3780472
            ]
           },
           {
            "iteration": 1110,
            "learn": [
             130.1387132
            ],
            "passed_time": 15.14280444,
            "remaining_time": 2.57604864,
            "test": [
             608.3825452
            ]
           },
           {
            "iteration": 1111,
            "learn": [
             130.1053945
            ],
            "passed_time": 15.15176529,
            "remaining_time": 2.561629384,
            "test": [
             608.3900244
            ]
           },
           {
            "iteration": 1112,
            "learn": [
             130.1036163
            ],
            "passed_time": 15.16227026,
            "remaining_time": 2.54747937,
            "test": [
             608.3921767
            ]
           },
           {
            "iteration": 1113,
            "learn": [
             129.7480321
            ],
            "passed_time": 15.17549177,
            "remaining_time": 2.533789469,
            "test": [
             608.8040564
            ]
           },
           {
            "iteration": 1114,
            "learn": [
             129.7453914
            ],
            "passed_time": 15.18885117,
            "remaining_time": 2.520123288,
            "test": [
             608.8040529
            ]
           },
           {
            "iteration": 1115,
            "learn": [
             129.6733446
            ],
            "passed_time": 15.20234259,
            "remaining_time": 2.506479423,
            "test": [
             608.4192528
            ]
           },
           {
            "iteration": 1116,
            "learn": [
             129.4808029
            ],
            "passed_time": 15.21012112,
            "remaining_time": 2.491899879,
            "test": [
             608.4337432
            ]
           },
           {
            "iteration": 1117,
            "learn": [
             129.4794111
            ],
            "passed_time": 15.21914528,
            "remaining_time": 2.477535278,
            "test": [
             608.4366489
            ]
           },
           {
            "iteration": 1118,
            "learn": [
             129.3580745
            ],
            "passed_time": 15.22689141,
            "remaining_time": 2.462973499,
            "test": [
             608.7874024
            ]
           },
           {
            "iteration": 1119,
            "learn": [
             129.3502046
            ],
            "passed_time": 15.23393599,
            "remaining_time": 2.448311142,
            "test": [
             608.7949802
            ]
           },
           {
            "iteration": 1120,
            "learn": [
             129.3268402
            ],
            "passed_time": 15.2480483,
            "remaining_time": 2.434790942,
            "test": [
             608.8408087
            ]
           },
           {
            "iteration": 1121,
            "learn": [
             129.3164017
            ],
            "passed_time": 15.25714589,
            "remaining_time": 2.420474125,
            "test": [
             608.838477
            ]
           },
           {
            "iteration": 1122,
            "learn": [
             129.3010708
            ],
            "passed_time": 15.26426919,
            "remaining_time": 2.405855429,
            "test": [
             608.8372616
            ]
           },
           {
            "iteration": 1123,
            "learn": [
             129.300432
            ],
            "passed_time": 15.27128861,
            "remaining_time": 2.391233804,
            "test": [
             608.8365102
            ]
           },
           {
            "iteration": 1124,
            "learn": [
             129.2851986
            ],
            "passed_time": 15.2785919,
            "remaining_time": 2.376669851,
            "test": [
             608.8520975
            ]
           },
           {
            "iteration": 1125,
            "learn": [
             129.2725876
            ],
            "passed_time": 15.28583189,
            "remaining_time": 2.362109013,
            "test": [
             608.8433928
            ]
           },
           {
            "iteration": 1126,
            "learn": [
             129.1634104
            ],
            "passed_time": 15.29275852,
            "remaining_time": 2.347513065,
            "test": [
             609.0781793
            ]
           },
           {
            "iteration": 1127,
            "learn": [
             129.1623923
            ],
            "passed_time": 15.29991238,
            "remaining_time": 2.332965363,
            "test": [
             609.0781252
            ]
           },
           {
            "iteration": 1128,
            "learn": [
             129.1532246
            ],
            "passed_time": 15.3070561,
            "remaining_time": 2.318429224,
            "test": [
             609.0804928
            ]
           },
           {
            "iteration": 1129,
            "learn": [
             128.9604838
            ],
            "passed_time": 15.31449478,
            "remaining_time": 2.303950542,
            "test": [
             608.9603246
            ]
           },
           {
            "iteration": 1130,
            "learn": [
             128.8546751
            ],
            "passed_time": 15.32295969,
            "remaining_time": 2.289637654,
            "test": [
             608.8071565
            ]
           },
           {
            "iteration": 1131,
            "learn": [
             128.8362509
            ],
            "passed_time": 15.33292582,
            "remaining_time": 2.275557895,
            "test": [
             608.8222512
            ]
           },
           {
            "iteration": 1132,
            "learn": [
             128.827507
            ],
            "passed_time": 15.34176814,
            "remaining_time": 2.261319752,
            "test": [
             608.823082
            ]
           },
           {
            "iteration": 1133,
            "learn": [
             128.7948558
            ],
            "passed_time": 15.35073285,
            "remaining_time": 2.247109041,
            "test": [
             608.9301273
            ]
           },
           {
            "iteration": 1134,
            "learn": [
             128.7730125
            ],
            "passed_time": 15.3617161,
            "remaining_time": 2.233201019,
            "test": [
             608.9287414
            ]
           },
           {
            "iteration": 1135,
            "learn": [
             128.7716141
            ],
            "passed_time": 15.37120401,
            "remaining_time": 2.219082269,
            "test": [
             608.9312824
            ]
           },
           {
            "iteration": 1136,
            "learn": [
             128.7509147
            ],
            "passed_time": 15.38067924,
            "remaining_time": 2.204969847,
            "test": [
             608.9221837
            ]
           },
           {
            "iteration": 1137,
            "learn": [
             128.7224904
            ],
            "passed_time": 15.39079647,
            "remaining_time": 2.190956966,
            "test": [
             608.9282189
            ]
           },
           {
            "iteration": 1138,
            "learn": [
             128.711784
            ],
            "passed_time": 15.39865249,
            "remaining_time": 2.1766313,
            "test": [
             608.9311829
            ]
           },
           {
            "iteration": 1139,
            "learn": [
             128.6764665
            ],
            "passed_time": 15.40740034,
            "remaining_time": 2.162442152,
            "test": [
             608.9462416
            ]
           },
           {
            "iteration": 1140,
            "learn": [
             128.6687822
            ],
            "passed_time": 15.41830971,
            "remaining_time": 2.148563755,
            "test": [
             608.9604372
            ]
           },
           {
            "iteration": 1141,
            "learn": [
             128.6303173
            ],
            "passed_time": 15.42669629,
            "remaining_time": 2.134341518,
            "test": [
             608.9484618
            ]
           },
           {
            "iteration": 1142,
            "learn": [
             128.4313129
            ],
            "passed_time": 15.43619686,
            "remaining_time": 2.120282508,
            "test": [
             608.9106052
            ]
           },
           {
            "iteration": 1143,
            "learn": [
             128.4232939
            ],
            "passed_time": 15.44620676,
            "remaining_time": 2.106300922,
            "test": [
             608.9136379
            ]
           },
           {
            "iteration": 1144,
            "learn": [
             128.4198787
            ],
            "passed_time": 15.45445111,
            "remaining_time": 2.092087268,
            "test": [
             608.912118
            ]
           },
           {
            "iteration": 1145,
            "learn": [
             128.3373212
            ],
            "passed_time": 15.46256379,
            "remaining_time": 2.077866339,
            "test": [
             608.7685071
            ]
           },
           {
            "iteration": 1146,
            "learn": [
             128.3173699
            ],
            "passed_time": 15.46955693,
            "remaining_time": 2.063506722,
            "test": [
             608.7618414
            ]
           },
           {
            "iteration": 1147,
            "learn": [
             128.2204314
            ],
            "passed_time": 15.47678744,
            "remaining_time": 2.049191368,
            "test": [
             608.7695396
            ]
           },
           {
            "iteration": 1148,
            "learn": [
             128.1494067
            ],
            "passed_time": 15.48384268,
            "remaining_time": 2.034865312,
            "test": [
             608.769537
            ]
           },
           {
            "iteration": 1149,
            "learn": [
             128.1395681
            ],
            "passed_time": 15.49142464,
            "remaining_time": 2.020620606,
            "test": [
             608.766697
            ]
           },
           {
            "iteration": 1150,
            "learn": [
             128.0792423
            ],
            "passed_time": 15.50284993,
            "remaining_time": 2.006885005,
            "test": [
             608.7312908
            ]
           },
           {
            "iteration": 1151,
            "learn": [
             128.0760061
            ],
            "passed_time": 15.51030226,
            "remaining_time": 1.992642999,
            "test": [
             608.7343756
            ]
           },
           {
            "iteration": 1152,
            "learn": [
             128.0308863
            ],
            "passed_time": 15.5170838,
            "remaining_time": 1.978327249,
            "test": [
             608.7325553
            ]
           },
           {
            "iteration": 1153,
            "learn": [
             128.005825
            ],
            "passed_time": 15.52532986,
            "remaining_time": 1.964209843,
            "test": [
             608.7743374
            ]
           },
           {
            "iteration": 1154,
            "learn": [
             127.6447052
            ],
            "passed_time": 15.53283218,
            "remaining_time": 1.950009235,
            "test": [
             608.7831626
            ]
           },
           {
            "iteration": 1155,
            "learn": [
             127.6433061
            ],
            "passed_time": 15.54060148,
            "remaining_time": 1.935853472,
            "test": [
             608.7843618
            ]
           },
           {
            "iteration": 1156,
            "learn": [
             127.6384777
            ],
            "passed_time": 15.54796536,
            "remaining_time": 1.92165864,
            "test": [
             608.7940438
            ]
           },
           {
            "iteration": 1157,
            "learn": [
             127.6176477
            ],
            "passed_time": 15.55473751,
            "remaining_time": 1.907403045,
            "test": [
             608.7940443
            ]
           },
           {
            "iteration": 1158,
            "learn": [
             127.6090386
            ],
            "passed_time": 15.5999127,
            "remaining_time": 1.897832348,
            "test": [
             608.7997735
            ]
           },
           {
            "iteration": 1159,
            "learn": [
             127.6017914
            ],
            "passed_time": 15.61555144,
            "remaining_time": 1.884635519,
            "test": [
             608.8108248
            ]
           },
           {
            "iteration": 1160,
            "learn": [
             127.5723327
            ],
            "passed_time": 15.62995149,
            "remaining_time": 1.871286182,
            "test": [
             608.7865212
            ]
           },
           {
            "iteration": 1161,
            "learn": [
             127.5644962
            ],
            "passed_time": 15.64706163,
            "remaining_time": 1.858256889,
            "test": [
             608.7728478
            ]
           },
           {
            "iteration": 1162,
            "learn": [
             127.5628615
            ],
            "passed_time": 15.66348774,
            "remaining_time": 1.84514,
            "test": [
             608.7826843
            ]
           },
           {
            "iteration": 1163,
            "learn": [
             127.4976482
            ],
            "passed_time": 15.67061167,
            "remaining_time": 1.830930573,
            "test": [
             608.7529723
            ]
           },
           {
            "iteration": 1164,
            "learn": [
             127.4902725
            ],
            "passed_time": 15.67751557,
            "remaining_time": 1.816707812,
            "test": [
             608.6983205
            ]
           },
           {
            "iteration": 1165,
            "learn": [
             127.4784799
            ],
            "passed_time": 15.68493929,
            "remaining_time": 1.802557346,
            "test": [
             608.6909399
            ]
           },
           {
            "iteration": 1166,
            "learn": [
             127.4680281
            ],
            "passed_time": 15.69180188,
            "remaining_time": 1.788354456,
            "test": [
             608.6926459
            ]
           },
           {
            "iteration": 1167,
            "learn": [
             127.4618441
            ],
            "passed_time": 15.69865839,
            "remaining_time": 1.774163448,
            "test": [
             608.6875637
            ]
           },
           {
            "iteration": 1168,
            "learn": [
             127.34815
            ],
            "passed_time": 15.70586219,
            "remaining_time": 1.760023907,
            "test": [
             608.5142237
            ]
           },
           {
            "iteration": 1169,
            "learn": [
             127.3440181
            ],
            "passed_time": 15.71293418,
            "remaining_time": 1.745881576,
            "test": [
             608.5072676
            ]
           },
           {
            "iteration": 1170,
            "learn": [
             127.3364527
            ],
            "passed_time": 15.71976948,
            "remaining_time": 1.731725246,
            "test": [
             608.5125197
            ]
           },
           {
            "iteration": 1171,
            "learn": [
             127.2461028
            ],
            "passed_time": 15.72661531,
            "remaining_time": 1.71758256,
            "test": [
             608.510573
            ]
           },
           {
            "iteration": 1172,
            "learn": [
             127.065225
            ],
            "passed_time": 15.73576917,
            "remaining_time": 1.703702203,
            "test": [
             608.6533912
            ]
           },
           {
            "iteration": 1173,
            "learn": [
             127.0149616
            ],
            "passed_time": 15.7426887,
            "remaining_time": 1.689590099,
            "test": [
             608.6468674
            ]
           },
           {
            "iteration": 1174,
            "learn": [
             126.943477
            ],
            "passed_time": 15.75022395,
            "remaining_time": 1.675555739,
            "test": [
             608.625864
            ]
           },
           {
            "iteration": 1175,
            "learn": [
             126.8458872
            ],
            "passed_time": 15.75830057,
            "remaining_time": 1.661589516,
            "test": [
             608.7259776
            ]
           },
           {
            "iteration": 1176,
            "learn": [
             126.8246246
            ],
            "passed_time": 15.76533097,
            "remaining_time": 1.647523967,
            "test": [
             608.8024632
            ]
           },
           {
            "iteration": 1177,
            "learn": [
             126.7209727
            ],
            "passed_time": 15.77281618,
            "remaining_time": 1.633517465,
            "test": [
             608.8489725
            ]
           },
           {
            "iteration": 1178,
            "learn": [
             126.6323228
            ],
            "passed_time": 15.7802299,
            "remaining_time": 1.619514689,
            "test": [
             609.0401968
            ]
           },
           {
            "iteration": 1179,
            "learn": [
             126.6075505
            ],
            "passed_time": 15.78734779,
            "remaining_time": 1.605492995,
            "test": [
             609.0663494
            ]
           },
           {
            "iteration": 1180,
            "learn": [
             126.583068
            ],
            "passed_time": 15.79571067,
            "remaining_time": 1.591608442,
            "test": [
             608.9757976
            ]
           },
           {
            "iteration": 1181,
            "learn": [
             126.570048
            ],
            "passed_time": 15.80330594,
            "remaining_time": 1.5776566,
            "test": [
             608.9405005
            ]
           },
           {
            "iteration": 1182,
            "learn": [
             126.5018417
            ],
            "passed_time": 15.81104285,
            "remaining_time": 1.563729512,
            "test": [
             608.8383396
            ]
           },
           {
            "iteration": 1183,
            "learn": [
             126.4424972
            ],
            "passed_time": 15.8181343,
            "remaining_time": 1.549749644,
            "test": [
             608.8066154
            ]
           },
           {
            "iteration": 1184,
            "learn": [
             126.4089603
            ],
            "passed_time": 15.8250857,
            "remaining_time": 1.53576781,
            "test": [
             608.8058002
            ]
           },
           {
            "iteration": 1185,
            "learn": [
             126.3761382
            ],
            "passed_time": 15.83371289,
            "remaining_time": 1.521958911,
            "test": [
             608.7781145
            ]
           },
           {
            "iteration": 1186,
            "learn": [
             126.2674827
            ],
            "passed_time": 15.840762,
            "remaining_time": 1.508008514,
            "test": [
             608.6885378
            ]
           },
           {
            "iteration": 1187,
            "learn": [
             126.243361
            ],
            "passed_time": 15.84762875,
            "remaining_time": 1.494052542,
            "test": [
             608.7265522
            ]
           },
           {
            "iteration": 1188,
            "learn": [
             126.2422728
            ],
            "passed_time": 15.85516292,
            "remaining_time": 1.480170802,
            "test": [
             608.7261107
            ]
           },
           {
            "iteration": 1189,
            "learn": [
             126.1879575
            ],
            "passed_time": 15.86282791,
            "remaining_time": 1.466311823,
            "test": [
             608.7492494
            ]
           },
           {
            "iteration": 1190,
            "learn": [
             126.1804664
            ],
            "passed_time": 15.87044844,
            "remaining_time": 1.452459177,
            "test": [
             608.7493988
            ]
           },
           {
            "iteration": 1191,
            "learn": [
             126.1676039
            ],
            "passed_time": 15.87773512,
            "remaining_time": 1.438586739,
            "test": [
             608.7449154
            ]
           },
           {
            "iteration": 1192,
            "learn": [
             126.1639941
            ],
            "passed_time": 15.88633058,
            "remaining_time": 1.424842726,
            "test": [
             608.7449311
            ]
           },
           {
            "iteration": 1193,
            "learn": [
             126.1392959
            ],
            "passed_time": 15.893832,
            "remaining_time": 1.411010211,
            "test": [
             608.7454458
            ]
           },
           {
            "iteration": 1194,
            "learn": [
             126.0832779
            ],
            "passed_time": 15.90076667,
            "remaining_time": 1.397138494,
            "test": [
             608.7474978
            ]
           },
           {
            "iteration": 1195,
            "learn": [
             126.0733982
            ],
            "passed_time": 15.90775426,
            "remaining_time": 1.38328298,
            "test": [
             608.741755
            ]
           },
           {
            "iteration": 1196,
            "learn": [
             126.0630115
            ],
            "passed_time": 15.91799168,
            "remaining_time": 1.369718582,
            "test": [
             608.7555941
            ]
           },
           {
            "iteration": 1197,
            "learn": [
             126.0263082
            ],
            "passed_time": 15.92523321,
            "remaining_time": 1.355904664,
            "test": [
             608.7546006
            ]
           },
           {
            "iteration": 1198,
            "learn": [
             125.989278
            ],
            "passed_time": 15.93299139,
            "remaining_time": 1.34214523,
            "test": [
             608.7678043
            ]
           },
           {
            "iteration": 1199,
            "learn": [
             125.8375333
            ],
            "passed_time": 15.94025347,
            "remaining_time": 1.328354456,
            "test": [
             608.7642562
            ]
           },
           {
            "iteration": 1200,
            "learn": [
             125.7138162
            ],
            "passed_time": 15.94780356,
            "remaining_time": 1.314598295,
            "test": [
             608.7312594
            ]
           },
           {
            "iteration": 1201,
            "learn": [
             125.6026722
            ],
            "passed_time": 15.95582798,
            "remaining_time": 1.300891133,
            "test": [
             608.7253384
            ]
           },
           {
            "iteration": 1202,
            "learn": [
             125.4869146
            ],
            "passed_time": 15.96364723,
            "remaining_time": 1.287176876,
            "test": [
             608.5333376
            ]
           },
           {
            "iteration": 1203,
            "learn": [
             125.449761
            ],
            "passed_time": 15.97078614,
            "remaining_time": 1.273418164,
            "test": [
             608.5392196
            ]
           },
           {
            "iteration": 1204,
            "learn": [
             125.4179736
            ],
            "passed_time": 15.97888851,
            "remaining_time": 1.259746397,
            "test": [
             608.5153721
            ]
           },
           {
            "iteration": 1205,
            "learn": [
             125.1036225
            ],
            "passed_time": 15.98625733,
            "remaining_time": 1.246026691,
            "test": [
             608.5295345
            ]
           },
           {
            "iteration": 1206,
            "learn": [
             125.0931568
            ],
            "passed_time": 15.99352101,
            "remaining_time": 1.232309407,
            "test": [
             608.5198127
            ]
           },
           {
            "iteration": 1207,
            "learn": [
             125.0807111
            ],
            "passed_time": 16.00518654,
            "remaining_time": 1.218938048,
            "test": [
             608.5147178
            ]
           },
           {
            "iteration": 1208,
            "learn": [
             124.9783829
            ],
            "passed_time": 16.01315163,
            "remaining_time": 1.205290983,
            "test": [
             608.5849857
            ]
           },
           {
            "iteration": 1209,
            "learn": [
             124.9594168
            ],
            "passed_time": 16.02062649,
            "remaining_time": 1.191616847,
            "test": [
             608.5563129
            ]
           },
           {
            "iteration": 1210,
            "learn": [
             124.9470522
            ],
            "passed_time": 16.02915118,
            "remaining_time": 1.178030103,
            "test": [
             608.5566391
            ]
           },
           {
            "iteration": 1211,
            "learn": [
             124.4001492
            ],
            "passed_time": 16.03636993,
            "remaining_time": 1.164356893,
            "test": [
             608.7522887
            ]
           },
           {
            "iteration": 1212,
            "learn": [
             124.3558197
            ],
            "passed_time": 16.04428748,
            "remaining_time": 1.150744444,
            "test": [
             608.7380893
            ]
           },
           {
            "iteration": 1213,
            "learn": [
             124.323957
            ],
            "passed_time": 16.05176052,
            "remaining_time": 1.137109888,
            "test": [
             608.728589
            ]
           },
           {
            "iteration": 1214,
            "learn": [
             124.1724072
            ],
            "passed_time": 16.05895796,
            "remaining_time": 1.123466195,
            "test": [
             608.7342104
            ]
           },
           {
            "iteration": 1215,
            "learn": [
             124.0975489
            ],
            "passed_time": 16.06710261,
            "remaining_time": 1.109898535,
            "test": [
             608.7360142
            ]
           },
           {
            "iteration": 1216,
            "learn": [
             123.8383919
            ],
            "passed_time": 16.07658099,
            "remaining_time": 1.096430749,
            "test": [
             608.8646704
            ]
           },
           {
            "iteration": 1217,
            "learn": [
             123.7236944
            ],
            "passed_time": 16.0845547,
            "remaining_time": 1.082868215,
            "test": [
             608.8029542
            ]
           },
           {
            "iteration": 1218,
            "learn": [
             123.6579217
            ],
            "passed_time": 16.09242397,
            "remaining_time": 1.069307909,
            "test": [
             608.5827475
            ]
           },
           {
            "iteration": 1219,
            "learn": [
             123.6467789
            ],
            "passed_time": 16.10264738,
            "remaining_time": 1.055911304,
            "test": [
             608.5925332
            ]
           },
           {
            "iteration": 1220,
            "learn": [
             123.6460303
            ],
            "passed_time": 16.11095283,
            "remaining_time": 1.042395801,
            "test": [
             608.6332195
            ]
           },
           {
            "iteration": 1221,
            "learn": [
             123.6312164
            ],
            "passed_time": 16.12148122,
            "remaining_time": 1.029030716,
            "test": [
             608.6019485
            ]
           },
           {
            "iteration": 1222,
            "learn": [
             123.5544297
            ],
            "passed_time": 16.13317788,
            "remaining_time": 1.015743824,
            "test": [
             608.5129702
            ]
           },
           {
            "iteration": 1223,
            "learn": [
             123.4371011
            ],
            "passed_time": 16.16535126,
            "remaining_time": 1.00373096,
            "test": [
             608.5496643
            ]
           },
           {
            "iteration": 1224,
            "learn": [
             123.3633981
            ],
            "passed_time": 16.18787674,
            "remaining_time": 0.991094494,
            "test": [
             608.5324758
            ]
           },
           {
            "iteration": 1225,
            "learn": [
             123.351536
            ],
            "passed_time": 16.19922472,
            "remaining_time": 0.9777672342,
            "test": [
             608.5317357
            ]
           },
           {
            "iteration": 1226,
            "learn": [
             123.3271327
            ],
            "passed_time": 16.20985903,
            "remaining_time": 0.9644007407,
            "test": [
             608.5271221
            ]
           },
           {
            "iteration": 1227,
            "learn": [
             123.1721325
            ],
            "passed_time": 16.2190657,
            "remaining_time": 0.9509549921,
            "test": [
             608.5659302
            ]
           },
           {
            "iteration": 1228,
            "learn": [
             123.1285725
            ],
            "passed_time": 16.22899233,
            "remaining_time": 0.9375577342,
            "test": [
             608.6492339
            ]
           },
           {
            "iteration": 1229,
            "learn": [
             123.0369261
            ],
            "passed_time": 16.23839906,
            "remaining_time": 0.9241365318,
            "test": [
             608.810901
            ]
           },
           {
            "iteration": 1230,
            "learn": [
             123.0100774
            ],
            "passed_time": 16.24909384,
            "remaining_time": 0.9107940497,
            "test": [
             608.9669725
            ]
           },
           {
            "iteration": 1231,
            "learn": [
             122.9133071
            ],
            "passed_time": 16.25790722,
            "remaining_time": 0.8973520222,
            "test": [
             608.6473141
            ]
           },
           {
            "iteration": 1232,
            "learn": [
             122.8892022
            ],
            "passed_time": 16.27064655,
            "remaining_time": 0.8841308344,
            "test": [
             608.6332911
            ]
           },
           {
            "iteration": 1233,
            "learn": [
             122.884617
            ],
            "passed_time": 16.28082243,
            "remaining_time": 0.870773323,
            "test": [
             608.6302139
            ]
           },
           {
            "iteration": 1234,
            "learn": [
             122.8153349
            ],
            "passed_time": 16.29096534,
            "remaining_time": 0.8574192285,
            "test": [
             608.6601111
            ]
           },
           {
            "iteration": 1235,
            "learn": [
             122.7520908
            ],
            "passed_time": 16.29890978,
            "remaining_time": 0.8439564935,
            "test": [
             608.657929
            ]
           },
           {
            "iteration": 1236,
            "learn": [
             122.7133482
            ],
            "passed_time": 16.30682165,
            "remaining_time": 0.8305010217,
            "test": [
             608.6162683
            ]
           },
           {
            "iteration": 1237,
            "learn": [
             122.6445618
            ],
            "passed_time": 16.31456122,
            "remaining_time": 0.8170458768,
            "test": [
             608.6536545
            ]
           },
           {
            "iteration": 1238,
            "learn": [
             122.5102863
            ],
            "passed_time": 16.32178298,
            "remaining_time": 0.8035744648,
            "test": [
             608.536207
            ]
           },
           {
            "iteration": 1239,
            "learn": [
             122.3772961
            ],
            "passed_time": 16.32937491,
            "remaining_time": 0.790131044,
            "test": [
             608.6344143
            ]
           },
           {
            "iteration": 1240,
            "learn": [
             122.2573085
            ],
            "passed_time": 16.33951486,
            "remaining_time": 0.7768181923,
            "test": [
             608.6559079
            ]
           },
           {
            "iteration": 1241,
            "learn": [
             122.2536761
            ],
            "passed_time": 16.3477231,
            "remaining_time": 0.7634202415,
            "test": [
             608.6489587
            ]
           },
           {
            "iteration": 1242,
            "learn": [
             122.2333038
            ],
            "passed_time": 16.35733692,
            "remaining_time": 0.7500950963,
            "test": [
             608.6783004
            ]
           },
           {
            "iteration": 1243,
            "learn": [
             122.18271
            ],
            "passed_time": 16.36810657,
            "remaining_time": 0.7368279484,
            "test": [
             608.6433785
            ]
           },
           {
            "iteration": 1244,
            "learn": [
             122.1243574
            ],
            "passed_time": 16.37742259,
            "remaining_time": 0.7235005962,
            "test": [
             608.6787911
            ]
           },
           {
            "iteration": 1245,
            "learn": [
             122.1201293
            ],
            "passed_time": 16.38577886,
            "remaining_time": 0.7101380885,
            "test": [
             608.6781942
            ]
           },
           {
            "iteration": 1246,
            "learn": [
             121.8931695
            ],
            "passed_time": 16.39310525,
            "remaining_time": 0.696739838,
            "test": [
             608.7396252
            ]
           },
           {
            "iteration": 1247,
            "learn": [
             121.4591403
            ],
            "passed_time": 16.40010045,
            "remaining_time": 0.6833375187,
            "test": [
             608.670833
            ]
           },
           {
            "iteration": 1248,
            "learn": [
             121.3919289
            ],
            "passed_time": 16.40706399,
            "remaining_time": 0.6699441659,
            "test": [
             608.688868
            ]
           },
           {
            "iteration": 1249,
            "learn": [
             121.3881382
            ],
            "passed_time": 16.41538486,
            "remaining_time": 0.6566153943,
            "test": [
             608.6873969
            ]
           },
           {
            "iteration": 1250,
            "learn": [
             121.3219726
            ],
            "passed_time": 16.42554811,
            "remaining_time": 0.6433667923,
            "test": [
             608.7237426
            ]
           },
           {
            "iteration": 1251,
            "learn": [
             121.3056628
            ],
            "passed_time": 16.43314949,
            "remaining_time": 0.6300249006,
            "test": [
             608.7360506
            ]
           },
           {
            "iteration": 1252,
            "learn": [
             121.2923246
            ],
            "passed_time": 16.45218897,
            "remaining_time": 0.6171212145,
            "test": [
             608.3519018
            ]
           },
           {
            "iteration": 1253,
            "learn": [
             121.270325
            ],
            "passed_time": 16.46655142,
            "remaining_time": 0.6040361764,
            "test": [
             608.3115899
            ]
           },
           {
            "iteration": 1254,
            "learn": [
             121.2640145
            ],
            "passed_time": 16.47483512,
            "remaining_time": 0.5907311398,
            "test": [
             608.4275233
            ]
           },
           {
            "iteration": 1255,
            "learn": [
             121.2509391
            ],
            "passed_time": 16.4860983,
            "remaining_time": 0.5775384755,
            "test": [
             608.4237832
            ]
           },
           {
            "iteration": 1256,
            "learn": [
             121.1967011
            ],
            "passed_time": 16.49677655,
            "remaining_time": 0.5643288718,
            "test": [
             608.4504292
            ]
           },
           {
            "iteration": 1257,
            "learn": [
             121.1523184
            ],
            "passed_time": 16.50672281,
            "remaining_time": 0.5510988538,
            "test": [
             608.2782032
            ]
           },
           {
            "iteration": 1258,
            "learn": [
             121.1327255
            ],
            "passed_time": 16.51565369,
            "remaining_time": 0.5378409859,
            "test": [
             608.2866208
            ]
           },
           {
            "iteration": 1259,
            "learn": [
             121.0849092
            ],
            "passed_time": 16.52537337,
            "remaining_time": 0.5246150275,
            "test": [
             608.1692923
            ]
           },
           {
            "iteration": 1260,
            "learn": [
             121.0533531
            ],
            "passed_time": 16.53604683,
            "remaining_time": 0.5114241289,
            "test": [
             608.1631254
            ]
           },
           {
            "iteration": 1261,
            "learn": [
             121.0408808
            ],
            "passed_time": 16.54531375,
            "remaining_time": 0.4981948672,
            "test": [
             608.1606683
            ]
           },
           {
            "iteration": 1262,
            "learn": [
             121.0366602
            ],
            "passed_time": 16.55297453,
            "remaining_time": 0.4849248279,
            "test": [
             608.1546611
            ]
           },
           {
            "iteration": 1263,
            "learn": [
             121.019124
            ],
            "passed_time": 16.56144913,
            "remaining_time": 0.4716868423,
            "test": [
             608.1670822
            ]
           },
           {
            "iteration": 1264,
            "learn": [
             121.0152486
            ],
            "passed_time": 16.56968079,
            "remaining_time": 0.4584496662,
            "test": [
             608.1635886
            ]
           },
           {
            "iteration": 1265,
            "learn": [
             120.9669848
            ],
            "passed_time": 16.62545914,
            "remaining_time": 0.4464973228,
            "test": [
             608.1271964
            ]
           },
           {
            "iteration": 1266,
            "learn": [
             120.9633998
            ],
            "passed_time": 16.64489919,
            "remaining_time": 0.4335293395,
            "test": [
             608.1229793
            ]
           },
           {
            "iteration": 1267,
            "learn": [
             120.9546209
            ],
            "passed_time": 16.66495747,
            "remaining_time": 0.42056675,
            "test": [
             608.0752068
            ]
           },
           {
            "iteration": 1268,
            "learn": [
             120.8346046
            ],
            "passed_time": 16.6824176,
            "remaining_time": 0.407529508,
            "test": [
             608.083314
            ]
           },
           {
            "iteration": 1269,
            "learn": [
             120.8245375
            ],
            "passed_time": 16.69787114,
            "remaining_time": 0.3944379009,
            "test": [
             608.0857946
            ]
           },
           {
            "iteration": 1270,
            "learn": [
             120.8176197
            ],
            "passed_time": 16.70551045,
            "remaining_time": 0.3811642826,
            "test": [
             608.057739
            ]
           },
           {
            "iteration": 1271,
            "learn": [
             120.8146848
            ],
            "passed_time": 16.71758958,
            "remaining_time": 0.3679972548,
            "test": [
             608.0626809
            ]
           },
           {
            "iteration": 1272,
            "learn": [
             120.7453264
            ],
            "passed_time": 16.72762833,
            "remaining_time": 0.3547886606,
            "test": [
             608.1631998
            ]
           },
           {
            "iteration": 1273,
            "learn": [
             120.6879382
            ],
            "passed_time": 16.73659911,
            "remaining_time": 0.3415632471,
            "test": [
             608.1732223
            ]
           },
           {
            "iteration": 1274,
            "learn": [
             120.6079346
            ],
            "passed_time": 16.74947305,
            "remaining_time": 0.3284210401,
            "test": [
             608.3428616
            ]
           },
           {
            "iteration": 1275,
            "learn": [
             120.5943762
            ],
            "passed_time": 16.7612495,
            "remaining_time": 0.3152586112,
            "test": [
             608.3435123
            ]
           },
           {
            "iteration": 1276,
            "learn": [
             120.5895363
            ],
            "passed_time": 16.77176474,
            "remaining_time": 0.3020756374,
            "test": [
             608.3818026
            ]
           },
           {
            "iteration": 1277,
            "learn": [
             120.5499976
            ],
            "passed_time": 16.78054039,
            "remaining_time": 0.2888668925,
            "test": [
             608.3914625
            ]
           },
           {
            "iteration": 1278,
            "learn": [
             120.4828038
            ],
            "passed_time": 16.79036752,
            "remaining_time": 0.275682344,
            "test": [
             608.3275112
            ]
           },
           {
            "iteration": 1279,
            "learn": [
             120.4805767
            ],
            "passed_time": 16.80109109,
            "remaining_time": 0.2625170483,
            "test": [
             608.3246172
            ]
           },
           {
            "iteration": 1280,
            "learn": [
             120.4395149
            ],
            "passed_time": 16.81029561,
            "remaining_time": 0.249333034,
            "test": [
             608.1255374
            ]
           },
           {
            "iteration": 1281,
            "learn": [
             120.433504
            ],
            "passed_time": 16.82085218,
            "remaining_time": 0.2361742116,
            "test": [
             608.1227549
            ]
           },
           {
            "iteration": 1282,
            "learn": [
             120.4207659
            ],
            "passed_time": 16.83110051,
            "remaining_time": 0.2230153614,
            "test": [
             608.1255412
            ]
           },
           {
            "iteration": 1283,
            "learn": [
             120.4159083
            ],
            "passed_time": 16.84235438,
            "remaining_time": 0.2098735748,
            "test": [
             608.1199882
            ]
           },
           {
            "iteration": 1284,
            "learn": [
             120.3359872
            ],
            "passed_time": 16.85027418,
            "remaining_time": 0.1966958076,
            "test": [
             608.1269048
            ]
           },
           {
            "iteration": 1285,
            "learn": [
             120.3327566
            ],
            "passed_time": 16.85908609,
            "remaining_time": 0.1835359295,
            "test": [
             608.1231652
            ]
           },
           {
            "iteration": 1286,
            "learn": [
             120.3245457
            ],
            "passed_time": 16.86683247,
            "remaining_time": 0.1703720451,
            "test": [
             608.0944383
            ]
           },
           {
            "iteration": 1287,
            "learn": [
             120.3212591
            ],
            "passed_time": 16.87461885,
            "remaining_time": 0.1572169458,
            "test": [
             608.093016
            ]
           },
           {
            "iteration": 1288,
            "learn": [
             120.1693195
            ],
            "passed_time": 16.88242792,
            "remaining_time": 0.1440703701,
            "test": [
             608.137001
            ]
           },
           {
            "iteration": 1289,
            "learn": [
             120.066632
            ],
            "passed_time": 16.88995284,
            "remaining_time": 0.130929867,
            "test": [
             608.3078143
            ]
           },
           {
            "iteration": 1290,
            "learn": [
             120.0619662
            ],
            "passed_time": 16.89826531,
            "remaining_time": 0.1178035536,
            "test": [
             608.3235512
            ]
           },
           {
            "iteration": 1291,
            "learn": [
             120.0508726
            ],
            "passed_time": 16.90542873,
            "remaining_time": 0.1046775773,
            "test": [
             608.3155666
            ]
           },
           {
            "iteration": 1292,
            "learn": [
             119.9766429
            ],
            "passed_time": 16.912825,
            "remaining_time": 0.09156208433,
            "test": [
             608.2147608
            ]
           },
           {
            "iteration": 1293,
            "learn": [
             119.9694019
            ],
            "passed_time": 16.92367911,
            "remaining_time": 0.07847146418,
            "test": [
             608.224366
            ]
           },
           {
            "iteration": 1294,
            "learn": [
             119.7647462
            ],
            "passed_time": 16.93184833,
            "remaining_time": 0.06537393176,
            "test": [
             608.124554
            ]
           },
           {
            "iteration": 1295,
            "learn": [
             119.7496905
            ],
            "passed_time": 16.94215828,
            "remaining_time": 0.05229061197,
            "test": [
             608.1261908
            ]
           },
           {
            "iteration": 1296,
            "learn": [
             119.7291852
            ],
            "passed_time": 16.94953061,
            "remaining_time": 0.03920477396,
            "test": [
             608.1209739
            ]
           },
           {
            "iteration": 1297,
            "learn": [
             119.6642443
            ],
            "passed_time": 16.95954032,
            "remaining_time": 0.02613180326,
            "test": [
             608.1343313
            ]
           },
           {
            "iteration": 1298,
            "learn": [
             119.6593159
            ],
            "passed_time": 16.96630925,
            "remaining_time": 0.01306105408,
            "test": [
             608.1321717
            ]
           },
           {
            "iteration": 1299,
            "learn": [
             119.6373438
            ],
            "passed_time": 16.97388973,
            "remaining_time": 0,
            "test": [
             608.1101681
            ]
           }
          ],
          "meta": {
           "iteration_count": 1300,
           "launch_mode": "Train",
           "learn_metrics": [
            {
             "best_value": "Min",
             "name": "MAE"
            }
           ],
           "learn_sets": [
            "learn"
           ],
           "name": "experiment",
           "parameters": "",
           "test_metrics": [
            {
             "best_value": "Min",
             "name": "MAE"
            }
           ],
           "test_sets": [
            "test"
           ]
          }
         },
         "passed_iterations": 1299,
         "total_iterations": 1300
        },
        "name": "catboost_info",
        "path": "catboost_info"
       }
      },
      "layout": "IPY_MODEL_627e064d571d41ed804aeb02ebcb4d3c"
     }
    }
   }
  }
 },
 "nbformat": 4,
 "nbformat_minor": 5
}
